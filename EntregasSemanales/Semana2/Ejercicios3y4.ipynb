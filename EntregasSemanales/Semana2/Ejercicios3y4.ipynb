{
 "cells": [
  {
   "cell_type": "markdown",
   "metadata": {},
   "source": [
    "# Ejercicio 3  \n",
    "  \n",
    "  Dado tu número $m$ (de 30 cifras o mas) de la lista publicada: \n",
    "  \n",
    "  1. Calcula $a^{m-1} \\text{ mod }m$ para los 5 primeros primos. \n",
    "  2. Calcula el test de Solovay-Strassen para los 5 primeros primos. \n",
    "  3. Calcula el test de Miller-Rabin para esas 5 bases. \n",
    "  4. ¿Qué deduces sobre la primalidad de tu número?"
   ]
  },
  {
   "cell_type": "code",
   "execution_count": 1,
   "metadata": {},
   "outputs": [
    {
     "name": "stdout",
     "output_type": "stream",
     "text": [
      "493525498337311292187187890733"
     ]
    }
   ],
   "source": [
    "m=UInt128(493525498337311292187187890733)\n",
    "print(m)"
   ]
  },
  {
   "cell_type": "markdown",
   "metadata": {},
   "source": [
    "Vamos a volver a utilzar el algoritmo de exponenciación rápida por lo que lo recuperamos de los ejercicios anteriores.\n"
   ]
  },
  {
   "cell_type": "code",
   "execution_count": 13,
   "metadata": {},
   "outputs": [
    {
     "data": {
      "text/plain": [
       "exponenciacion_rapida_izda_dcha (generic function with 2 methods)"
      ]
     },
     "execution_count": 13,
     "metadata": {},
     "output_type": "execute_result"
    }
   ],
   "source": [
    "function exponenciacion_rapida_izda_dcha(a,exp,m,print=false)\n",
    "    \n",
    "    c=0\n",
    "    num_binario= string(exp; base=2)\n",
    "    acu=UInt128(1)\n",
    "    for i in num_binario\n",
    "        c=2*c\n",
    "        acu=mod(acu*acu,m)\n",
    "        \n",
    "        if i=='1'\n",
    "            c+=1\n",
    "            acu=mod(acu*a,m)\n",
    "        end\n",
    "    end\n",
    "    \n",
    "    println(acu)\n",
    "    \n",
    "    #base=a\n",
    "    #acu=1\n",
    "    #num=exp\n",
    "    #num_binario= string(num; base=2)\n",
    "    #contador=0\n",
    "    \n",
    "    #if print==true\n",
    "    #    println(\"Iteración: $contador\")\n",
    "    #    println(\"acu: $acu\")\n",
    "    #    println(\"\")\n",
    "    #end\n",
    "    \n",
    "    #println(num_binario)\n",
    "    \n",
    "    #for i in num_binario\n",
    "    #    if i!='0'\n",
    "    #        acu=mod(acu*base,m)\n",
    "    #    else\n",
    "    #        acu=mod(acu*acu,m)\n",
    "    #    end\n",
    "    #    contador+=1\n",
    "        \n",
    "    #    if print==true\n",
    "    #        println(\"Iteración: $contador\")\n",
    "    #        println(\"acu: $acu\")\n",
    "    #        println(\"\")\n",
    "    #    end\n",
    "        \n",
    "    #end\n",
    "    \n",
    "    println(\"El resultado es: $acu\")\n",
    "    \n",
    "end "
   ]
  },
  {
   "cell_type": "code",
   "execution_count": 3,
   "metadata": {},
   "outputs": [
    {
     "data": {
      "text/plain": [
       "exponenciacion_rapida_modificado (generic function with 1 method)"
      ]
     },
     "execution_count": 3,
     "metadata": {},
     "output_type": "execute_result"
    }
   ],
   "source": [
    "function exponenciacion_rapida_modificado(base,exp,m)\n",
    "    acu=1\n",
    "    \n",
    "    while exp>0 \n",
    "        if (exp&1)>0 \n",
    "            acu=mod(acu*base,m)\n",
    "        end\n",
    "        \n",
    "        exp>>=1\n",
    "        base=mod(base*base,m)\n",
    "        \n",
    "    end\n",
    "    \n",
    "    println(\"El resultado es: $acu\")\n",
    "end"
   ]
  },
  {
   "cell_type": "code",
   "execution_count": 4,
   "metadata": {},
   "outputs": [
    {
     "data": {
      "text/plain": [
       "LeftToRightFastExponential (generic function with 1 method)"
      ]
     },
     "execution_count": 4,
     "metadata": {},
     "output_type": "execute_result"
    }
   ],
   "source": [
    "function LeftToRightFastExponential(base::Integer, exp::Integer, p::Integer)\n",
    "    b = string(exp; base=2)\n",
    "    a = base\n",
    "    c = 0\n",
    "    acc = 1\n",
    "    n = p\n",
    "    for i in b\n",
    "        c = 2c\n",
    "        acc = mod(acc ^2, n)\n",
    "        if i == '1'\n",
    "            c += 1\n",
    "            acc = mod(acc*a, n )\n",
    "        end\n",
    "    end \n",
    "    return acc\n",
    "end"
   ]
  },
  {
   "cell_type": "markdown",
   "metadata": {},
   "source": [
    "A continuación procedemos a realizar el apartado 1 del ejercicio: "
   ]
  },
  {
   "cell_type": "code",
   "execution_count": 14,
   "metadata": {},
   "outputs": [
    {
     "name": "stdout",
     "output_type": "stream",
     "text": [
      "Probamos con la base 2\n",
      "\n",
      "370451876992022183240962688269\n",
      "El resultado es: 370451876992022183240962688269\n",
      "\n",
      "Probamos con la base 3\n",
      "\n",
      "27220512921535568681348253743\n",
      "El resultado es: 27220512921535568681348253743\n",
      "\n",
      "Probamos con la base 5\n",
      "\n",
      "231143509046847138349787593122\n",
      "El resultado es: 231143509046847138349787593122\n",
      "\n",
      "Probamos con la base 7\n",
      "\n",
      "399312995876123965721593899371\n",
      "El resultado es: 399312995876123965721593899371\n",
      "\n",
      "Probamos con la base 11\n",
      "\n",
      "196244356956516764507934348342\n",
      "El resultado es: 196244356956516764507934348342\n",
      "\n"
     ]
    }
   ],
   "source": [
    "primos = [2,3,5,7,11]\n",
    "\n",
    "for i in primos\n",
    "    println(\"Probamos con la base $i\")\n",
    "    println(\"\")\n",
    "    exponenciacion_rapida_izda_dcha(i,m-1,m) \n",
    "    println(\"\")\n",
    "end"
   ]
  },
  {
   "cell_type": "code",
   "execution_count": 6,
   "metadata": {},
   "outputs": [
    {
     "name": "stdout",
     "output_type": "stream",
     "text": [
      "Probamos con la base 2\n",
      "370451876992022183240962688269\n",
      "\n",
      "Probamos con la base 3\n",
      "27220512921535568681348253743\n",
      "\n",
      "Probamos con la base 5\n",
      "231143509046847138349787593122\n",
      "\n",
      "Probamos con la base 7\n",
      "399312995876123965721593899371\n",
      "\n",
      "Probamos con la base 11\n",
      "196244356956516764507934348342\n",
      "\n"
     ]
    }
   ],
   "source": [
    "for i in primos\n",
    "    println(\"Probamos con la base $i\")\n",
    "    a=LeftToRightFastExponential(i,m-1,m)\n",
    "    println(a)\n",
    "    println(\"\")\n",
    "end"
   ]
  },
  {
   "cell_type": "code",
   "execution_count": 16,
   "metadata": {},
   "outputs": [
    {
     "name": "stdout",
     "output_type": "stream",
     "text": [
      "38990326046585544632194808625458711529"
     ]
    }
   ],
   "source": [
    "m*m\n",
    "print(m*m)"
   ]
  },
  {
   "cell_type": "code",
   "execution_count": 17,
   "metadata": {},
   "outputs": [
    {
     "data": {
      "text/plain": [
       "243567417509091451029189733824137262642845420509069547277289"
      ]
     },
     "execution_count": 17,
     "metadata": {},
     "output_type": "execute_result"
    }
   ],
   "source": [
    "n=243567417509091451029189733824137262642845420509069547277289"
   ]
  },
  {
   "cell_type": "code",
   "execution_count": 18,
   "metadata": {},
   "outputs": [
    {
     "data": {
      "text/plain": [
       "243567417509091451029189733824137262642845420509069547277289"
      ]
     },
     "execution_count": 18,
     "metadata": {},
     "output_type": "execute_result"
    }
   ],
   "source": [
    "n"
   ]
  },
  {
   "cell_type": "code",
   "execution_count": null,
   "metadata": {},
   "outputs": [],
   "source": []
  }
 ],
 "metadata": {
  "kernelspec": {
   "display_name": "Julia 1.7.2",
   "language": "julia",
   "name": "julia-1.7"
  },
  "language_info": {
   "file_extension": ".jl",
   "mimetype": "application/julia",
   "name": "julia",
   "version": "1.7.2"
  }
 },
 "nbformat": 4,
 "nbformat_minor": 4
}
