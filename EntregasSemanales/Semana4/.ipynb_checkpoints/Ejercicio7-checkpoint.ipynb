{
 "cells": [
  {
   "cell_type": "markdown",
   "metadata": {},
   "source": [
    "# Ejercicio 7\n",
    "\n",
    "**Toma tu número n de la lista publicada para el ejercicio 3. Sea d el\n",
    "primer elemento de la sucesión 5, -7, 9, -11, 13, ... que satisface que el símbolo de\n",
    "Jacobi es (d|n) = -1.**"
   ]
  },
  {
   "cell_type": "code",
   "execution_count": 1,
   "metadata": {},
   "outputs": [],
   "source": [
    "n=493525498337311292187187890733\n",
    "\n",
    "from math import gcd\n",
    "\n",
    "def f(x):\n",
    "    return x*x+1\n",
    "\n",
    "def rho_de_polard(n,imprime=False): \n",
    "    x=1\n",
    "    y=1\n",
    "    contador=0\n",
    "    resultado=1\n",
    "    \n",
    "    if imprime:\n",
    "        print(\"Iteracion \", contador)\n",
    "        print(\"x: \",x,\" y:\",y , \" mcd: \", resultado)\n",
    "\n",
    "    while resultado==1 or resultado == n:\n",
    "        x=f(x)%n\n",
    "        y=f(f(y))%n\n",
    "        resultado=gcd(x-y,n)\n",
    "        contador+=1\n",
    "        \n",
    "        if imprime:\n",
    "            print(\"Iteracion \", contador)\n",
    "            print(\"x: \",x,\" y:\",y , \" mcd: \", resultado)\n",
    "        if 1<resultado<n:\n",
    "            return resultado\n",
    "    \n",
    "    return \"No hay divisores\"\n",
    "\n",
    "def exponenciacion_rapida_izda_dcha (a,exp,m,imprime=False):\n",
    "    c=0\n",
    "    num_binario= bin(exp)[2:]\n",
    "    acu=1\n",
    "    for i in num_binario:\n",
    "        c=2*c\n",
    "        acu=(acu*acu)%m\n",
    "        \n",
    "        if i=='1':\n",
    "            c+=1\n",
    "            acu=(acu*a)%m\n",
    "    \n",
    "    return acu\n",
    "\n",
    "def simbolo_jacobi(a,n):\n",
    "    t=1\n",
    "    m=abs(n)\n",
    "    b=a%m\n",
    "    \n",
    "    while a != 0:\n",
    "        while a%2==0:\n",
    "            a=a/2\n",
    "            if m%8==3 or m%8==5:\n",
    "                t=-t\n",
    "            \n",
    "        \n",
    "        aux=a\n",
    "        a=m\n",
    "        m=aux\n",
    "        if a%4==m%4==3:\n",
    "            t=-t\n",
    "         \n",
    "        \n",
    "        a=a%m\n",
    "        \n",
    "    \n",
    "        \n",
    "    if m==1:\n",
    "        return t\n",
    "    else: \n",
    "        return 0\n",
    "    \n",
    "        \n",
    "    \n"
   ]
  },
  {
   "cell_type": "markdown",
   "metadata": {},
   "source": [
    "Ahora vamos a tomar el elemento d: "
   ]
  },
  {
   "cell_type": "code",
   "execution_count": 5,
   "metadata": {},
   "outputs": [
    {
     "name": "stdout",
     "output_type": "stream",
     "text": [
      "El d obtenido es:  5\n"
     ]
    }
   ],
   "source": [
    "i=3\n",
    "contador=1\n",
    "d=0\n",
    "cambio_signo=False\n",
    "\n",
    "while simbolo_jacobi(d,n)!=-1: \n",
    "    i+=2\n",
    "    if contador%2==0:\n",
    "        d=-i\n",
    "    else:\n",
    "        d=i\n",
    "    contador+=1\n",
    "\n",
    "print(\"El d obtenido es: \", d)\n",
    "        "
   ]
  },
  {
   "cell_type": "markdown",
   "metadata": {},
   "source": [
    "**1. Con P = 1, Q = (1-d)/4, define el e.c. $\\alpha$ y sus sucesiones de Lucas asociadas.**"
   ]
  },
  {
   "cell_type": "markdown",
   "metadata": {},
   "source": [
    "En nuestro caso P=1 y Q=(1-5)/4=-1.\n",
    "\n",
    "Por otro lado $\\Delta= P^2-4Q=1+4=5$\n",
    "Y como Q es impar, tenemos que $\\alpha=\\frac{P+\\sqrt{\\Delta}}{2} = \\frac{1+\\sqrt{5}}{2}$\n",
    "\n",
    "Por otro lado las sucesiones de Lucas se definen como:\n",
    "\n",
    "$V_n=PV_{n-1}-QV_{n-2}=V_{n-1}+V_{n-2}$\n",
    "\n",
    "$U_n=PU_{n-1}-QU_{n-2}=U_{n-1}+U_{n-2}$\n",
    "\n",
    "Y como $\\alpha^i=\\frac{V_i}{2}+\\frac{U_i}{2}\\sqrt{\\Delta}$ tenemos que $V_0=2$, $U_0=0$, $V_1=P$, $U_1=1$ con lo que podemos empezar la recurrencia para calcular las sucesiones. \n",
    "\n",
    "El código para calcularlas es el siguiente:\n",
    "\n"
   ]
  },
  {
   "cell_type": "code",
   "execution_count": 8,
   "metadata": {},
   "outputs": [],
   "source": [
    "def sLucas(P,Q,l_max):\n",
    "    i=2\n",
    "    V=[2,P]\n",
    "    U=[0,1]\n",
    "    \n",
    "    while i<l_max: \n",
    "        V.append(P*V[i-1]-Q*V[i-2])\n",
    "        U.append(P*U[i-1]-Q*U[i-2])\n",
    "        i+=1\n",
    "    \n",
    "    return V,U\n",
    "    "
   ]
  },
  {
   "cell_type": "code",
   "execution_count": 12,
   "metadata": {},
   "outputs": [
    {
     "name": "stdout",
     "output_type": "stream",
     "text": [
      "[2, 1, 3, 4, 7, 11, 18, 29, 47, 76, 123, 199, 322, 521, 843, 1364, 2207, 3571, 5778, 9349, 15127, 24476, 39603, 64079, 103682, 167761, 271443, 439204, 710647, 1149851, 1860498, 3010349, 4870847, 7881196, 12752043, 20633239, 33385282, 54018521, 87403803, 141422324, 228826127, 370248451, 599074578, 969323029, 1568397607, 2537720636, 4106118243, 6643838879, 10749957122, 17393796001]\n",
      "[0, 1, 1, 2, 3, 5, 8, 13, 21, 34, 55, 89, 144, 233, 377, 610, 987, 1597, 2584, 4181, 6765, 10946, 17711, 28657, 46368, 75025, 121393, 196418, 317811, 514229, 832040, 1346269, 2178309, 3524578, 5702887, 9227465, 14930352, 24157817, 39088169, 63245986, 102334155, 165580141, 267914296, 433494437, 701408733, 1134903170, 1836311903, 2971215073, 4807526976, 7778742049]\n"
     ]
    }
   ],
   "source": [
    "u,v=sLucas(1,-1,50)\n",
    "print(u)\n",
    "print(v)"
   ]
  },
  {
   "cell_type": "code",
   "execution_count": null,
   "metadata": {},
   "outputs": [],
   "source": []
  }
 ],
 "metadata": {
  "kernelspec": {
   "display_name": "Python 3",
   "language": "python",
   "name": "python3"
  },
  "language_info": {
   "codemirror_mode": {
    "name": "ipython",
    "version": 3
   },
   "file_extension": ".py",
   "mimetype": "text/x-python",
   "name": "python",
   "nbconvert_exporter": "python",
   "pygments_lexer": "ipython3",
   "version": "3.8.10"
  }
 },
 "nbformat": 4,
 "nbformat_minor": 4
}
