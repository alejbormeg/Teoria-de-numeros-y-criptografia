{
 "cells": [
  {
   "cell_type": "markdown",
   "metadata": {},
   "source": [
    "# Ejercicio 7\n",
    "\n",
    "**Toma tu número n de la lista publicada para el ejercicio 3. Sea d el\n",
    "primer elemento de la sucesión 5, -7, 9, -11, 13, ... que satisface que el símbolo de\n",
    "Jacobi es (d|n) = -1.**"
   ]
  },
  {
   "cell_type": "code",
   "execution_count": 1,
   "metadata": {},
   "outputs": [],
   "source": [
    "n=493525498337311292187187890733\n",
    "\n",
    "from math import gcd\n",
    "\n",
    "def f(x):\n",
    "    return x*x+1\n",
    "\n",
    "def rho_de_polard(n,imprime=False): \n",
    "    x=1\n",
    "    y=1\n",
    "    contador=0\n",
    "    resultado=1\n",
    "    \n",
    "    if imprime:\n",
    "        print(\"Iteracion \", contador)\n",
    "        print(\"x: \",x,\" y:\",y , \" mcd: \", resultado)\n",
    "\n",
    "    while resultado==1 or resultado == n:\n",
    "        x=f(x)%n\n",
    "        y=f(f(y))%n\n",
    "        resultado=gcd(x-y,n)\n",
    "        contador+=1\n",
    "        \n",
    "        if imprime:\n",
    "            print(\"Iteracion \", contador)\n",
    "            print(\"x: \",x,\" y:\",y , \" mcd: \", resultado)\n",
    "        if 1<resultado<n:\n",
    "            return resultado\n",
    "    \n",
    "    return \"No hay divisores\"\n",
    "\n",
    "def exponenciacion_rapida_izda_dcha (a,exp,m,imprime=False):\n",
    "    c=0\n",
    "    num_binario= bin(exp)[2:]\n",
    "    acu=1\n",
    "    for i in num_binario:\n",
    "        c=2*c\n",
    "        acu=(acu*acu)%m\n",
    "        \n",
    "        if i=='1':\n",
    "            c+=1\n",
    "            acu=(acu*a)%m\n",
    "    \n",
    "    return acu\n",
    "\n",
    "def simbolo_jacobi(a,n):\n",
    "    t=1\n",
    "    m=abs(n)\n",
    "    b=a%m\n",
    "    \n",
    "    while a != 0:\n",
    "        while a%2==0:\n",
    "            a=a/2\n",
    "            if m%8==3 or m%8==5:\n",
    "                t=-t\n",
    "            \n",
    "        \n",
    "        aux=a\n",
    "        a=m\n",
    "        m=aux\n",
    "        if a%4==m%4==3:\n",
    "            t=-t\n",
    "         \n",
    "        \n",
    "        a=a%m\n",
    "        \n",
    "    \n",
    "        \n",
    "    if m==1:\n",
    "        return t\n",
    "    else: \n",
    "        return 0\n",
    "    \n",
    "        \n",
    "    \n"
   ]
  },
  {
   "cell_type": "markdown",
   "metadata": {},
   "source": [
    "Ahora vamos a tomar el elemento d: "
   ]
  },
  {
   "cell_type": "code",
   "execution_count": 2,
   "metadata": {},
   "outputs": [
    {
     "name": "stdout",
     "output_type": "stream",
     "text": [
      "El d obtenido es:  5\n"
     ]
    }
   ],
   "source": [
    "i=3\n",
    "contador=1\n",
    "d=0\n",
    "cambio_signo=False\n",
    "\n",
    "while simbolo_jacobi(d,n)!=-1: \n",
    "    i+=2\n",
    "    if contador%2==0:\n",
    "        d=-i\n",
    "    else:\n",
    "        d=i\n",
    "    contador+=1\n",
    "\n",
    "print(\"El d obtenido es: \", d)\n",
    "        "
   ]
  },
  {
   "cell_type": "markdown",
   "metadata": {},
   "source": [
    "**1. Con P = 1, Q = (1-d)/4, define el e.c. $\\alpha$ y sus sucesiones de Lucas asociadas.**"
   ]
  },
  {
   "cell_type": "markdown",
   "metadata": {},
   "source": [
    "En nuestro caso P=1 y Q=(1-5)/4=-1.\n",
    "\n",
    "Por otro lado $\\Delta= P^2-4Q=1+4=5$\n",
    "Y como Q es impar, tenemos que $\\alpha=\\frac{P+\\sqrt{\\Delta}}{2} = \\frac{1+\\sqrt{5}}{2}$\n",
    "\n",
    "Por otro lado las sucesiones de Lucas se definen como:\n",
    "\n",
    "$V_n=PV_{n-1}-QV_{n-2}=V_{n-1}+V_{n-2}$\n",
    "\n",
    "$U_n=PU_{n-1}-QU_{n-2}=U_{n-1}+U_{n-2}$\n",
    "\n",
    "Y como $\\alpha^i=\\frac{V_i}{2}+\\frac{U_i}{2}\\sqrt{\\Delta}$ tenemos que $V_0=2$, $U_0=0$, $V_1=P$, $U_1=1$ con lo que podemos empezar la recurrencia para calcular las sucesiones. \n",
    "\n",
    "El código para calcularlas es el siguiente:\n",
    "\n"
   ]
  },
  {
   "cell_type": "code",
   "execution_count": 3,
   "metadata": {},
   "outputs": [],
   "source": [
    "def sLucas(P,Q,l_max):\n",
    "    i=2\n",
    "    V=[2,P]\n",
    "    U=[0,1]\n",
    "    \n",
    "    while i<l_max: \n",
    "        V.append(P*V[i-1]-Q*V[i-2])\n",
    "        U.append(P*U[i-1]-Q*U[i-2])\n",
    "        i+=1\n",
    "    \n",
    "    return V,U\n",
    "    "
   ]
  },
  {
   "cell_type": "markdown",
   "metadata": {},
   "source": [
    "A modo de ejemplo vamos a calcular algunos elementos de las sucesiones de Lucas."
   ]
  },
  {
   "cell_type": "code",
   "execution_count": 4,
   "metadata": {},
   "outputs": [
    {
     "name": "stdout",
     "output_type": "stream",
     "text": [
      "Sucesion U: [2, 1, 3, 4, 7, 11, 18, 29, 47, 76, 123, 199, 322, 521, 843, 1364, 2207, 3571, 5778, 9349, 15127, 24476, 39603, 64079, 103682, 167761, 271443, 439204, 710647, 1149851, 1860498, 3010349, 4870847, 7881196, 12752043, 20633239, 33385282, 54018521, 87403803, 141422324, 228826127, 370248451, 599074578, 969323029, 1568397607, 2537720636, 4106118243, 6643838879, 10749957122, 17393796001]\n",
      "\n",
      "Sucesion V: [0, 1, 1, 2, 3, 5, 8, 13, 21, 34, 55, 89, 144, 233, 377, 610, 987, 1597, 2584, 4181, 6765, 10946, 17711, 28657, 46368, 75025, 121393, 196418, 317811, 514229, 832040, 1346269, 2178309, 3524578, 5702887, 9227465, 14930352, 24157817, 39088169, 63245986, 102334155, 165580141, 267914296, 433494437, 701408733, 1134903170, 1836311903, 2971215073, 4807526976, 7778742049]\n"
     ]
    }
   ],
   "source": [
    "u,v=sLucas(1,-1,50)\n",
    "print(\"Sucesion U:\",u)\n",
    "print()\n",
    "print(\"Sucesion V:\",v)"
   ]
  },
  {
   "cell_type": "markdown",
   "metadata": {},
   "source": [
    "**2. Si n primo ¿Que debería de pasarle a $V_r$ , $U_r$ , módulo n? ¿Y a $V_{\\frac{r}{2}} , U_{\\frac{r}{2}}$? Calcula los términos $V_{\\frac{r}{2}}$ , $U_{\\frac{r}{2}}$ , $V_r$ , $U_r$ , módulo n, de las sucesiones de Lucas. ¿ Tu n verifica el TPF para el entero cuadrático $\\alpha$ ?**"
   ]
  },
  {
   "cell_type": "markdown",
   "metadata": {},
   "source": [
    "Si n fuese primo, por la Tercera Versión del TPF para e.c se tendría que: \n",
    "\n",
    "$U_r=U_{n-(\\frac{\\Delta}{n})}=U_{n+1}=0 \\; mod \\; n$\n",
    "\n",
    "$V_r=V_{n-(\\frac{\\Delta}{n})}=V_{n+1}=2Q \\; mod \\; n= -2 \\; mod \\; n$ En nuestro caso\n",
    "\n",
    "Por otro lado si tenemos en cuenta las siguientes propiedades: \n",
    "\n",
    "$U_{2k}=U_kV_k$\n",
    "\n",
    "$V_{2k}=V_k^2-2Q^k$\n",
    "\n",
    "Si en la última expresión sustituimos $K=\\frac{r}{2}$ obtenemos: \n",
    "\n",
    "\n",
    "$U_{r}=U_{\\frac{r}{2}}V_{\\frac{r}{2}} \\implies U_{\\frac{r}{2}}=\\frac{U_{r}}{V_{\\frac{r}{2}}}$\n",
    "\n",
    "$V_{r}=V_{\\frac{r}{2}}^2-2Q^{\\frac{r}{2}}=V_{\\frac{r}{2}}^2-2(-1)^{\\frac{r}{2}} \\implies V_{\\frac{r}{2}}^2=V_{r}+2(-1)^{\\frac{r}{2}}$\n",
    "\n",
    "Como $r=n+1$ tendríamos que $r=493525498337311292187187890734$ y $\\frac{r}{2}=246762749168655646093593945367$. \n",
    "\n",
    "El cálculo de los términos de las sucesiones de Lucas que se piden se harán con la siguiente función: "
   ]
  },
  {
   "cell_type": "code",
   "execution_count": 5,
   "metadata": {},
   "outputs": [],
   "source": [
    "def sLucas_modificado(P,Q,r,n):\n",
    "    U_0=0\n",
    "    U_1=1\n",
    "    V=0\n",
    "    k=0\n",
    "    aux1=0\n",
    "    aux2=0\n",
    "    num_binario= bin(r)[2:]\n",
    "    for i in num_binario:\n",
    "        if i=='0':\n",
    "            aux1=(2*U_0*U_1-P*U_0**2)%n\n",
    "            aux2=(U_1**2-Q*U_0**2)%n\n",
    "            U_0=aux1\n",
    "            U_1=aux2\n",
    "\n",
    "        if i=='1':\n",
    "            aux1=(U_1**2-Q*U_0**2)%n\n",
    "            aux2=(P*U_1**2-2*Q*U_0*U_1)%n\n",
    "            U_0=aux1\n",
    "            U_1=aux2\n",
    "            \n",
    "    V=(2*U_1-P*U_0)%n\n",
    "\n",
    "    \n",
    "    return U_0,U_1,V\n",
    "    "
   ]
  },
  {
   "cell_type": "code",
   "execution_count": 6,
   "metadata": {},
   "outputs": [
    {
     "name": "stdout",
     "output_type": "stream",
     "text": [
      "Sucesion U_r: 0\n",
      "\n",
      "Sucesion V_r: 493525498337311292187187890731\n"
     ]
    }
   ],
   "source": [
    "r=n+1\n",
    "P=1\n",
    "Q=-1\n",
    "un,a,v=sLucas_modificado(P,Q,r,n)\n",
    "print(\"Sucesion U_r:\",un)\n",
    "print()\n",
    "print(\"Sucesion V_r:\",v)"
   ]
  },
  {
   "cell_type": "code",
   "execution_count": 7,
   "metadata": {
    "scrolled": true
   },
   "outputs": [
    {
     "name": "stdout",
     "output_type": "stream",
     "text": [
      "Sucesion U_r/2: 0\n",
      "\n",
      "Sucesion V_r/2: 9946914345835076827126948756\n"
     ]
    }
   ],
   "source": [
    "un,a,v=sLucas_modificado(P,Q,r//2,n)\n",
    "print(\"Sucesion U_r/2:\",un)\n",
    "print()\n",
    "print(\"Sucesion V_r/2:\",v)"
   ]
  },
  {
   "cell_type": "markdown",
   "metadata": {},
   "source": [
    "Como podemos ver el número $n$ verifica el TP, pues $V_r \\equiv 2Q \\; mod \\; n$ y $U_r \\equiv 0 \\; mod \\; n$."
   ]
  },
  {
   "cell_type": "markdown",
   "metadata": {},
   "source": [
    "**3. Factoriza r = n+1 y para cada factor primo p suyo, calcula $U_{r/p}$ .\n",
    "¿ Cuál es el rango de Lucas w(n) ?. ¿ Qué deduces sobre la primalidad de tu n ?**"
   ]
  },
  {
   "cell_type": "code",
   "execution_count": 8,
   "metadata": {},
   "outputs": [],
   "source": [
    "primos_4_cifras=[2, 3, 5, 7, 11, 13, 17, 19, 23, 29, 31, 37, 41, 43, 47, 53, 59, 61, 67, 71, 73, 79,\n",
    "83, 89, 97, 101, 103, 107, 109, 113, 127, 131, 137, 139, 149, 151, 157, 163,\n",
    "167, 173, 179, 181, 191, 193, 197, 199, 211, 223, 227, 229, 233, 239, 241, 251,\n",
    "257, 263, 269, 271, 277, 281, 283, 293, 307, 311, 313, 317, 331, 337, 347, 349,\n",
    "353, 359, 367, 373, 379, 383, 389, 397, 401, 409, 419, 421, 431, 433, 439, 443,\n",
    "449, 457, 461, 463, 467, 479, 487, 491, 499, 503, 509, 521, 523, 541, 547, 557,\n",
    "563, 569, 571, 577, 587, 593, 599, 601, 607, 613, 617, 619, 631, 641, 643,\n",
    "647, 653, 659, 661, 673, 677, 683, 691, 701, 709, 719, 727, 733, 739, 743,\n",
    "751, 757, 761, 769, 773, 787, 797, 809, 811, 821, 823, 827, 829, 839, 853,\n",
    "857, 859, 863, 877, 881, 883, 887, 907, 911, 919, 929, 937, 941, 947, 953,\n",
    "967, 971, 977, 983, 991, 997, 1009, 1013, 1019, 1021, 1031, 1033, 1039, 1049,\n",
    "1051, 1061, 1063, 1069, 1087, 1091, 1093, 1097, 1103, 1109, 1117, 1123, 1129,\n",
    "1151, 1153, 1163, 1171, 1181, 1187, 1193, 1201, 1213, 1217, 1223, 1229, 1231,\n",
    "1237, 1249, 1259, 1277, 1279, 1283, 1289, 1291, 1297, 1301, 1303, 1307, 1319,\n",
    "1321, 1327, 1361, 1367, 1373, 1381, 1399, 1409, 1423, 1427, 1429, 1433, 1439,\n",
    "1447, 1451, 1453, 1459, 1471, 1481, 1483, 1487, 1489, 1493, 1499, 1511, 1523,\n",
    "1531, 1543, 1549, 1553, 1559, 1567, 1571, 1579, 1583, 1597, 1601, 1607, 1609,\n",
    "1613, 1619, 1621, 1627, 1637, 1657, 1663, 1667, 1669, 1693, 1697, 1699, 1709,\n",
    "1721, 1723, 1733, 1741, 1747, 1753, 1759, 1777, 1783, 1787, 1789, 1801, 1811,\n",
    "1823, 1831, 1847, 1861, 1867, 1871, 1873, 1877, 1879, 1889, 1901, 1907, 1913,\n",
    "1931, 1933, 1949, 1951, 1973, 1979, 1987, 1993, 1997, 1999, 2003, 2011, 2017,\n",
    "2027, 2029, 2039, 2053, 2063, 2069, 2081, 2083, 2087, 2089, 2099, 2111, 2113,\n",
    "2129, 2131, 2137, 2141, 2143, 2153, 2161, 2179, 2203, 2207, 2213, 2221, 2237,\n",
    "2239, 2243, 2251, 2267, 2269, 2273, 2281, 2287, 2293, 2297, 2309, 2311, 2333,\n",
    "2339, 2341, 2347, 2351, 2357, 2371, 2377, 2381, 2383, 2389, 2393, 2399, 2411,\n",
    "2417, 2423, 2437, 2441, 2447, 2459, 2467, 2473, 2477, 2503, 2521, 2531, 2539,\n",
    "2543, 2549, 2551, 2557, 2579, 2591, 2593, 2609, 2617, 2621, 2633, 2647, 2657,\n",
    "2659, 2663, 2671, 2677, 2683, 2687, 2689, 2693, 2699, 2707, 2711, 2713, 2719,\n",
    "2729, 2731, 2741, 2749, 2753, 2767, 2777, 2789, 2791, 2797, 2801, 2803, 2819,\n",
    "2833, 2837, 2843, 2851, 2857, 2861, 2879, 2887, 2897, 2903, 2909, 2917, 2927,\n",
    "2939, 2953, 2957, 2963, 2969, 2971, 2999, 3001, 3011, 3019, 3023, 3037, 3041,\n",
    "3049, 3061, 3067, 3079, 3083, 3089, 3109, 3119, 3121, 3137, 3163, 3167, 3169,\n",
    "3181, 3187, 3191, 3203, 3209, 3217, 3221, 3229, 3251, 3253, 3257, 3259, 3271,\n",
    "3299, 3301, 3307, 3313, 3319, 3323, 3329, 3331, 3343, 3347, 3359, 3361, 3371,\n",
    "3373, 3389, 3391, 3407, 3413, 3433, 3449, 3457, 3461, 3463, 3467, 3469, 3491,\n",
    "3499, 3511, 3517, 3527, 3529, 3533, 3539, 3541, 3547, 3557, 3559, 3571, 3581,\n",
    "3583, 3593, 3607, 3613, 3617, 3623, 3631, 3637, 3643, 3659, 3671, 3673, 3677,\n",
    "3691, 3697, 3701, 3709, 3719, 3727, 3733, 3739, 3761, 3767, 3769, 3779, 3793,\n",
    "3797, 3803, 3821, 3823, 3833, 3847, 3851, 3853, 3863, 3877, 3881, 3889, 3907,\n",
    "3911, 3917, 3919, 3923, 3929, 3931, 3943, 3947, 3967, 3989, 4001, 4003, 4007,\n",
    "4013, 4019, 4021, 4027, 4049, 4051, 4057, 4073, 4079, 4091, 4093, 4099, 4111,\n",
    "4127, 4129, 4133, 4139, 4153, 4157, 4159, 4177, 4201, 4211, 4217, 4219, 4229,\n",
    "4231, 4241, 4243, 4253, 4259, 4261, 4271, 4273, 4283, 4289, 4297, 4327, 4337,\n",
    "4339, 4349, 4357, 4363, 4373, 4391, 4397, 4409, 4421, 4423, 4441, 4447, 4451,\n",
    "4457, 4463, 4481, 4483, 4493, 4507, 4513, 4517, 4519, 4523, 4547, 4549, 4561,\n",
    "4567, 4583, 4591, 4597, 4603, 4621, 4637, 4639, 4643, 4649, 4651, 4657, 4663,\n",
    "4673, 4679, 4691, 4703, 4721, 4723, 4729, 4733, 4751, 4759, 4783, 4787, 4789,\n",
    "4793, 4799, 4801, 4813, 4817, 4831, 4861, 4871, 4877, 4889, 4903, 4909, 4919,\n",
    "4931, 4933, 4937, 4943, 4951, 4957, 4967, 4969, 4973, 4987, 4993, 4999, 5003,\n",
    "5009, 5011, 5021, 5023, 5039, 5051, 5059, 5077, 5081, 5087, 5099, 5101, 5107,\n",
    "5113, 5119, 5147, 5153, 5167, 5171, 5179, 5189, 5197, 5209, 5227, 5231, 5233,\n",
    "5237, 5261, 5273, 5279, 5281, 5297, 5303, 5309, 5323, 5333, 5347, 5351, 5381,\n",
    "5387, 5393, 5399, 5407, 5413, 5417, 5419, 5431, 5437, 5441, 5443, 5449, 5471,\n",
    "5477, 5479, 5483, 5501, 5503, 5507, 5519, 5521, 5527, 5531, 5557, 5563, 5569,\n",
    "5573, 5581, 5591, 5623, 5639, 5641, 5647, 5651, 5653, 5657, 5659, 5669, 5683,\n",
    "5689, 5693, 5701, 5711, 5717, 5737, 5741, 5743, 5749, 5779, 5783, 5791, 5801,\n",
    "5807, 5813, 5821, 5827, 5839, 5843, 5849, 5851, 5857, 5861, 5867, 5869, 5879,\n",
    "5881, 5897, 5903, 5923, 5927, 5939, 5953, 5981, 5987, 6007, 6011, 6029, 6037,\n",
    "6043, 6047, 6053, 6067, 6073, 6079, 6089, 6091, 6101, 6113, 6121, 6131, 6133,\n",
    "6143, 6151, 6163, 6173, 6197, 6199, 6203, 6211, 6217, 6221, 6229, 6247, 6257,\n",
    "6263, 6269, 6271, 6277, 6287, 6299, 6301, 6311, 6317, 6323, 6329, 6337, 6343,\n",
    "6353, 6359, 6361, 6367, 6373, 6379, 6389, 6397, 6421, 6427, 6449, 6451, 6469,\n",
    "6473, 6481, 6491, 6521, 6529, 6547, 6551, 6553, 6563, 6569, 6571, 6577, 6581,\n",
    "6599, 6607, 6619, 6637, 6653, 6659, 6661, 6673, 6679, 6689, 6691, 6701, 6703,\n",
    "6709, 6719, 6733, 6737, 6761, 6763, 6779, 6781, 6791, 6793, 6803, 6823, 6827,\n",
    "6829, 6833, 6841, 6857, 6863, 6869, 6871, 6883, 6899, 6907, 6911, 6917, 6947,\n",
    "6949, 6959, 6961, 6967, 6971, 6977, 6983, 6991, 6997, 7001, 7013, 7019, 7027,\n",
    "7039, 7043, 7057, 7069, 7079, 7103, 7109, 7121, 7127, 7129, 7151, 7159, 7177,\n",
    "7187, 7193, 7207, 7211, 7213, 7219, 7229, 7237, 7243, 7247, 7253, 7283, 7297,\n",
    "7307, 7309, 7321, 7331, 7333, 7349, 7351, 7369, 7393, 7411, 7417, 7433, 7451,\n",
    "7457, 7459, 7477, 7481, 7487, 7489, 7499, 7507, 7517, 7523, 7529, 7537, 7541,\n",
    "7547, 7549, 7559, 7561, 7573, 7577, 7583, 7589, 7591, 7603, 7607, 7621, 7639,\n",
    "7643, 7649, 7669, 7673, 7681, 7687, 7691, 7699, 7703, 7717, 7723, 7727, 7741,\n",
    "7753, 7757, 7759, 7789, 7793, 7817, 7823, 7829, 7841, 7853, 7867, 7873, 7877,\n",
    "7879, 7883, 7901, 7907, 7919, 7927, 7933, 7937, 7949, 7951, 7963, 7993, 8009,\n",
    "8011, 8017, 8039, 8053, 8059, 8069, 8081, 8087, 8089, 8093, 8101, 8111, 8117,\n",
    "8123, 8147, 8161, 8167, 8171, 8179, 8191, 8209, 8219, 8221, 8231, 8233, 8237,\n",
    "8243, 8263, 8269, 8273, 8287, 8291, 8293, 8297, 8311, 8317, 8329, 8353, 8363,\n",
    "8369, 8377, 8387, 8389, 8419, 8423, 8429, 8431, 8443, 8447, 8461, 8467, 8501,\n",
    "8513, 8521, 8527, 8537, 8539, 8543, 8563, 8573, 8581, 8597, 8599, 8609, 8623,\n",
    "8627, 8629, 8641, 8647, 8663, 8669, 8677, 8681, 8689, 8693, 8699, 8707, 8713,\n",
    "8719, 8731, 8737, 8741, 8747, 8753, 8761, 8779, 8783, 8803, 8807, 8819, 8821,\n",
    "8831, 8837, 8839, 8849, 8861, 8863, 8867, 8887, 8893, 8923, 8929, 8933, 8941,\n",
    "8951, 8963, 8969, 8971, 8999, 9001, 9007, 9011, 9013, 9029, 9041, 9043, 9049,\n",
    "9059, 9067, 9091, 9103, 9109, 9127, 9133, 9137, 9151, 9157, 9161, 9173, 9181,\n",
    "9187, 9199, 9203, 9209, 9221, 9227, 9239, 9241, 9257, 9277, 9281, 9283, 9293,\n",
    "9311, 9319, 9323, 9337, 9341, 9343, 9349, 9371, 9377, 9391, 9397, 9403, 9413,\n",
    "9419, 9421, 9431, 9433, 9437, 9439, 9461, 9463, 9467, 9473, 9479, 9491, 9497,\n",
    "9511, 9521, 9533, 9539, 9547, 9551, 9587, 9601, 9613, 9619, 9623, 9629, 9631,\n",
    "9643, 9649, 9661, 9677, 9679, 9689, 9697, 9719, 9721, 9733, 9739, 9743, 9749,\n",
    "9767, 9769, 9781, 9787, 9791, 9803, 9811, 9817, 9829, 9833, 9839, 9851, 9857,\n",
    "9859, 9871, 9883, 9887, 9901, 9907, 9923, 9929, 9931, 9941, 9949, 9967, 9973]"
   ]
  },
  {
   "cell_type": "code",
   "execution_count": 9,
   "metadata": {},
   "outputs": [],
   "source": [
    "def es_primo(n, primos):\n",
    "    print(\"Analizando si \",n,\" es primo\")\n",
    "    primo=False\n",
    "    \n",
    "    if n<10000:\n",
    "        print(\"El posible primo que estudiamos es \",n)\n",
    "        primo= n in primos\n",
    "        print(primo)\n",
    "        return primo\n",
    "    else: \n",
    "        print(\"---->Usamos Lucas_Lehmer para ver si \", n , \" es primo\")\n",
    "        return Lucas_Lehmer(n)"
   ]
  },
  {
   "cell_type": "code",
   "execution_count": 10,
   "metadata": {},
   "outputs": [],
   "source": [
    "def comprobacion_lucas_lehmer(a,divisores,n):\n",
    "    resultado=True\n",
    "    \n",
    "    for i in divisores: \n",
    "        if exponenciacion_rapida_izda_dcha(a,(n-1)//i,n) == 1:\n",
    "            resultado=False\n",
    "    \n",
    "    return resultado\n",
    "\n",
    "def Lucas_Lehmer(n,divisores):\n",
    "    i=1\n",
    "    test1=False\n",
    "    test2=False\n",
    "    res=0\n",
    "    \n",
    "    while i>0: \n",
    "        i+=1\n",
    "        res=exponenciacion_rapida_izda_dcha (i,n-1,n)\n",
    "        \n",
    "        if res==1:\n",
    "            test1=True\n",
    "        \n",
    "        if comprobacion_lucas_lehmer(i,divisores,n):\n",
    "            test2=True\n",
    "            \n",
    "        if test1 & test2:\n",
    "            print(\"El natural más pequeño cuya clase es primitiva: \", i)\n",
    "            return True\n",
    "        else:\n",
    "            test1=False\n",
    "            test2=False\n",
    "            \n",
    "def obtener_exponentes_millner_rabin(n):\n",
    "    valor=n-1\n",
    "    resultado=[valor]\n",
    "    while valor%2==0:\n",
    "        valor=valor//2\n",
    "        resultado.append(valor)\n",
    "    \n",
    "    return resultado"
   ]
  },
  {
   "cell_type": "markdown",
   "metadata": {},
   "source": [
    "Como $r=n+1$ es par, podemos aplicar el algoritmo de Polard: "
   ]
  },
  {
   "cell_type": "code",
   "execution_count": 11,
   "metadata": {},
   "outputs": [
    {
     "data": {
      "text/plain": [
       "2"
      ]
     },
     "execution_count": 11,
     "metadata": {},
     "output_type": "execute_result"
    }
   ],
   "source": [
    "r=n+1\n",
    "rho_de_polard(r,False)"
   ]
  },
  {
   "cell_type": "code",
   "execution_count": 12,
   "metadata": {},
   "outputs": [
    {
     "data": {
      "text/plain": [
       "246762749168655646093593945367"
      ]
     },
     "execution_count": 12,
     "metadata": {},
     "output_type": "execute_result"
    }
   ],
   "source": [
    "r//2"
   ]
  },
  {
   "cell_type": "markdown",
   "metadata": {},
   "source": [
    "Obtenemos así que el primer factor primo es 2, y por lo tanto $n=2*246762749168655646093593945367$. A priori no sabemos si $246762749168655646093593945367$ es primo o no, por lo que vamos a ver si pasa el test de Fermat del primer Tema: "
   ]
  },
  {
   "cell_type": "code",
   "execution_count": 13,
   "metadata": {},
   "outputs": [
    {
     "name": "stdout",
     "output_type": "stream",
     "text": [
      "31828305049025735770129059174\n",
      "199662934664158145030868420630\n",
      "77050022063174475368351194530\n",
      "19620207212184836499245906782\n",
      "33382069446477928051032821528\n"
     ]
    }
   ],
   "source": [
    "primos=[2,3,5,7,11]\n",
    "\n",
    "for i in primos: \n",
    "    a=exponenciacion_rapida_izda_dcha(i,246762749168655646093593945366,246762749168655646093593945367)\n",
    "    print(a)"
   ]
  },
  {
   "cell_type": "markdown",
   "metadata": {},
   "source": [
    "Como vemos no pasa el test con ninguna base, aunque solo nos bastaba con que fallara en un caso. Por lo tanto podemos aplicar el algoritmo de Polard:"
   ]
  },
  {
   "cell_type": "code",
   "execution_count": 14,
   "metadata": {},
   "outputs": [
    {
     "name": "stdout",
     "output_type": "stream",
     "text": [
      "61  es primo\n"
     ]
    }
   ],
   "source": [
    "a=rho_de_polard(246762749168655646093593945367,False)\n",
    "\n",
    "if a in primos_4_cifras:\n",
    "    print(a,\" es primo\")\n",
    "else:\n",
    "    print(a,\" no es primo\")\n"
   ]
  },
  {
   "cell_type": "code",
   "execution_count": 15,
   "metadata": {},
   "outputs": [
    {
     "data": {
      "text/plain": [
       "4045290969977961411370392547"
      ]
     },
     "execution_count": 15,
     "metadata": {},
     "output_type": "execute_result"
    }
   ],
   "source": [
    "246762749168655646093593945367//61"
   ]
  },
  {
   "cell_type": "markdown",
   "metadata": {},
   "source": [
    "Como vemos hemos encontrado otro factor primo de $r$ por lo que tenemos que $r=2*61*4045290969977961411370392547$. De nuevo comprobamos si $4045290969977961411370392547$ es primo."
   ]
  },
  {
   "cell_type": "code",
   "execution_count": 16,
   "metadata": {},
   "outputs": [
    {
     "name": "stdout",
     "output_type": "stream",
     "text": [
      "879611010007591772897027964\n",
      "3841592401499695908496642886\n",
      "1427952522187909585214237625\n",
      "1538204315545510903638801805\n",
      "3884190778209702393413375378\n"
     ]
    }
   ],
   "source": [
    "\n",
    "for i in primos: \n",
    "    a=exponenciacion_rapida_izda_dcha(i,4045290969977961411370392546,4045290969977961411370392547)\n",
    "    print(a)"
   ]
  },
  {
   "cell_type": "markdown",
   "metadata": {},
   "source": [
    "De nuevo podemos aplicar Polard, pues no pasa el test para ninguna base:"
   ]
  },
  {
   "cell_type": "code",
   "execution_count": 17,
   "metadata": {},
   "outputs": [
    {
     "name": "stdout",
     "output_type": "stream",
     "text": [
      "50060591339659\n"
     ]
    }
   ],
   "source": [
    "a=rho_de_polard(4045290969977961411370392547,False)\n",
    "\n",
    "if a in primos_4_cifras:\n",
    "    print(a,\" es primo\")\n",
    "\n",
    "print(a) \n"
   ]
  },
  {
   "cell_type": "code",
   "execution_count": 18,
   "metadata": {},
   "outputs": [
    {
     "data": {
      "text/plain": [
       "80807894228233"
      ]
     },
     "execution_count": 18,
     "metadata": {},
     "output_type": "execute_result"
    }
   ],
   "source": [
    "4045290969977961411370392547//50060591339659"
   ]
  },
  {
   "cell_type": "markdown",
   "metadata": {},
   "source": [
    "Como vemos hemos encontrado otro factor primo de $r$ por lo que tenemos que $r=2*61*50060591339659*80807894228233\n",
    "$. De nuevo comprobamos si $50060591339659$ es primo."
   ]
  },
  {
   "cell_type": "code",
   "execution_count": 19,
   "metadata": {},
   "outputs": [
    {
     "name": "stdout",
     "output_type": "stream",
     "text": [
      "1\n",
      "1\n",
      "1\n",
      "1\n",
      "1\n"
     ]
    }
   ],
   "source": [
    "for i in primos: \n",
    "    a=exponenciacion_rapida_izda_dcha(i,50060591339658,50060591339659)\n",
    "    print(a)"
   ]
  },
  {
   "cell_type": "markdown",
   "metadata": {},
   "source": [
    "Como vemos pasa el Test de Fermat para todas las bases, luego es un posible primo de Fermat. Vamos a comprobar la probabilidad de que sea primo con el algoritmo de Millner-Rabin."
   ]
  },
  {
   "cell_type": "code",
   "execution_count": 20,
   "metadata": {},
   "outputs": [
    {
     "name": "stdout",
     "output_type": "stream",
     "text": [
      "[50060591339658, 25030295669829]\n"
     ]
    }
   ],
   "source": [
    "exp=obtener_exponentes_millner_rabin(50060591339659)\n",
    "print(exp)"
   ]
  },
  {
   "cell_type": "code",
   "execution_count": 21,
   "metadata": {},
   "outputs": [
    {
     "name": "stdout",
     "output_type": "stream",
     "text": [
      "Probamos con la base 2\n",
      "50060591339658\n",
      "\n",
      "Probamos con la base 2\n",
      "1\n",
      "\n",
      "Probamos con la base 3\n",
      "50060591339658\n",
      "\n",
      "Probamos con la base 3\n",
      "1\n",
      "\n",
      "Probamos con la base 5\n",
      "1\n",
      "\n",
      "Probamos con la base 5\n",
      "1\n",
      "\n",
      "Probamos con la base 7\n",
      "1\n",
      "\n",
      "Probamos con la base 7\n",
      "1\n",
      "\n",
      "Probamos con la base 11\n",
      "1\n",
      "\n",
      "Probamos con la base 11\n",
      "1\n",
      "\n"
     ]
    }
   ],
   "source": [
    "for j in primos:\n",
    "    for i in reversed(exp): \n",
    "        print(\"Probamos con la base\",j)\n",
    "        resultado=exponenciacion_rapida_izda_dcha(j,i,50060591339659) \n",
    "        print(resultado)\n",
    "        print(\"\")"
   ]
  },
  {
   "cell_type": "markdown",
   "metadata": {},
   "source": [
    "Como vemos pasa el Test de Millner-Rabin para todas las bases, luego la probabilidad de que sea primo es de $1-4^{-5}=0.9990234375$. Por ello vamos a intentar demostrar que es primo usando **Lucas-Lehmer**.\n",
    "\n",
    "Por ello necesitamos Calcular los divisores primos de p-1 (siendo p=50060591339659)."
   ]
  },
  {
   "cell_type": "code",
   "execution_count": 22,
   "metadata": {},
   "outputs": [
    {
     "data": {
      "text/plain": [
       "3"
      ]
     },
     "execution_count": 22,
     "metadata": {},
     "output_type": "execute_result"
    }
   ],
   "source": [
    "p=50060591339659\n",
    "rho_de_polard(p-1)\n"
   ]
  },
  {
   "cell_type": "code",
   "execution_count": 23,
   "metadata": {},
   "outputs": [
    {
     "data": {
      "text/plain": [
       "16686863779886"
      ]
     },
     "execution_count": 23,
     "metadata": {},
     "output_type": "execute_result"
    }
   ],
   "source": [
    "50060591339659//3"
   ]
  },
  {
   "cell_type": "markdown",
   "metadata": {},
   "source": [
    "Luego tenemos que $p-1=3*16686863779886*. Claramente 16686863779886 es compuesto por ser par, luego aplicamos Polard de nuevo:"
   ]
  },
  {
   "cell_type": "code",
   "execution_count": 24,
   "metadata": {
    "scrolled": true
   },
   "outputs": [
    {
     "data": {
      "text/plain": [
       "2"
      ]
     },
     "execution_count": 24,
     "metadata": {},
     "output_type": "execute_result"
    }
   ],
   "source": [
    "rho_de_polard(16686863779886)"
   ]
  },
  {
   "cell_type": "code",
   "execution_count": 25,
   "metadata": {},
   "outputs": [
    {
     "data": {
      "text/plain": [
       "8343431889943"
      ]
     },
     "execution_count": 25,
     "metadata": {},
     "output_type": "execute_result"
    }
   ],
   "source": [
    "16686863779886//2"
   ]
  },
  {
   "cell_type": "markdown",
   "metadata": {},
   "source": [
    "Tenemos que $p-1=3*2*8343431889943$. Veamos si 8343431889943 es primo:"
   ]
  },
  {
   "cell_type": "code",
   "execution_count": 26,
   "metadata": {},
   "outputs": [
    {
     "name": "stdout",
     "output_type": "stream",
     "text": [
      "2252880263720\n",
      "1852640627867\n",
      "4034454017885\n",
      "7743489965090\n",
      "3762196906973\n"
     ]
    }
   ],
   "source": [
    "for i in primos: \n",
    "    a=exponenciacion_rapida_izda_dcha(i,8343431889942,8343431889943)\n",
    "    print(a)"
   ]
  },
  {
   "cell_type": "markdown",
   "metadata": {},
   "source": [
    "Obtenemos certificado de composición pues no pasa el test de Fermat."
   ]
  },
  {
   "cell_type": "code",
   "execution_count": 27,
   "metadata": {},
   "outputs": [
    {
     "data": {
      "text/plain": [
       "12637"
      ]
     },
     "execution_count": 27,
     "metadata": {},
     "output_type": "execute_result"
    }
   ],
   "source": [
    "rho_de_polard(8343431889943)"
   ]
  },
  {
   "cell_type": "code",
   "execution_count": 28,
   "metadata": {},
   "outputs": [
    {
     "data": {
      "text/plain": [
       "660238339"
      ]
     },
     "execution_count": 28,
     "metadata": {},
     "output_type": "execute_result"
    }
   ],
   "source": [
    "8343431889943//12637"
   ]
  },
  {
   "cell_type": "markdown",
   "metadata": {},
   "source": [
    "Tenemos que $p-1=3*2*12637*660238339$. Veamos si $12637$ es primo:"
   ]
  },
  {
   "cell_type": "code",
   "execution_count": 29,
   "metadata": {},
   "outputs": [
    {
     "name": "stdout",
     "output_type": "stream",
     "text": [
      "1\n",
      "1\n",
      "1\n",
      "1\n",
      "1\n"
     ]
    }
   ],
   "source": [
    "for i in primos: \n",
    "    a=exponenciacion_rapida_izda_dcha(i,12636,12637)\n",
    "    print(a)"
   ]
  },
  {
   "cell_type": "markdown",
   "metadata": {},
   "source": [
    "Como vemos es un posible primo para las 5 primeras bases, por lo que no es recomendable aplicar el algoritmo $\\rho$ de Polard de primeras pues de ser primo no acabaría nunca. Vamos antes a calcular la probabilidad de que nuestro nuevo número sea primo usando **Millner-Rabin**."
   ]
  },
  {
   "cell_type": "code",
   "execution_count": 30,
   "metadata": {},
   "outputs": [
    {
     "name": "stdout",
     "output_type": "stream",
     "text": [
      "[12636, 6318, 3159]\n"
     ]
    }
   ],
   "source": [
    "exp=obtener_exponentes_millner_rabin(12637)\n",
    "print(exp)"
   ]
  },
  {
   "cell_type": "code",
   "execution_count": 31,
   "metadata": {},
   "outputs": [
    {
     "name": "stdout",
     "output_type": "stream",
     "text": [
      "Probamos con la base 2\n",
      "5554\n",
      "\n",
      "Probamos con la base 2\n",
      "12636\n",
      "\n",
      "Probamos con la base 2\n",
      "1\n",
      "\n",
      "Probamos con la base 3\n",
      "12636\n",
      "\n",
      "Probamos con la base 3\n",
      "1\n",
      "\n",
      "Probamos con la base 3\n",
      "1\n",
      "\n",
      "Probamos con la base 5\n",
      "7083\n",
      "\n",
      "Probamos con la base 5\n",
      "12636\n",
      "\n",
      "Probamos con la base 5\n",
      "1\n",
      "\n",
      "Probamos con la base 7\n",
      "12636\n",
      "\n",
      "Probamos con la base 7\n",
      "1\n",
      "\n",
      "Probamos con la base 7\n",
      "1\n",
      "\n",
      "Probamos con la base 11\n",
      "12636\n",
      "\n",
      "Probamos con la base 11\n",
      "1\n",
      "\n",
      "Probamos con la base 11\n",
      "1\n",
      "\n"
     ]
    }
   ],
   "source": [
    "for j in primos:\n",
    "    for i in reversed(exp): \n",
    "        print(\"Probamos con la base\",j)\n",
    "        resultado=exponenciacion_rapida_izda_dcha(j,i,12637) \n",
    "        print(resultado)\n",
    "        print(\"\")"
   ]
  },
  {
   "cell_type": "markdown",
   "metadata": {},
   "source": [
    "Como vemos pasa el Test de Millner-Rabin para todas las bases, luego la probabilidad de que sea primo es de $1-4^{-5}=0.9990234375$. Por ello vamos a intentar demostrar que es primo usando **Lucas-Lehmer**.\n"
   ]
  },
  {
   "cell_type": "code",
   "execution_count": 32,
   "metadata": {},
   "outputs": [
    {
     "data": {
      "text/plain": [
       "3"
      ]
     },
     "execution_count": 32,
     "metadata": {},
     "output_type": "execute_result"
    }
   ],
   "source": [
    "q=12637\n",
    "rho_de_polard(q-1)"
   ]
  },
  {
   "cell_type": "code",
   "execution_count": 33,
   "metadata": {},
   "outputs": [
    {
     "data": {
      "text/plain": [
       "4212"
      ]
     },
     "execution_count": 33,
     "metadata": {},
     "output_type": "execute_result"
    }
   ],
   "source": [
    "12636//3"
   ]
  },
  {
   "cell_type": "markdown",
   "metadata": {},
   "source": [
    "Luego $q-1= 3*4212$, y volvemos a aplicar $\\rho$ de Polard porque 4212 es compuesto al ser par."
   ]
  },
  {
   "cell_type": "code",
   "execution_count": 34,
   "metadata": {},
   "outputs": [
    {
     "data": {
      "text/plain": [
       "3"
      ]
     },
     "execution_count": 34,
     "metadata": {},
     "output_type": "execute_result"
    }
   ],
   "source": [
    "rho_de_polard(4212)"
   ]
  },
  {
   "cell_type": "code",
   "execution_count": 35,
   "metadata": {},
   "outputs": [
    {
     "data": {
      "text/plain": [
       "1404"
      ]
     },
     "execution_count": 35,
     "metadata": {},
     "output_type": "execute_result"
    }
   ],
   "source": [
    "4212//3"
   ]
  },
  {
   "cell_type": "markdown",
   "metadata": {},
   "source": [
    "Luego $q-1= 3^2*1404$, y volvemos a aplicar $\\rho$ de Polard porque 1404 es compuesto al ser par."
   ]
  },
  {
   "cell_type": "code",
   "execution_count": 36,
   "metadata": {},
   "outputs": [
    {
     "data": {
      "text/plain": [
       "3"
      ]
     },
     "execution_count": 36,
     "metadata": {},
     "output_type": "execute_result"
    }
   ],
   "source": [
    "rho_de_polard(1404)"
   ]
  },
  {
   "cell_type": "code",
   "execution_count": 37,
   "metadata": {},
   "outputs": [
    {
     "data": {
      "text/plain": [
       "468"
      ]
     },
     "execution_count": 37,
     "metadata": {},
     "output_type": "execute_result"
    }
   ],
   "source": [
    "1404//3"
   ]
  },
  {
   "cell_type": "markdown",
   "metadata": {},
   "source": [
    "Luego $q-1= 3^3*468$, y sabemos que $468=2^2 · 3^2 · 13$, luego $q-1= 2^2*3^5*13$. \n",
    "\n",
    "Ya podemos aplicar Lucas Lhemer para 12637."
   ]
  },
  {
   "cell_type": "code",
   "execution_count": 38,
   "metadata": {},
   "outputs": [
    {
     "name": "stdout",
     "output_type": "stream",
     "text": [
      "El natural más pequeño cuya clase es primitiva:  2\n",
      "Es primo\n"
     ]
    }
   ],
   "source": [
    "divisores=[2,3,13]\n",
    "if Lucas_Lehmer(12637,divisores):\n",
    "    print(\"Es primo\")"
   ]
  },
  {
   "cell_type": "markdown",
   "metadata": {},
   "source": [
    "Por lo tanto 12637 es primo, pues tenemos un certificado de primalidad. \n",
    "\n",
    "Volviendo a $p-1=3*2*12637*660238339$, nos quedaría ver si $660238339$ es primo, para ello veamos si pasa el test de Fermat."
   ]
  },
  {
   "cell_type": "code",
   "execution_count": 39,
   "metadata": {},
   "outputs": [
    {
     "name": "stdout",
     "output_type": "stream",
     "text": [
      "1\n",
      "1\n",
      "1\n",
      "1\n",
      "1\n"
     ]
    }
   ],
   "source": [
    "for i in primos: \n",
    "    a=exponenciacion_rapida_izda_dcha(i,660238338,660238339)\n",
    "    print(a)"
   ]
  },
  {
   "cell_type": "markdown",
   "metadata": {},
   "source": [
    "Como vemos pasa el test de Fermatpara todas las bases, luego es posible primo de Fermat para todas las bases probadas. Probamos **Milner-Rabin**."
   ]
  },
  {
   "cell_type": "code",
   "execution_count": 40,
   "metadata": {},
   "outputs": [
    {
     "name": "stdout",
     "output_type": "stream",
     "text": [
      "[660238338, 330119169]\n"
     ]
    }
   ],
   "source": [
    "exp=obtener_exponentes_millner_rabin(660238339)\n",
    "print(exp)"
   ]
  },
  {
   "cell_type": "code",
   "execution_count": 41,
   "metadata": {},
   "outputs": [
    {
     "name": "stdout",
     "output_type": "stream",
     "text": [
      "Probamos con la base 2\n",
      "660238338\n",
      "\n",
      "Probamos con la base 2\n",
      "1\n",
      "\n",
      "Probamos con la base 3\n",
      "660238338\n",
      "\n",
      "Probamos con la base 3\n",
      "1\n",
      "\n",
      "Probamos con la base 5\n",
      "1\n",
      "\n",
      "Probamos con la base 5\n",
      "1\n",
      "\n",
      "Probamos con la base 7\n",
      "1\n",
      "\n",
      "Probamos con la base 7\n",
      "1\n",
      "\n",
      "Probamos con la base 11\n",
      "1\n",
      "\n",
      "Probamos con la base 11\n",
      "1\n",
      "\n"
     ]
    }
   ],
   "source": [
    "for j in primos:\n",
    "    for i in reversed(exp): \n",
    "        print(\"Probamos con la base\",j)\n",
    "        resultado=exponenciacion_rapida_izda_dcha(j,i,660238339) \n",
    "        print(resultado)\n",
    "        print(\"\")"
   ]
  },
  {
   "cell_type": "markdown",
   "metadata": {},
   "source": [
    "Pasa el Test, luego vamos a usar Lucas Lhemer para obtener un certificado de primalidad. Primero calculamos los divisores primos de z-1 ($z=660238339$)"
   ]
  },
  {
   "cell_type": "code",
   "execution_count": 42,
   "metadata": {},
   "outputs": [
    {
     "data": {
      "text/plain": [
       "3"
      ]
     },
     "execution_count": 42,
     "metadata": {},
     "output_type": "execute_result"
    }
   ],
   "source": [
    "z=660238339\n",
    "rho_de_polard(z-1)"
   ]
  },
  {
   "cell_type": "code",
   "execution_count": 43,
   "metadata": {},
   "outputs": [
    {
     "data": {
      "text/plain": [
       "220079446"
      ]
     },
     "execution_count": 43,
     "metadata": {},
     "output_type": "execute_result"
    }
   ],
   "source": [
    "(z-1)//3"
   ]
  },
  {
   "cell_type": "markdown",
   "metadata": {},
   "source": [
    "Luego $z-1= 3*220079446$, y volvemos a aplicar $\\rho$ de Polard porque $220079446$ es compuesto al ser par."
   ]
  },
  {
   "cell_type": "code",
   "execution_count": 44,
   "metadata": {},
   "outputs": [
    {
     "data": {
      "text/plain": [
       "2"
      ]
     },
     "execution_count": 44,
     "metadata": {},
     "output_type": "execute_result"
    }
   ],
   "source": [
    "rho_de_polard(220079446)"
   ]
  },
  {
   "cell_type": "code",
   "execution_count": 45,
   "metadata": {},
   "outputs": [
    {
     "data": {
      "text/plain": [
       "110039723"
      ]
     },
     "execution_count": 45,
     "metadata": {},
     "output_type": "execute_result"
    }
   ],
   "source": [
    "220079446//2"
   ]
  },
  {
   "cell_type": "markdown",
   "metadata": {},
   "source": [
    "Luego $z-1= 2*3*110039723$,veamos si $110039723$ es primo ."
   ]
  },
  {
   "cell_type": "code",
   "execution_count": 46,
   "metadata": {},
   "outputs": [
    {
     "name": "stdout",
     "output_type": "stream",
     "text": [
      "99738845\n",
      "11193526\n",
      "3112996\n",
      "78221205\n",
      "34700494\n"
     ]
    }
   ],
   "source": [
    "for i in primos: \n",
    "    a=exponenciacion_rapida_izda_dcha(i,110039722,110039723)\n",
    "    print(a)"
   ]
  },
  {
   "cell_type": "markdown",
   "metadata": {},
   "source": [
    "No pasa el TPF, luego aplicamos Polard:"
   ]
  },
  {
   "cell_type": "code",
   "execution_count": 47,
   "metadata": {},
   "outputs": [
    {
     "name": "stdout",
     "output_type": "stream",
     "text": [
      "523 es primo\n"
     ]
    }
   ],
   "source": [
    "a=rho_de_polard(110039723)\n",
    "\n",
    "if a in primos_4_cifras: \n",
    "    print(a, \"es primo\")"
   ]
  },
  {
   "cell_type": "code",
   "execution_count": 48,
   "metadata": {},
   "outputs": [
    {
     "data": {
      "text/plain": [
       "210401"
      ]
     },
     "execution_count": 48,
     "metadata": {},
     "output_type": "execute_result"
    }
   ],
   "source": [
    "110039723//523"
   ]
  },
  {
   "cell_type": "markdown",
   "metadata": {},
   "source": [
    "Luego $z-1= 2*3*523*210401$,veamos si $210401$ es primo ."
   ]
  },
  {
   "cell_type": "code",
   "execution_count": 49,
   "metadata": {},
   "outputs": [
    {
     "name": "stdout",
     "output_type": "stream",
     "text": [
      "1\n",
      "1\n",
      "1\n",
      "1\n",
      "1\n"
     ]
    }
   ],
   "source": [
    "for i in primos: \n",
    "    a=exponenciacion_rapida_izda_dcha(i,210400,210401)\n",
    "    print(a)"
   ]
  },
  {
   "cell_type": "markdown",
   "metadata": {},
   "source": [
    "Es un posible primo de Fermat para toda base probada. Pasamos a **Millner-Rabin**."
   ]
  },
  {
   "cell_type": "code",
   "execution_count": 50,
   "metadata": {},
   "outputs": [
    {
     "name": "stdout",
     "output_type": "stream",
     "text": [
      "[210400, 105200, 52600, 26300, 13150, 6575]\n"
     ]
    }
   ],
   "source": [
    "exp=obtener_exponentes_millner_rabin(210401)\n",
    "print(exp)"
   ]
  },
  {
   "cell_type": "code",
   "execution_count": 51,
   "metadata": {},
   "outputs": [
    {
     "name": "stdout",
     "output_type": "stream",
     "text": [
      "Probamos con la base 2\n",
      "26486\n",
      "\n",
      "Probamos con la base 2\n",
      "31262\n",
      "\n",
      "Probamos con la base 2\n",
      "210400\n",
      "\n",
      "Probamos con la base 2\n",
      "1\n",
      "\n",
      "Probamos con la base 2\n",
      "1\n",
      "\n",
      "Probamos con la base 2\n",
      "1\n",
      "\n",
      "Probamos con la base 3\n",
      "202218\n",
      "\n",
      "Probamos con la base 3\n",
      "53971\n",
      "\n",
      "Probamos con la base 3\n",
      "77397\n",
      "\n",
      "Probamos con la base 3\n",
      "179139\n",
      "\n",
      "Probamos con la base 3\n",
      "210400\n",
      "\n",
      "Probamos con la base 3\n",
      "1\n",
      "\n",
      "Probamos con la base 5\n",
      "174618\n",
      "\n",
      "Probamos con la base 5\n",
      "133004\n",
      "\n",
      "Probamos con la base 5\n",
      "179139\n",
      "\n",
      "Probamos con la base 5\n",
      "210400\n",
      "\n",
      "Probamos con la base 5\n",
      "1\n",
      "\n",
      "Probamos con la base 5\n",
      "1\n",
      "\n",
      "Probamos con la base 7\n",
      "183915\n",
      "\n",
      "Probamos con la base 7\n",
      "31262\n",
      "\n",
      "Probamos con la base 7\n",
      "210400\n",
      "\n",
      "Probamos con la base 7\n",
      "1\n",
      "\n",
      "Probamos con la base 7\n",
      "1\n",
      "\n",
      "Probamos con la base 7\n",
      "1\n",
      "\n",
      "Probamos con la base 11\n",
      "179139\n",
      "\n",
      "Probamos con la base 11\n",
      "210400\n",
      "\n",
      "Probamos con la base 11\n",
      "1\n",
      "\n",
      "Probamos con la base 11\n",
      "1\n",
      "\n",
      "Probamos con la base 11\n",
      "1\n",
      "\n",
      "Probamos con la base 11\n",
      "1\n",
      "\n"
     ]
    }
   ],
   "source": [
    "for j in primos:\n",
    "    for i in reversed(exp): \n",
    "        print(\"Probamos con la base\",j)\n",
    "        resultado=exponenciacion_rapida_izda_dcha(j,i,210401) \n",
    "        print(resultado)\n",
    "        print(\"\")"
   ]
  },
  {
   "cell_type": "markdown",
   "metadata": {},
   "source": [
    "Pasa el Test de **Milner-Rabin** luego vamos a buscar un certificado de primalidad. "
   ]
  },
  {
   "cell_type": "code",
   "execution_count": 52,
   "metadata": {},
   "outputs": [
    {
     "data": {
      "text/plain": [
       "32"
      ]
     },
     "execution_count": 52,
     "metadata": {},
     "output_type": "execute_result"
    }
   ],
   "source": [
    "x=210401\n",
    "rho_de_polard(x-1)"
   ]
  },
  {
   "cell_type": "code",
   "execution_count": 53,
   "metadata": {},
   "outputs": [
    {
     "data": {
      "text/plain": [
       "6575"
      ]
     },
     "execution_count": 53,
     "metadata": {},
     "output_type": "execute_result"
    }
   ],
   "source": [
    "210400//32"
   ]
  },
  {
   "cell_type": "markdown",
   "metadata": {},
   "source": [
    "$x-1=2^5*6575=2^5* 5^2 *263$, luego ya tenemos la descomposición en primos y podemos aplicar Lucas Lhemer."
   ]
  },
  {
   "cell_type": "code",
   "execution_count": 54,
   "metadata": {},
   "outputs": [
    {
     "name": "stdout",
     "output_type": "stream",
     "text": [
      "El natural más pequeño cuya clase es primitiva:  15\n",
      "Es primo\n"
     ]
    }
   ],
   "source": [
    "divisores=[2,5,263]\n",
    "if Lucas_Lehmer(210401,divisores):\n",
    "    print(\"Es primo\")"
   ]
  },
  {
   "cell_type": "markdown",
   "metadata": {},
   "source": [
    "Obtenemos un certificado de primalidad, y por lo tanto Luego $z-1= 2*3*523*210401$ es la descomposición en primos de $z-1$ y podemos aplicar Lucas Lhemer a $z=660238339$."
   ]
  },
  {
   "cell_type": "code",
   "execution_count": 55,
   "metadata": {},
   "outputs": [
    {
     "name": "stdout",
     "output_type": "stream",
     "text": [
      "El natural más pequeño cuya clase es primitiva:  3\n",
      "Es primo\n"
     ]
    }
   ],
   "source": [
    "divisores=[2,3,523,210401]\n",
    "if Lucas_Lehmer(660238339,divisores):\n",
    "    print(\"Es primo\")"
   ]
  },
  {
   "cell_type": "markdown",
   "metadata": {},
   "source": [
    "Luego obtenemos un certificado de primalidad de $660238339$ y $p-1=3*2*12637*660238339$ sería una descomposición en factores primos de $p-1$, luego podemos aplicar de nuevo Lucas Lhemer para obtener el certificado de primalidad de $p$."
   ]
  },
  {
   "cell_type": "code",
   "execution_count": 56,
   "metadata": {},
   "outputs": [
    {
     "name": "stdout",
     "output_type": "stream",
     "text": [
      "El natural más pequeño cuya clase es primitiva:  2\n",
      "Es primo\n"
     ]
    }
   ],
   "source": [
    "divisores=[2,3,12637,660238339]\n",
    "if Lucas_Lehmer(50060591339659,divisores):\n",
    "    print(\"Es primo\")"
   ]
  },
  {
   "cell_type": "markdown",
   "metadata": {},
   "source": [
    "Obtenemos así un certificado de primalidad de $50060591339659$. \n",
    "\n",
    "Volviendo a la descomposición de factores primos de $r=n+1=2*61*50060591339659*80807894228233$ nos faltaría por ver si $80807894228233$ es primo.\n",
    "\n",
    "En primer lugar veamos si pasa el test de Fermat:"
   ]
  },
  {
   "cell_type": "code",
   "execution_count": 57,
   "metadata": {},
   "outputs": [
    {
     "name": "stdout",
     "output_type": "stream",
     "text": [
      "1\n",
      "1\n",
      "1\n",
      "1\n",
      "1\n"
     ]
    }
   ],
   "source": [
    "for i in primos: \n",
    "    a=exponenciacion_rapida_izda_dcha(i,80807894228232,80807894228233)\n",
    "    print(a)"
   ]
  },
  {
   "cell_type": "markdown",
   "metadata": {},
   "source": [
    "Como pasa el Test, Veamos con **Milner-Rabin**:"
   ]
  },
  {
   "cell_type": "code",
   "execution_count": 58,
   "metadata": {},
   "outputs": [
    {
     "name": "stdout",
     "output_type": "stream",
     "text": [
      "[80807894228232, 40403947114116, 20201973557058, 10100986778529]\n"
     ]
    }
   ],
   "source": [
    "exp=obtener_exponentes_millner_rabin(80807894228233)\n",
    "print(exp)"
   ]
  },
  {
   "cell_type": "code",
   "execution_count": 59,
   "metadata": {},
   "outputs": [
    {
     "name": "stdout",
     "output_type": "stream",
     "text": [
      "Probamos con la base 2\n",
      "2334228425899\n",
      "\n",
      "Probamos con la base 2\n",
      "80807894228232\n",
      "\n",
      "Probamos con la base 2\n",
      "1\n",
      "\n",
      "Probamos con la base 2\n",
      "1\n",
      "\n",
      "Probamos con la base 3\n",
      "78473665802334\n",
      "\n",
      "Probamos con la base 3\n",
      "80807894228232\n",
      "\n",
      "Probamos con la base 3\n",
      "1\n",
      "\n",
      "Probamos con la base 3\n",
      "1\n",
      "\n",
      "Probamos con la base 5\n",
      "5352059533074\n",
      "\n",
      "Probamos con la base 5\n",
      "78473665802334\n",
      "\n",
      "Probamos con la base 5\n",
      "80807894228232\n",
      "\n",
      "Probamos con la base 5\n",
      "1\n",
      "\n",
      "Probamos con la base 7\n",
      "80807894228232\n",
      "\n",
      "Probamos con la base 7\n",
      "1\n",
      "\n",
      "Probamos con la base 7\n",
      "1\n",
      "\n",
      "Probamos con la base 7\n",
      "1\n",
      "\n",
      "Probamos con la base 11\n",
      "31760473952997\n",
      "\n",
      "Probamos con la base 11\n",
      "2334228425899\n",
      "\n",
      "Probamos con la base 11\n",
      "80807894228232\n",
      "\n",
      "Probamos con la base 11\n",
      "1\n",
      "\n"
     ]
    }
   ],
   "source": [
    "for j in primos:\n",
    "    for i in reversed(exp): \n",
    "        print(\"Probamos con la base\",j)\n",
    "        resultado=exponenciacion_rapida_izda_dcha(j,i,80807894228233) \n",
    "        print(resultado)\n",
    "        print(\"\")"
   ]
  },
  {
   "cell_type": "markdown",
   "metadata": {},
   "source": [
    "Como vemos pasa el test y vamos a buscar un certificado de primalidad con Lucas Lhemer. Para ello buscamos la descomposición en factores primos de $y-1$ (con y=80807894228233)"
   ]
  },
  {
   "cell_type": "code",
   "execution_count": 60,
   "metadata": {},
   "outputs": [
    {
     "data": {
      "text/plain": [
       "3"
      ]
     },
     "execution_count": 60,
     "metadata": {},
     "output_type": "execute_result"
    }
   ],
   "source": [
    "y=80807894228233\n",
    "rho_de_polard(y-1)"
   ]
  },
  {
   "cell_type": "code",
   "execution_count": 61,
   "metadata": {},
   "outputs": [
    {
     "data": {
      "text/plain": [
       "26935964742744"
      ]
     },
     "execution_count": 61,
     "metadata": {},
     "output_type": "execute_result"
    }
   ],
   "source": [
    "(y-1)//3"
   ]
  },
  {
   "cell_type": "markdown",
   "metadata": {},
   "source": [
    "Luego tenemos que $y-1=3*26935964742744$. Como $26935964742744$ es compuesto aplicamos Polard de nuevo: "
   ]
  },
  {
   "cell_type": "code",
   "execution_count": 62,
   "metadata": {},
   "outputs": [
    {
     "data": {
      "text/plain": [
       "3"
      ]
     },
     "execution_count": 62,
     "metadata": {},
     "output_type": "execute_result"
    }
   ],
   "source": [
    "rho_de_polard(26935964742744)"
   ]
  },
  {
   "cell_type": "code",
   "execution_count": 63,
   "metadata": {},
   "outputs": [
    {
     "data": {
      "text/plain": [
       "8978654914248"
      ]
     },
     "execution_count": 63,
     "metadata": {},
     "output_type": "execute_result"
    }
   ],
   "source": [
    "26935964742744//3\n"
   ]
  },
  {
   "cell_type": "markdown",
   "metadata": {},
   "source": [
    "Obtenemos así que $y-1=3^2*8978654914248$ como $8978654914248$ es compuesto aplicamos Polard. "
   ]
  },
  {
   "cell_type": "code",
   "execution_count": 64,
   "metadata": {},
   "outputs": [
    {
     "data": {
      "text/plain": [
       "3"
      ]
     },
     "execution_count": 64,
     "metadata": {},
     "output_type": "execute_result"
    }
   ],
   "source": [
    "rho_de_polard(8978654914248)"
   ]
  },
  {
   "cell_type": "code",
   "execution_count": 65,
   "metadata": {},
   "outputs": [
    {
     "data": {
      "text/plain": [
       "2992884971416"
      ]
     },
     "execution_count": 65,
     "metadata": {},
     "output_type": "execute_result"
    }
   ],
   "source": [
    "8978654914248//3\n"
   ]
  },
  {
   "cell_type": "markdown",
   "metadata": {},
   "source": [
    "$y-1=3^3*2992884971416$, repetimos proceso con $2992884971416$."
   ]
  },
  {
   "cell_type": "code",
   "execution_count": 66,
   "metadata": {},
   "outputs": [
    {
     "data": {
      "text/plain": [
       "8"
      ]
     },
     "execution_count": 66,
     "metadata": {},
     "output_type": "execute_result"
    }
   ],
   "source": [
    "rho_de_polard(2992884971416)"
   ]
  },
  {
   "cell_type": "code",
   "execution_count": 67,
   "metadata": {},
   "outputs": [
    {
     "data": {
      "text/plain": [
       "374110621427"
      ]
     },
     "execution_count": 67,
     "metadata": {},
     "output_type": "execute_result"
    }
   ],
   "source": [
    "2992884971416//8\n"
   ]
  },
  {
   "cell_type": "markdown",
   "metadata": {},
   "source": [
    "Obtenemos que $y-1=3^3*2^3*374110621427$, luego debemos comprobar si $374110621427$ es primo, para ello vemos si pasa el TPF. "
   ]
  },
  {
   "cell_type": "code",
   "execution_count": 68,
   "metadata": {},
   "outputs": [
    {
     "name": "stdout",
     "output_type": "stream",
     "text": [
      "54662346357\n",
      "137713362646\n",
      "207353360066\n",
      "6310924808\n",
      "71600240229\n"
     ]
    }
   ],
   "source": [
    "for i in primos: \n",
    "    a=exponenciacion_rapida_izda_dcha(i,374110621426,374110621427)\n",
    "    print(a)"
   ]
  },
  {
   "cell_type": "markdown",
   "metadata": {},
   "source": [
    "Como vemos no pasa el Test para ninguna base, luego podemos aplicar Polard."
   ]
  },
  {
   "cell_type": "code",
   "execution_count": 69,
   "metadata": {},
   "outputs": [
    {
     "data": {
      "text/plain": [
       "61"
      ]
     },
     "execution_count": 69,
     "metadata": {},
     "output_type": "execute_result"
    }
   ],
   "source": [
    "rho_de_polard(374110621427)"
   ]
  },
  {
   "cell_type": "code",
   "execution_count": 70,
   "metadata": {},
   "outputs": [
    {
     "data": {
      "text/plain": [
       "6132961007"
      ]
     },
     "execution_count": 70,
     "metadata": {},
     "output_type": "execute_result"
    }
   ],
   "source": [
    "374110621427//61"
   ]
  },
  {
   "cell_type": "markdown",
   "metadata": {},
   "source": [
    "Luego $y-1=3^3*2^3*61*6132961007$. Veamos si $6132961007$ es primo:"
   ]
  },
  {
   "cell_type": "code",
   "execution_count": 71,
   "metadata": {},
   "outputs": [
    {
     "name": "stdout",
     "output_type": "stream",
     "text": [
      "4208046809\n",
      "453173136\n",
      "4787067676\n",
      "2903667965\n",
      "3713961829\n"
     ]
    }
   ],
   "source": [
    "for i in primos: \n",
    "    a=exponenciacion_rapida_izda_dcha(i,6132961006,6132961007)\n",
    "    print(a)"
   ]
  },
  {
   "cell_type": "markdown",
   "metadata": {},
   "source": [
    "No pasa el test de Fermat, aplicamos Polard:"
   ]
  },
  {
   "cell_type": "code",
   "execution_count": 72,
   "metadata": {},
   "outputs": [
    {
     "data": {
      "text/plain": [
       "2593"
      ]
     },
     "execution_count": 72,
     "metadata": {},
     "output_type": "execute_result"
    }
   ],
   "source": [
    "rho_de_polard(6132961007)"
   ]
  },
  {
   "cell_type": "code",
   "execution_count": 73,
   "metadata": {},
   "outputs": [
    {
     "data": {
      "text/plain": [
       "2365199"
      ]
     },
     "execution_count": 73,
     "metadata": {},
     "output_type": "execute_result"
    }
   ],
   "source": [
    "6132961007//2593"
   ]
  },
  {
   "cell_type": "markdown",
   "metadata": {},
   "source": [
    "Luego $y-1=3^3*2^3*61*2593*2365199$. Veamos si $2593$ es primo."
   ]
  },
  {
   "cell_type": "code",
   "execution_count": 74,
   "metadata": {},
   "outputs": [
    {
     "name": "stdout",
     "output_type": "stream",
     "text": [
      "1\n",
      "1\n",
      "1\n",
      "1\n",
      "1\n"
     ]
    }
   ],
   "source": [
    "for i in primos: \n",
    "    a=exponenciacion_rapida_izda_dcha(i,2592,2593)\n",
    "    print(a)"
   ]
  },
  {
   "cell_type": "code",
   "execution_count": 75,
   "metadata": {
    "scrolled": true
   },
   "outputs": [
    {
     "name": "stdout",
     "output_type": "stream",
     "text": [
      "[2592, 1296, 648, 324, 162, 81]\n"
     ]
    }
   ],
   "source": [
    "exp=obtener_exponentes_millner_rabin(2593)\n",
    "print(exp)"
   ]
  },
  {
   "cell_type": "code",
   "execution_count": 76,
   "metadata": {},
   "outputs": [
    {
     "name": "stdout",
     "output_type": "stream",
     "text": [
      "Probamos con la base 2\n",
      "1\n",
      "\n",
      "Probamos con la base 2\n",
      "1\n",
      "\n",
      "Probamos con la base 2\n",
      "1\n",
      "\n",
      "Probamos con la base 2\n",
      "1\n",
      "\n",
      "Probamos con la base 2\n",
      "1\n",
      "\n",
      "Probamos con la base 2\n",
      "1\n",
      "\n",
      "Probamos con la base 3\n",
      "1968\n",
      "\n",
      "Probamos con la base 3\n",
      "1675\n",
      "\n",
      "Probamos con la base 3\n",
      "2592\n",
      "\n",
      "Probamos con la base 3\n",
      "1\n",
      "\n",
      "Probamos con la base 3\n",
      "1\n",
      "\n",
      "Probamos con la base 3\n",
      "1\n",
      "\n",
      "Probamos con la base 5\n",
      "2588\n",
      "\n",
      "Probamos con la base 5\n",
      "25\n",
      "\n",
      "Probamos con la base 5\n",
      "625\n",
      "\n",
      "Probamos con la base 5\n",
      "1675\n",
      "\n",
      "Probamos con la base 5\n",
      "2592\n",
      "\n",
      "Probamos con la base 5\n",
      "1\n",
      "\n",
      "Probamos con la base 7\n",
      "1997\n",
      "\n",
      "Probamos con la base 7\n",
      "2568\n",
      "\n",
      "Probamos con la base 7\n",
      "625\n",
      "\n",
      "Probamos con la base 7\n",
      "1675\n",
      "\n",
      "Probamos con la base 7\n",
      "2592\n",
      "\n",
      "Probamos con la base 7\n",
      "1\n",
      "\n",
      "Probamos con la base 11\n",
      "1701\n",
      "\n",
      "Probamos con la base 11\n",
      "2206\n",
      "\n",
      "Probamos con la base 11\n",
      "1968\n",
      "\n",
      "Probamos con la base 11\n",
      "1675\n",
      "\n",
      "Probamos con la base 11\n",
      "2592\n",
      "\n",
      "Probamos con la base 11\n",
      "1\n",
      "\n"
     ]
    }
   ],
   "source": [
    "for j in primos:\n",
    "    for i in reversed(exp): \n",
    "        print(\"Probamos con la base\",j)\n",
    "        resultado=exponenciacion_rapida_izda_dcha(j,i,2593) \n",
    "        print(resultado)\n",
    "        print(\"\")"
   ]
  },
  {
   "cell_type": "markdown",
   "metadata": {},
   "source": [
    "Como vemos pasa tanto TPF como Milner-Rabin, por lo que es muy probable que sea primo. Vamos a buscar un certificado con Lucas Lhemer, para ello primero descomponemos en factores primos $w-1=2592$"
   ]
  },
  {
   "cell_type": "code",
   "execution_count": 77,
   "metadata": {},
   "outputs": [
    {
     "data": {
      "text/plain": [
       "3"
      ]
     },
     "execution_count": 77,
     "metadata": {},
     "output_type": "execute_result"
    }
   ],
   "source": [
    "w=2593\n",
    "rho_de_polard(w-1)"
   ]
  },
  {
   "cell_type": "code",
   "execution_count": 78,
   "metadata": {},
   "outputs": [
    {
     "data": {
      "text/plain": [
       "864"
      ]
     },
     "execution_count": 78,
     "metadata": {},
     "output_type": "execute_result"
    }
   ],
   "source": [
    "2593//3\n"
   ]
  },
  {
   "cell_type": "markdown",
   "metadata": {},
   "source": [
    "$w-1=3*864=2*3^2$, luego ya tenemos los factores necesarios para Lucas Lhemer: \n"
   ]
  },
  {
   "cell_type": "code",
   "execution_count": 79,
   "metadata": {},
   "outputs": [
    {
     "name": "stdout",
     "output_type": "stream",
     "text": [
      "El natural más pequeño cuya clase es primitiva:  7\n",
      "Es primo\n"
     ]
    }
   ],
   "source": [
    "divisores=[2,3]\n",
    "if Lucas_Lehmer(2593,divisores):\n",
    "    print(\"Es primo\")"
   ]
  },
  {
   "cell_type": "markdown",
   "metadata": {},
   "source": [
    "De este modo obtenemos que $2593$ es primo, volviendo a $y-1=3^3*2^3*61*2593*2365199$, nos queda ver si $2365199$ es primo, aplicamos TPF"
   ]
  },
  {
   "cell_type": "code",
   "execution_count": 80,
   "metadata": {},
   "outputs": [
    {
     "name": "stdout",
     "output_type": "stream",
     "text": [
      "1783686\n",
      "2162292\n",
      "1981592\n",
      "160632\n",
      "1322579\n"
     ]
    }
   ],
   "source": [
    "for i in primos: \n",
    "    a=exponenciacion_rapida_izda_dcha(i,2365198,2365199)\n",
    "    print(a)"
   ]
  },
  {
   "cell_type": "markdown",
   "metadata": {},
   "source": [
    "Como vemos es compuesto, pues no pasa el TPF, aplicamos Polard:"
   ]
  },
  {
   "cell_type": "code",
   "execution_count": 81,
   "metadata": {},
   "outputs": [
    {
     "data": {
      "text/plain": [
       "619"
      ]
     },
     "execution_count": 81,
     "metadata": {},
     "output_type": "execute_result"
    }
   ],
   "source": [
    "rho_de_polard(2365199)"
   ]
  },
  {
   "cell_type": "code",
   "execution_count": 82,
   "metadata": {},
   "outputs": [
    {
     "data": {
      "text/plain": [
       "3821"
      ]
     },
     "execution_count": 82,
     "metadata": {},
     "output_type": "execute_result"
    }
   ],
   "source": [
    "2365199//619"
   ]
  },
  {
   "cell_type": "markdown",
   "metadata": {},
   "source": [
    "Así $y-1=3^3*2^3*61*619*2593*3821$, luego queda comprobar si $3821$ es primo, para ello veamos si pasa el TPF:"
   ]
  },
  {
   "cell_type": "code",
   "execution_count": 83,
   "metadata": {},
   "outputs": [
    {
     "name": "stdout",
     "output_type": "stream",
     "text": [
      "1\n",
      "1\n",
      "1\n",
      "1\n",
      "1\n"
     ]
    }
   ],
   "source": [
    "for i in primos: \n",
    "    a=exponenciacion_rapida_izda_dcha(i,3820,3821)\n",
    "    print(a)"
   ]
  },
  {
   "cell_type": "markdown",
   "metadata": {},
   "source": [
    "Es posible primo para todas las bases, veamos si pasa el test de Milner-Rabin."
   ]
  },
  {
   "cell_type": "code",
   "execution_count": 84,
   "metadata": {
    "scrolled": true
   },
   "outputs": [
    {
     "name": "stdout",
     "output_type": "stream",
     "text": [
      "[3820, 1910, 955]\n"
     ]
    }
   ],
   "source": [
    "exp=obtener_exponentes_millner_rabin(3821)\n",
    "print(exp)"
   ]
  },
  {
   "cell_type": "code",
   "execution_count": 85,
   "metadata": {},
   "outputs": [
    {
     "name": "stdout",
     "output_type": "stream",
     "text": [
      "Probamos con la base 2\n",
      "376\n",
      "\n",
      "Probamos con la base 2\n",
      "3820\n",
      "\n",
      "Probamos con la base 2\n",
      "1\n",
      "\n",
      "Probamos con la base 3\n",
      "376\n",
      "\n",
      "Probamos con la base 3\n",
      "3820\n",
      "\n",
      "Probamos con la base 3\n",
      "1\n",
      "\n",
      "Probamos con la base 5\n",
      "1\n",
      "\n",
      "Probamos con la base 5\n",
      "1\n",
      "\n",
      "Probamos con la base 5\n",
      "1\n",
      "\n",
      "Probamos con la base 7\n",
      "376\n",
      "\n",
      "Probamos con la base 7\n",
      "3820\n",
      "\n",
      "Probamos con la base 7\n",
      "1\n",
      "\n",
      "Probamos con la base 11\n",
      "1\n",
      "\n",
      "Probamos con la base 11\n",
      "1\n",
      "\n",
      "Probamos con la base 11\n",
      "1\n",
      "\n"
     ]
    }
   ],
   "source": [
    "for j in primos:\n",
    "    for i in reversed(exp): \n",
    "        print(\"Probamos con la base\",j)\n",
    "        resultado=exponenciacion_rapida_izda_dcha(j,i,3821) \n",
    "        print(resultado)\n",
    "        print(\"\")"
   ]
  },
  {
   "cell_type": "markdown",
   "metadata": {},
   "source": [
    "Como vemos pasa también este test, luego buscamos un certificado de Primalidad con Lucas Lhemer. Primero vemos los factores primos de $3820$."
   ]
  },
  {
   "cell_type": "code",
   "execution_count": 86,
   "metadata": {
    "scrolled": true
   },
   "outputs": [
    {
     "data": {
      "text/plain": [
       "4"
      ]
     },
     "execution_count": 86,
     "metadata": {},
     "output_type": "execute_result"
    }
   ],
   "source": [
    "rho_de_polard(3820)"
   ]
  },
  {
   "cell_type": "code",
   "execution_count": 87,
   "metadata": {},
   "outputs": [
    {
     "data": {
      "text/plain": [
       "955"
      ]
     },
     "execution_count": 87,
     "metadata": {},
     "output_type": "execute_result"
    }
   ],
   "source": [
    "3820//4"
   ]
  },
  {
   "cell_type": "markdown",
   "metadata": {},
   "source": [
    "Obtenemos los siguientes factores primos de $3820$: $2,5,191$.\n",
    "\n",
    "Usamos ahora Lucas Lhemer para obtener un certificado de Primalidad:"
   ]
  },
  {
   "cell_type": "code",
   "execution_count": 88,
   "metadata": {},
   "outputs": [
    {
     "name": "stdout",
     "output_type": "stream",
     "text": [
      "El natural más pequeño cuya clase es primitiva:  3\n",
      "Es primo\n"
     ]
    }
   ],
   "source": [
    "divisores=[2,5,191]\n",
    "if Lucas_Lehmer(3821,divisores):\n",
    "    print(\"Es primo\")"
   ]
  },
  {
   "cell_type": "markdown",
   "metadata": {},
   "source": [
    "Como vemos es primo y así tenemos la descomposición en primos de $y-1=3^3*2^3*61*619*2593*3821$, por lo tanto podemos aplicar Lucas Lhemer para ver si $y=80807894228233$ es primo:"
   ]
  },
  {
   "cell_type": "code",
   "execution_count": 89,
   "metadata": {},
   "outputs": [
    {
     "name": "stdout",
     "output_type": "stream",
     "text": [
      "El natural más pequeño cuya clase es primitiva:  5\n",
      "Es primo\n"
     ]
    }
   ],
   "source": [
    "divisores=[2,3,61, 619, 2593, 3821]\n",
    "if Lucas_Lehmer(80807894228233,divisores):\n",
    "    print(\"Es primo\")"
   ]
  },
  {
   "cell_type": "markdown",
   "metadata": {},
   "source": [
    "Como vemos obtenemos un certificado de primalidad para $80807894228233$, y por lo tanto tenemos la descomposición en primos de $r=n+1=2*61*50060591339659*80807894228233$.\n",
    "\n",
    "Calculamos a continuación los $U_{r/p}:$"
   ]
  },
  {
   "cell_type": "code",
   "execution_count": 90,
   "metadata": {},
   "outputs": [
    {
     "name": "stdout",
     "output_type": "stream",
     "text": [
      "Sucesion U_r/ 1 : 0\n",
      "\n",
      "Sucesion U_r/ 2 : 0\n",
      "\n",
      "Sucesion U_r/ 61 : 103019351701660670879035336783\n",
      "\n",
      "Sucesion U_r/ 50060591339659 : 374431693794292349194973673147\n",
      "\n",
      "Sucesion U_r/ 80807894228233 : 97474365767954366766451485440\n",
      "\n"
     ]
    }
   ],
   "source": [
    "divisores=[1,2,61,50060591339659,80807894228233]\n",
    "r=n+1\n",
    "P=1\n",
    "Q=-1\n",
    " \n",
    "for i in divisores:\n",
    "    un,a,v=sLucas_modificado(P,Q,r//i,n)\n",
    "    print(\"Sucesion U_r/\",i,\":\",un)\n",
    "    print()"
   ]
  },
  {
   "cell_type": "markdown",
   "metadata": {},
   "source": [
    "Como podemos ver el rango de Lucas $w(n)$ en este caso sería $r/2$, por lo que no podemos afirmar que nuestro n sea primo, pues para los valores de P y Q utilizados no hemos obtenido un rango de lucas de $n+1$."
   ]
  }
 ],
 "metadata": {
  "kernelspec": {
   "display_name": "Python 3",
   "language": "python",
   "name": "python3"
  },
  "language_info": {
   "codemirror_mode": {
    "name": "ipython",
    "version": 3
   },
   "file_extension": ".py",
   "mimetype": "text/x-python",
   "name": "python",
   "nbconvert_exporter": "python",
   "pygments_lexer": "ipython3",
   "version": "3.8.10"
  }
 },
 "nbformat": 4,
 "nbformat_minor": 4
}
