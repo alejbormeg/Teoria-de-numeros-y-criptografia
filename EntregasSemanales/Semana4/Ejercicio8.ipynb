{
 "cells": [
  {
   "cell_type": "markdown",
   "metadata": {},
   "source": [
    "# Ejercicio 8\n",
    "\n",
    "**Toma tu número n de la lista publicada para este ejercicio.**\n",
    "\n",
    "**1. Pasa algunos tests de primalidad para ver si n es compuesto.**"
   ]
  },
  {
   "cell_type": "code",
   "execution_count": 1,
   "metadata": {},
   "outputs": [],
   "source": [
    "from math import gcd\n",
    "\n",
    "def f(x):\n",
    "    return x*x+1\n",
    "\n",
    "def rho_de_polard(n,imprime=False): \n",
    "    x=1\n",
    "    y=1\n",
    "    contador=0\n",
    "    resultado=1\n",
    "    \n",
    "    if imprime:\n",
    "        print(\"Iteracion \", contador)\n",
    "        print(\"x: \",x,\" y:\",y , \" mcd: \", resultado)\n",
    "\n",
    "    while resultado==1 or resultado == n:\n",
    "        x=f(x)%n\n",
    "        y=f(f(y))%n\n",
    "        resultado=gcd(x-y,n)\n",
    "        contador+=1\n",
    "        \n",
    "        if imprime:\n",
    "            print(\"Iteracion \", contador)\n",
    "            print(\"x: \",x,\" y:\",y , \" mcd: \", resultado)\n",
    "        if 1<resultado<n:\n",
    "            return resultado\n",
    "    \n",
    "    return \"No hay divisores\"\n",
    "\n",
    "def exponenciacion_rapida_izda_dcha (a,exp,m,imprime=False):\n",
    "    c=0\n",
    "    num_binario= bin(exp)[2:]\n",
    "    acu=1\n",
    "    for i in num_binario:\n",
    "        c=2*c\n",
    "        acu=(acu*acu)%m\n",
    "        \n",
    "        if i=='1':\n",
    "            c+=1\n",
    "            acu=(acu*a)%m\n",
    "    \n",
    "    return acu\n",
    "\n",
    "def simbolo_jacobi(a,n):\n",
    "    t=1\n",
    "    m=abs(n)\n",
    "    b=a%m\n",
    "    \n",
    "    while a != 0:\n",
    "        while a%2==0:\n",
    "            a=a/2\n",
    "            if m%8==3 or m%8==5:\n",
    "                t=-t\n",
    "            \n",
    "        \n",
    "        aux=a\n",
    "        a=m\n",
    "        m=aux\n",
    "        if a%4==m%4==3:\n",
    "            t=-t\n",
    "         \n",
    "        \n",
    "        a=a%m\n",
    "        \n",
    "    \n",
    "        \n",
    "    if m==1:\n",
    "        return t\n",
    "    else: \n",
    "        return 0\n",
    "    \n",
    "        \n",
    "\n",
    "def comprobacion_lucas_lehmer(a,divisores,n):\n",
    "    resultado=True\n",
    "    \n",
    "    for i in divisores: \n",
    "        if exponenciacion_rapida_izda_dcha(a,(n-1)//i,n) == 1:\n",
    "            resultado=False\n",
    "    \n",
    "    return resultado\n",
    "\n",
    "def Lucas_Lehmer(n,divisores):\n",
    "    i=1\n",
    "    test1=False\n",
    "    test2=False\n",
    "    res=0\n",
    "    \n",
    "    while i>0: \n",
    "        i+=1\n",
    "        res=exponenciacion_rapida_izda_dcha (i,n-1,n)\n",
    "        \n",
    "        if res==1:\n",
    "            test1=True\n",
    "        \n",
    "        if comprobacion_lucas_lehmer(i,divisores,n):\n",
    "            test2=True\n",
    "            \n",
    "        if test1 & test2:\n",
    "            print(\"El natural más pequeño cuya clase es primitiva: \", i)\n",
    "            return True\n",
    "        else:\n",
    "            test1=False\n",
    "            test2=False\n",
    "            \n",
    "def obtener_exponentes_millner_rabin(n):\n",
    "    valor=n-1\n",
    "    resultado=[valor]\n",
    "    while valor%2==0:\n",
    "        valor=valor//2\n",
    "        resultado.append(valor)\n",
    "    \n",
    "    return resultado"
   ]
  },
  {
   "cell_type": "markdown",
   "metadata": {},
   "source": [
    "Mi número es el siguiente:"
   ]
  },
  {
   "cell_type": "code",
   "execution_count": 2,
   "metadata": {},
   "outputs": [],
   "source": [
    "n=13080880995292977366639110361318359579"
   ]
  },
  {
   "cell_type": "markdown",
   "metadata": {},
   "source": [
    "En primer lugar vamos a probar con el TPF: "
   ]
  },
  {
   "cell_type": "code",
   "execution_count": 3,
   "metadata": {},
   "outputs": [
    {
     "name": "stdout",
     "output_type": "stream",
     "text": [
      "Probamos con la base 2\n",
      "1\n",
      "\n",
      "Probamos con la base 3\n",
      "1\n",
      "\n",
      "Probamos con la base 5\n",
      "1\n",
      "\n",
      "Probamos con la base 7\n",
      "1\n",
      "\n",
      "Probamos con la base 11\n",
      "1\n",
      "\n"
     ]
    }
   ],
   "source": [
    "primos = [2,3,5,7,11]\n",
    "\n",
    "for i in primos:\n",
    "    print(\"Probamos con la base\",i)\n",
    "    resultado=exponenciacion_rapida_izda_dcha(i,n-1,n) \n",
    "    print(resultado)\n",
    "    print(\"\")"
   ]
  },
  {
   "cell_type": "markdown",
   "metadata": {},
   "source": [
    "Como vemos, se trata de un posible primo de Fermat para toda base probada, vamos a comprobar ahora  si pasa el test de Solovay-Strassen.\n",
    "\n",
    "Recordemos que El Test de Solovay-Strassen es el siguiente:\n",
    "\n",
    "$$(\\frac{a}{n}) \\equiv a^{(n-1)/2} \\; mod \\; n$$\n",
    "\n",
    "Se dirá que n es un posible primo de Euler para a, y en caso contrario se tendrá que n es compuesto.\n",
    "\n",
    "Calculemos primero el símbolo de Jacobi con los 5 primeros primos:"
   ]
  },
  {
   "cell_type": "code",
   "execution_count": 4,
   "metadata": {},
   "outputs": [
    {
     "name": "stdout",
     "output_type": "stream",
     "text": [
      "simbolo de Jacobi obtenido para 2 / n =  -1\n",
      "simbolo de Jacobi obtenido para 3 / n =  1\n",
      "simbolo de Jacobi obtenido para 5 / n =  1\n",
      "simbolo de Jacobi obtenido para 7 / n =  -1\n",
      "simbolo de Jacobi obtenido para 11 / n =  -1\n"
     ]
    }
   ],
   "source": [
    "for i in primos: \n",
    "    s=simbolo_jacobi(i,n)\n",
    "    print(\"simbolo de Jacobi obtenido para\", i,\"/ n = \",s)"
   ]
  },
  {
   "cell_type": "markdown",
   "metadata": {},
   "source": [
    "Calculamos ahora la parte derecha de la equivalencia:"
   ]
  },
  {
   "cell_type": "code",
   "execution_count": 5,
   "metadata": {},
   "outputs": [
    {
     "name": "stdout",
     "output_type": "stream",
     "text": [
      "El exponente es: 6540440497646488683319555180659179789\n",
      "\n",
      "Probamos con la base: 2\n",
      "13080880995292977366639110361318359578\n",
      "\n",
      "Probamos con la base: 3\n",
      "1\n",
      "\n",
      "Probamos con la base: 5\n",
      "1\n",
      "\n",
      "Probamos con la base: 7\n",
      "13080880995292977366639110361318359578\n",
      "\n",
      "Probamos con la base: 11\n",
      "13080880995292977366639110361318359578\n",
      "\n"
     ]
    }
   ],
   "source": [
    "exp=(n-1)//2\n",
    "\n",
    "print(\"El exponente es:\",exp)\n",
    "print(\"\")\n",
    "\n",
    "for i in primos:\n",
    "    print(\"Probamos con la base:\", i)\n",
    "    resultado=exponenciacion_rapida_izda_dcha(i,exp,n) \n",
    "    print(resultado)\n",
    "    print(\"\")"
   ]
  },
  {
   "cell_type": "markdown",
   "metadata": {},
   "source": [
    "Como podemos ver, ser verifica el test de Solovay-Strassen, por lo que $n$ sería posible primo de Euler para toda base probada. \n",
    "\n",
    "\n",
    "A continuación vamos a comprobar el test de **Millner-Rabin**, el cual se basa en que dado que $n-1=2^rm$ con $m$ impar, para una base $a$, se calcula la siguiente a-sucesión para $n$:\n",
    "\n",
    "$$a^m, \\; a^{2m}, \\; ... \\; a^{2^rm}=a^{n-1}$$\n",
    "\n",
    "Si esta sucesión no acaba en 1 o bien hay un 1 precedido de un número que no es +-1, se tendría que $n$ es compuesto.\n",
    "\n",
    "Por lo tanto en primer lugar calculamos los exponentes que necesitaremos para Millner-Rabin:"
   ]
  },
  {
   "cell_type": "code",
   "execution_count": 6,
   "metadata": {
    "scrolled": true
   },
   "outputs": [
    {
     "name": "stdout",
     "output_type": "stream",
     "text": [
      "[13080880995292977366639110361318359578, 6540440497646488683319555180659179789]\n"
     ]
    }
   ],
   "source": [
    "exp=obtener_exponentes_millner_rabin(n)\n",
    "print(exp)"
   ]
  },
  {
   "cell_type": "code",
   "execution_count": 7,
   "metadata": {
    "scrolled": true
   },
   "outputs": [
    {
     "name": "stdout",
     "output_type": "stream",
     "text": [
      "Probamos con la base 2\n",
      "13080880995292977366639110361318359578\n",
      "\n",
      "Probamos con la base 2\n",
      "1\n",
      "\n",
      "Probamos con la base 3\n",
      "1\n",
      "\n",
      "Probamos con la base 3\n",
      "1\n",
      "\n",
      "Probamos con la base 5\n",
      "1\n",
      "\n",
      "Probamos con la base 5\n",
      "1\n",
      "\n",
      "Probamos con la base 7\n",
      "13080880995292977366639110361318359578\n",
      "\n",
      "Probamos con la base 7\n",
      "1\n",
      "\n",
      "Probamos con la base 11\n",
      "13080880995292977366639110361318359578\n",
      "\n",
      "Probamos con la base 11\n",
      "1\n",
      "\n"
     ]
    }
   ],
   "source": [
    "for j in primos:\n",
    "    for i in reversed(exp): \n",
    "        print(\"Probamos con la base\",j)\n",
    "        resultado=exponenciacion_rapida_izda_dcha(j,i,n) \n",
    "        print(resultado)\n",
    "        print(\"\")"
   ]
  },
  {
   "cell_type": "markdown",
   "metadata": {},
   "source": [
    "Como vemos pasa también el Test de Millner-Rabin, luego tendríamos que es muy probable que nuestro número sea primo pues la probabilidad de que lo sea es de $1-4^{-5}=0.9990234375$. "
   ]
  },
  {
   "cell_type": "markdown",
   "metadata": {},
   "source": [
    "**2. En caso que tu n sea probable primo. Factoriza n + 1 encontrando certificados de primalidad para los factores mayores de 10000.** "
   ]
  },
  {
   "cell_type": "code",
   "execution_count": 8,
   "metadata": {},
   "outputs": [],
   "source": [
    "r=n+1"
   ]
  },
  {
   "cell_type": "markdown",
   "metadata": {},
   "source": [
    "Como r es par, podemos aplicar el método $\\rho$ de Polard:"
   ]
  },
  {
   "cell_type": "code",
   "execution_count": 9,
   "metadata": {},
   "outputs": [
    {
     "data": {
      "text/plain": [
       "3"
      ]
     },
     "execution_count": 9,
     "metadata": {},
     "output_type": "execute_result"
    }
   ],
   "source": [
    "rho_de_polard(r)"
   ]
  },
  {
   "cell_type": "code",
   "execution_count": 10,
   "metadata": {},
   "outputs": [
    {
     "data": {
      "text/plain": [
       "4360293665097659122213036787106119860"
      ]
     },
     "execution_count": 10,
     "metadata": {},
     "output_type": "execute_result"
    }
   ],
   "source": [
    "r//3"
   ]
  },
  {
   "cell_type": "markdown",
   "metadata": {},
   "source": [
    "Luego hemos obtenido que $r=3·4360293665097659122213036787106119860$. Como $4360293665097659122213036787106119860$ es par, volvemos a aplicarle el método de Polard:"
   ]
  },
  {
   "cell_type": "code",
   "execution_count": 11,
   "metadata": {},
   "outputs": [
    {
     "data": {
      "text/plain": [
       "4"
      ]
     },
     "execution_count": 11,
     "metadata": {},
     "output_type": "execute_result"
    }
   ],
   "source": [
    "rho_de_polard(4360293665097659122213036787106119860)"
   ]
  },
  {
   "cell_type": "code",
   "execution_count": 12,
   "metadata": {},
   "outputs": [
    {
     "data": {
      "text/plain": [
       "1090073416274414780553259196776529965"
      ]
     },
     "execution_count": 12,
     "metadata": {},
     "output_type": "execute_result"
    }
   ],
   "source": [
    "4360293665097659122213036787106119860//4\n"
   ]
  },
  {
   "cell_type": "markdown",
   "metadata": {},
   "source": [
    "Por lo tanto $r=2^2·3·1090073416274414780553259196776529965$. Como $1090073416274414780553259196776529965$ vuelve a ser compuesto, aplicamos de nuevo el método de Polard."
   ]
  },
  {
   "cell_type": "code",
   "execution_count": 13,
   "metadata": {},
   "outputs": [
    {
     "data": {
      "text/plain": [
       "5"
      ]
     },
     "execution_count": 13,
     "metadata": {},
     "output_type": "execute_result"
    }
   ],
   "source": [
    "rho_de_polard(1090073416274414780553259196776529965)"
   ]
  },
  {
   "cell_type": "code",
   "execution_count": 14,
   "metadata": {},
   "outputs": [
    {
     "data": {
      "text/plain": [
       "218014683254882956110651839355305993"
      ]
     },
     "execution_count": 14,
     "metadata": {},
     "output_type": "execute_result"
    }
   ],
   "source": [
    "1090073416274414780553259196776529965//5\n"
   ]
  },
  {
   "cell_type": "markdown",
   "metadata": {},
   "source": [
    "$r=2^2·3·5·218014683254882956110651839355305993$. Ahora debemos comprobar si $218014683254882956110651839355305993$ es primo o no, usaremos primero el TPF:"
   ]
  },
  {
   "cell_type": "code",
   "execution_count": 15,
   "metadata": {},
   "outputs": [
    {
     "name": "stdout",
     "output_type": "stream",
     "text": [
      "Probamos con la base 2\n",
      "146296000867116056997841804864874213\n",
      "\n",
      "Probamos con la base 3\n",
      "144954666334629043472539333582367226\n",
      "\n",
      "Probamos con la base 5\n",
      "24286857260354978067505378913260083\n",
      "\n",
      "Probamos con la base 7\n",
      "185633793891926762298887781772215527\n",
      "\n",
      "Probamos con la base 11\n",
      "4296304964425263672777396662616237\n",
      "\n"
     ]
    }
   ],
   "source": [
    "primos = [2,3,5,7,11]\n",
    "\n",
    "for i in primos:\n",
    "    print(\"Probamos con la base\",i)\n",
    "    resultado=exponenciacion_rapida_izda_dcha(i,218014683254882956110651839355305992,218014683254882956110651839355305993) \n",
    "    print(resultado)\n",
    "    print(\"\")"
   ]
  },
  {
   "cell_type": "markdown",
   "metadata": {},
   "source": [
    "Concluimos que es compuesto pues no pasa el test para ninguna base y podemos aplicar el método de Polard:"
   ]
  },
  {
   "cell_type": "code",
   "execution_count": 16,
   "metadata": {},
   "outputs": [
    {
     "data": {
      "text/plain": [
       "1801"
      ]
     },
     "execution_count": 16,
     "metadata": {},
     "output_type": "execute_result"
    }
   ],
   "source": [
    "rho_de_polard(218014683254882956110651839355305993)"
   ]
  },
  {
   "cell_type": "code",
   "execution_count": 17,
   "metadata": {},
   "outputs": [
    {
     "data": {
      "text/plain": [
       "121052017354182651921516845838593"
      ]
     },
     "execution_count": 17,
     "metadata": {},
     "output_type": "execute_result"
    }
   ],
   "source": [
    "218014683254882956110651839355305993//1801"
   ]
  },
  {
   "cell_type": "markdown",
   "metadata": {},
   "source": [
    "Por lo tanto $r=2^2·3·5·1801·121052017354182651921516845838593$. Sabemos que $1801$ es primo de 4 cifras, luego veamos si $121052017354182651921516845838593$ también lo es:"
   ]
  },
  {
   "cell_type": "code",
   "execution_count": 18,
   "metadata": {},
   "outputs": [
    {
     "name": "stdout",
     "output_type": "stream",
     "text": [
      "Probamos con la base 2\n",
      "96208733318604418860197433122660\n",
      "\n",
      "Probamos con la base 3\n",
      "116716116089104076217897879872112\n",
      "\n",
      "Probamos con la base 5\n",
      "75325448849223898757412478909611\n",
      "\n",
      "Probamos con la base 7\n",
      "2990721257747953722550009806593\n",
      "\n",
      "Probamos con la base 11\n",
      "79458804368534162791919036928598\n",
      "\n"
     ]
    }
   ],
   "source": [
    "primos = [2,3,5,7,11]\n",
    "\n",
    "for i in primos:\n",
    "    print(\"Probamos con la base\",i)\n",
    "    resultado=exponenciacion_rapida_izda_dcha(i,121052017354182651921516845838592,121052017354182651921516845838593) \n",
    "    print(resultado)\n",
    "    print(\"\")"
   ]
  },
  {
   "cell_type": "markdown",
   "metadata": {},
   "source": [
    "Como vemos no pasa el TPF para ninguna base, luego podemos aplicarle el método de Polard:"
   ]
  },
  {
   "cell_type": "code",
   "execution_count": 19,
   "metadata": {},
   "outputs": [
    {
     "data": {
      "text/plain": [
       "654856169969"
      ]
     },
     "execution_count": 19,
     "metadata": {},
     "output_type": "execute_result"
    }
   ],
   "source": [
    "rho_de_polard(121052017354182651921516845838593)"
   ]
  },
  {
   "cell_type": "code",
   "execution_count": 20,
   "metadata": {},
   "outputs": [
    {
     "data": {
      "text/plain": [
       "184852831668231956497"
      ]
     },
     "execution_count": 20,
     "metadata": {},
     "output_type": "execute_result"
    }
   ],
   "source": [
    "121052017354182651921516845838593//654856169969"
   ]
  },
  {
   "cell_type": "markdown",
   "metadata": {},
   "source": [
    "Obtenemos que $r=2^2·3·5·1801·654856169969·184852831668231956497$, vamos a comprobar entonces si $654856169969$ es primo:"
   ]
  },
  {
   "cell_type": "code",
   "execution_count": 21,
   "metadata": {
    "scrolled": true
   },
   "outputs": [
    {
     "name": "stdout",
     "output_type": "stream",
     "text": [
      "Probamos con la base 2\n",
      "1\n",
      "\n",
      "Probamos con la base 3\n",
      "1\n",
      "\n",
      "Probamos con la base 5\n",
      "1\n",
      "\n",
      "Probamos con la base 7\n",
      "1\n",
      "\n",
      "Probamos con la base 11\n",
      "1\n",
      "\n"
     ]
    }
   ],
   "source": [
    "primos = [2,3,5,7,11]\n",
    "\n",
    "for i in primos:\n",
    "    print(\"Probamos con la base\",i)\n",
    "    resultado=exponenciacion_rapida_izda_dcha(i,654856169968,654856169969) \n",
    "    print(resultado)\n",
    "    print(\"\")"
   ]
  },
  {
   "cell_type": "markdown",
   "metadata": {},
   "source": [
    "Como vemos se trata de un posible primo de Fermat para toda base probada. Vamos a comprobar también si pasa el test de Millner-Rabin:"
   ]
  },
  {
   "cell_type": "code",
   "execution_count": 22,
   "metadata": {},
   "outputs": [
    {
     "name": "stdout",
     "output_type": "stream",
     "text": [
      "[654856169968, 327428084984, 163714042492, 81857021246, 40928510623]\n"
     ]
    }
   ],
   "source": [
    "exp=obtener_exponentes_millner_rabin(654856169969)\n",
    "print(exp)"
   ]
  },
  {
   "cell_type": "code",
   "execution_count": 23,
   "metadata": {},
   "outputs": [
    {
     "name": "stdout",
     "output_type": "stream",
     "text": [
      "Probamos con la base 2\n",
      "393025650191\n",
      "\n",
      "Probamos con la base 2\n",
      "654856169968\n",
      "\n",
      "Probamos con la base 2\n",
      "1\n",
      "\n",
      "Probamos con la base 2\n",
      "1\n",
      "\n",
      "Probamos con la base 2\n",
      "1\n",
      "\n",
      "Probamos con la base 3\n",
      "210316932371\n",
      "\n",
      "Probamos con la base 3\n",
      "359226859968\n",
      "\n",
      "Probamos con la base 3\n",
      "393025650191\n",
      "\n",
      "Probamos con la base 3\n",
      "654856169968\n",
      "\n",
      "Probamos con la base 3\n",
      "1\n",
      "\n",
      "Probamos con la base 5\n",
      "393025650191\n",
      "\n",
      "Probamos con la base 5\n",
      "654856169968\n",
      "\n",
      "Probamos con la base 5\n",
      "1\n",
      "\n",
      "Probamos con la base 5\n",
      "1\n",
      "\n",
      "Probamos con la base 5\n",
      "1\n",
      "\n",
      "Probamos con la base 7\n",
      "156134446609\n",
      "\n",
      "Probamos con la base 7\n",
      "261830519778\n",
      "\n",
      "Probamos con la base 7\n",
      "654856169968\n",
      "\n",
      "Probamos con la base 7\n",
      "1\n",
      "\n",
      "Probamos con la base 7\n",
      "1\n",
      "\n",
      "Probamos con la base 11\n",
      "156134446609\n",
      "\n",
      "Probamos con la base 11\n",
      "261830519778\n",
      "\n",
      "Probamos con la base 11\n",
      "654856169968\n",
      "\n",
      "Probamos con la base 11\n",
      "1\n",
      "\n",
      "Probamos con la base 11\n",
      "1\n",
      "\n"
     ]
    }
   ],
   "source": [
    "for j in primos:\n",
    "    for i in reversed(exp): \n",
    "        print(\"Probamos con la base\",j)\n",
    "        resultado=exponenciacion_rapida_izda_dcha(j,i,654856169969) \n",
    "        print(resultado)\n",
    "        print(\"\")"
   ]
  },
  {
   "cell_type": "markdown",
   "metadata": {},
   "source": [
    "Como vemos pasa el test de Millner-Rabin también, luego es muy probable que sea primo, vamos a buscar un certificado de primalidad con Lucas Lhemer, para ello necesitamos ver los factores primos de $p-1=654856169968$. Como es par podemos aplicar el método de Polard:"
   ]
  },
  {
   "cell_type": "code",
   "execution_count": 24,
   "metadata": {},
   "outputs": [
    {
     "data": {
      "text/plain": [
       "112"
      ]
     },
     "execution_count": 24,
     "metadata": {},
     "output_type": "execute_result"
    }
   ],
   "source": [
    "rho_de_polard(654856169968)"
   ]
  },
  {
   "cell_type": "code",
   "execution_count": 25,
   "metadata": {},
   "outputs": [
    {
     "data": {
      "text/plain": [
       "5846930089"
      ]
     },
     "execution_count": 25,
     "metadata": {},
     "output_type": "execute_result"
    }
   ],
   "source": [
    "654856169968//112"
   ]
  },
  {
   "cell_type": "markdown",
   "metadata": {},
   "source": [
    "Tenemos que $p-1=112·5846930089=2^4·7·5846930089$. Veamos si $5846930089$ es primo:"
   ]
  },
  {
   "cell_type": "code",
   "execution_count": 26,
   "metadata": {},
   "outputs": [
    {
     "name": "stdout",
     "output_type": "stream",
     "text": [
      "Probamos con la base 2\n",
      "2963798566\n",
      "\n",
      "Probamos con la base 3\n",
      "1094011374\n",
      "\n",
      "Probamos con la base 5\n",
      "2113302283\n",
      "\n",
      "Probamos con la base 7\n",
      "1975671894\n",
      "\n",
      "Probamos con la base 11\n",
      "3210754184\n",
      "\n"
     ]
    }
   ],
   "source": [
    "primos = [2,3,5,7,11]\n",
    "\n",
    "for i in primos:\n",
    "    print(\"Probamos con la base\",i)\n",
    "    resultado=exponenciacion_rapida_izda_dcha(i,5846930088,5846930089) \n",
    "    print(resultado)\n",
    "    print(\"\")"
   ]
  },
  {
   "cell_type": "markdown",
   "metadata": {},
   "source": [
    "Como vemos no pasa el TPF, luego podemos aplicar el método de Polard:"
   ]
  },
  {
   "cell_type": "code",
   "execution_count": 27,
   "metadata": {},
   "outputs": [
    {
     "data": {
      "text/plain": [
       "7"
      ]
     },
     "execution_count": 27,
     "metadata": {},
     "output_type": "execute_result"
    }
   ],
   "source": [
    "rho_de_polard(5846930089)"
   ]
  },
  {
   "cell_type": "code",
   "execution_count": 28,
   "metadata": {},
   "outputs": [
    {
     "data": {
      "text/plain": [
       "835275727"
      ]
     },
     "execution_count": 28,
     "metadata": {},
     "output_type": "execute_result"
    }
   ],
   "source": [
    "5846930089//7"
   ]
  },
  {
   "cell_type": "markdown",
   "metadata": {},
   "source": [
    "Tenemos que $p-1=2^4·7^2·835275727$. Veamos si $835275727$ es primo:"
   ]
  },
  {
   "cell_type": "code",
   "execution_count": 29,
   "metadata": {},
   "outputs": [
    {
     "name": "stdout",
     "output_type": "stream",
     "text": [
      "Probamos con la base 2\n",
      "38899210\n",
      "\n",
      "Probamos con la base 3\n",
      "205294246\n",
      "\n",
      "Probamos con la base 5\n",
      "527963903\n",
      "\n",
      "Probamos con la base 7\n",
      "661555569\n",
      "\n",
      "Probamos con la base 11\n",
      "792668668\n",
      "\n"
     ]
    }
   ],
   "source": [
    "for i in primos:\n",
    "    print(\"Probamos con la base\",i)\n",
    "    resultado=exponenciacion_rapida_izda_dcha(i,835275726,835275727) \n",
    "    print(resultado)\n",
    "    print(\"\")"
   ]
  },
  {
   "cell_type": "markdown",
   "metadata": {},
   "source": [
    "No pasa el TPF, aplicamos Polard:"
   ]
  },
  {
   "cell_type": "code",
   "execution_count": 30,
   "metadata": {},
   "outputs": [
    {
     "data": {
      "text/plain": [
       "143"
      ]
     },
     "execution_count": 30,
     "metadata": {},
     "output_type": "execute_result"
    }
   ],
   "source": [
    "rho_de_polard(835275727)"
   ]
  },
  {
   "cell_type": "code",
   "execution_count": 31,
   "metadata": {},
   "outputs": [
    {
     "data": {
      "text/plain": [
       "5841089"
      ]
     },
     "execution_count": 31,
     "metadata": {},
     "output_type": "execute_result"
    }
   ],
   "source": [
    "835275727//143"
   ]
  },
  {
   "cell_type": "markdown",
   "metadata": {},
   "source": [
    "Tenemos que $p-1=2^4·7^2·143·5841089=2^4·7^2·11·13·5841089$. Veamos si $5841089$ es primo:"
   ]
  },
  {
   "cell_type": "code",
   "execution_count": 32,
   "metadata": {},
   "outputs": [
    {
     "name": "stdout",
     "output_type": "stream",
     "text": [
      "Probamos con la base 2\n",
      "16964\n",
      "\n",
      "Probamos con la base 3\n",
      "2714499\n",
      "\n",
      "Probamos con la base 5\n",
      "3478744\n",
      "\n",
      "Probamos con la base 7\n",
      "2908994\n",
      "\n",
      "Probamos con la base 11\n",
      "4418515\n",
      "\n"
     ]
    }
   ],
   "source": [
    "for i in primos:\n",
    "    print(\"Probamos con la base\",i)\n",
    "    resultado=exponenciacion_rapida_izda_dcha(i,5841088,5841089) \n",
    "    print(resultado)\n",
    "    print(\"\")"
   ]
  },
  {
   "cell_type": "markdown",
   "metadata": {},
   "source": [
    "Como vemos no pasa el TPF, aplicamos Polard:"
   ]
  },
  {
   "cell_type": "code",
   "execution_count": 33,
   "metadata": {},
   "outputs": [
    {
     "data": {
      "text/plain": [
       "2153"
      ]
     },
     "execution_count": 33,
     "metadata": {},
     "output_type": "execute_result"
    }
   ],
   "source": [
    "rho_de_polard(5841089)"
   ]
  },
  {
   "cell_type": "code",
   "execution_count": 34,
   "metadata": {},
   "outputs": [
    {
     "data": {
      "text/plain": [
       "2713"
      ]
     },
     "execution_count": 34,
     "metadata": {},
     "output_type": "execute_result"
    }
   ],
   "source": [
    "5841089//2153"
   ]
  },
  {
   "cell_type": "markdown",
   "metadata": {},
   "source": [
    "Tenemos que $p-1=2^4·7^2·11·13·2153·2713$, que como vemos es la descomposición en factores primos de $p-1$ pues tanto $2153$ como $2713$ son primos de 4 cifras.\n",
    "\n",
    "A continuación aplicamos el método de Lucas Lhemer:"
   ]
  },
  {
   "cell_type": "code",
   "execution_count": 35,
   "metadata": {},
   "outputs": [
    {
     "name": "stdout",
     "output_type": "stream",
     "text": [
      "El natural más pequeño cuya clase es primitiva:  15\n",
      "Es primo\n"
     ]
    }
   ],
   "source": [
    "divisores=[2,7,11,13,2153,2713]\n",
    "if Lucas_Lehmer(654856169969,divisores):\n",
    "    print(\"Es primo\")"
   ]
  },
  {
   "cell_type": "markdown",
   "metadata": {},
   "source": [
    "Por lo que obtenemos un certificado de primalidad de $654856169969$, así sólo nos queda ver si $184852831668231956497$ es primo y así $r=2^2·3·5·1801·654856169969·184852831668231956497$ es una descomposició en factores primos."
   ]
  },
  {
   "cell_type": "code",
   "execution_count": 36,
   "metadata": {},
   "outputs": [
    {
     "name": "stdout",
     "output_type": "stream",
     "text": [
      "Probamos con la base 2\n",
      "1\n",
      "\n",
      "Probamos con la base 3\n",
      "1\n",
      "\n",
      "Probamos con la base 5\n",
      "1\n",
      "\n",
      "Probamos con la base 7\n",
      "1\n",
      "\n",
      "Probamos con la base 11\n",
      "1\n",
      "\n"
     ]
    }
   ],
   "source": [
    "for i in primos:\n",
    "    print(\"Probamos con la base\",i)\n",
    "    resultado=exponenciacion_rapida_izda_dcha(i,184852831668231956496,184852831668231956497) \n",
    "    print(resultado)\n",
    "    print(\"\")"
   ]
  },
  {
   "cell_type": "markdown",
   "metadata": {},
   "source": [
    "Como vemos nuestro número pasa el TPF, veamos si pasa también el de Millner-Rabin:"
   ]
  },
  {
   "cell_type": "code",
   "execution_count": 37,
   "metadata": {
    "scrolled": true
   },
   "outputs": [
    {
     "name": "stdout",
     "output_type": "stream",
     "text": [
      "[184852831668231956496, 92426415834115978248, 46213207917057989124, 23106603958528994562, 11553301979264497281]\n"
     ]
    }
   ],
   "source": [
    "exp=obtener_exponentes_millner_rabin(184852831668231956497)\n",
    "print(exp)"
   ]
  },
  {
   "cell_type": "code",
   "execution_count": 38,
   "metadata": {
    "scrolled": true
   },
   "outputs": [
    {
     "name": "stdout",
     "output_type": "stream",
     "text": [
      "Probamos con la base 2\n",
      "120962128902418213954\n",
      "\n",
      "Probamos con la base 2\n",
      "184172644277461006623\n",
      "\n",
      "Probamos con la base 2\n",
      "184852831668231956496\n",
      "\n",
      "Probamos con la base 2\n",
      "1\n",
      "\n",
      "Probamos con la base 2\n",
      "1\n",
      "\n",
      "Probamos con la base 3\n",
      "1\n",
      "\n",
      "Probamos con la base 3\n",
      "1\n",
      "\n",
      "Probamos con la base 3\n",
      "1\n",
      "\n",
      "Probamos con la base 3\n",
      "1\n",
      "\n",
      "Probamos con la base 3\n",
      "1\n",
      "\n",
      "Probamos con la base 5\n",
      "54884018299290647662\n",
      "\n",
      "Probamos con la base 5\n",
      "120962128902418213954\n",
      "\n",
      "Probamos con la base 5\n",
      "184172644277461006623\n",
      "\n",
      "Probamos con la base 5\n",
      "184852831668231956496\n",
      "\n",
      "Probamos con la base 5\n",
      "1\n",
      "\n",
      "Probamos con la base 7\n",
      "680187390770949874\n",
      "\n",
      "Probamos con la base 7\n",
      "184852831668231956496\n",
      "\n",
      "Probamos con la base 7\n",
      "1\n",
      "\n",
      "Probamos con la base 7\n",
      "1\n",
      "\n",
      "Probamos con la base 7\n",
      "1\n",
      "\n",
      "Probamos con la base 11\n",
      "120962128902418213954\n",
      "\n",
      "Probamos con la base 11\n",
      "184172644277461006623\n",
      "\n",
      "Probamos con la base 11\n",
      "184852831668231956496\n",
      "\n",
      "Probamos con la base 11\n",
      "1\n",
      "\n",
      "Probamos con la base 11\n",
      "1\n",
      "\n"
     ]
    }
   ],
   "source": [
    "for j in primos:\n",
    "    for i in reversed(exp): \n",
    "        print(\"Probamos con la base\",j)\n",
    "        resultado=exponenciacion_rapida_izda_dcha(j,i,184852831668231956497) \n",
    "        print(resultado)\n",
    "        print(\"\")"
   ]
  },
  {
   "cell_type": "markdown",
   "metadata": {},
   "source": [
    "Como vemos pasa también el Test, luego vamos a intentar buscar un certificado de primalidad para $184852831668231956497$, para ello necesitamos primero calcular los factores primos de $q-1=184852831668231956496$.\n",
    "\n",
    "Vamos a aplicar el método $\\rho$ de Polard para esto:"
   ]
  },
  {
   "cell_type": "code",
   "execution_count": 39,
   "metadata": {},
   "outputs": [
    {
     "data": {
      "text/plain": [
       "3"
      ]
     },
     "execution_count": 39,
     "metadata": {},
     "output_type": "execute_result"
    }
   ],
   "source": [
    "rho_de_polard(184852831668231956496)"
   ]
  },
  {
   "cell_type": "code",
   "execution_count": 40,
   "metadata": {},
   "outputs": [
    {
     "data": {
      "text/plain": [
       "61617610556077318832"
      ]
     },
     "execution_count": 40,
     "metadata": {},
     "output_type": "execute_result"
    }
   ],
   "source": [
    "184852831668231956496//3"
   ]
  },
  {
   "cell_type": "markdown",
   "metadata": {},
   "source": [
    "Obtenemos así que $q-1=3·61617610556077318832$. Como $61617610556077318832$ es compuesto volvemos a aplicar el método de Polard:"
   ]
  },
  {
   "cell_type": "code",
   "execution_count": 41,
   "metadata": {},
   "outputs": [
    {
     "data": {
      "text/plain": [
       "16"
      ]
     },
     "execution_count": 41,
     "metadata": {},
     "output_type": "execute_result"
    }
   ],
   "source": [
    "rho_de_polard(61617610556077318832)"
   ]
  },
  {
   "cell_type": "code",
   "execution_count": 42,
   "metadata": {},
   "outputs": [
    {
     "data": {
      "text/plain": [
       "3851100659754832427"
      ]
     },
     "execution_count": 42,
     "metadata": {},
     "output_type": "execute_result"
    }
   ],
   "source": [
    "61617610556077318832//16"
   ]
  },
  {
   "cell_type": "markdown",
   "metadata": {},
   "source": [
    "$q-1=2^4·3·3851100659754832427$. Veamos si $3851100659754832427$ es primo:"
   ]
  },
  {
   "cell_type": "code",
   "execution_count": 43,
   "metadata": {},
   "outputs": [
    {
     "name": "stdout",
     "output_type": "stream",
     "text": [
      "Probamos con la base 2\n",
      "1920985706696894229\n",
      "\n",
      "Probamos con la base 3\n",
      "1339894463389845543\n",
      "\n",
      "Probamos con la base 5\n",
      "3552726607533761854\n",
      "\n",
      "Probamos con la base 7\n",
      "1422948862535192848\n",
      "\n",
      "Probamos con la base 11\n",
      "884944629100827823\n",
      "\n"
     ]
    }
   ],
   "source": [
    "for i in primos:\n",
    "    print(\"Probamos con la base\",i)\n",
    "    resultado=exponenciacion_rapida_izda_dcha(i,3851100659754832426,3851100659754832427) \n",
    "    print(resultado)\n",
    "    print(\"\")"
   ]
  },
  {
   "cell_type": "markdown",
   "metadata": {},
   "source": [
    "Como vemos no pasa el TPF, luego podemos aplicar Polard:"
   ]
  },
  {
   "cell_type": "code",
   "execution_count": 44,
   "metadata": {},
   "outputs": [
    {
     "data": {
      "text/plain": [
       "37"
      ]
     },
     "execution_count": 44,
     "metadata": {},
     "output_type": "execute_result"
    }
   ],
   "source": [
    "rho_de_polard(3851100659754832427)"
   ]
  },
  {
   "cell_type": "code",
   "execution_count": 45,
   "metadata": {},
   "outputs": [
    {
     "data": {
      "text/plain": [
       "104083801614995471"
      ]
     },
     "execution_count": 45,
     "metadata": {},
     "output_type": "execute_result"
    }
   ],
   "source": [
    "3851100659754832427//37"
   ]
  },
  {
   "cell_type": "markdown",
   "metadata": {},
   "source": [
    "$q-1=2^4·3·37·104083801614995471$. Veamos si $104083801614995471$ es primo:"
   ]
  },
  {
   "cell_type": "code",
   "execution_count": 46,
   "metadata": {},
   "outputs": [
    {
     "name": "stdout",
     "output_type": "stream",
     "text": [
      "Probamos con la base 2\n",
      "73131072943177833\n",
      "\n",
      "Probamos con la base 3\n",
      "8742876990176037\n",
      "\n",
      "Probamos con la base 5\n",
      "91305305140424834\n",
      "\n",
      "Probamos con la base 7\n",
      "64859609630900826\n",
      "\n",
      "Probamos con la base 11\n",
      "25335950832149416\n",
      "\n"
     ]
    }
   ],
   "source": [
    "for i in primos:\n",
    "    print(\"Probamos con la base\",i)\n",
    "    resultado=exponenciacion_rapida_izda_dcha(i,104083801614995470,104083801614995471) \n",
    "    print(resultado)\n",
    "    print(\"\")"
   ]
  },
  {
   "cell_type": "markdown",
   "metadata": {},
   "source": [
    "Como vemos no pasa el TPF, luego podemos aplicar Polard:"
   ]
  },
  {
   "cell_type": "code",
   "execution_count": 47,
   "metadata": {},
   "outputs": [
    {
     "data": {
      "text/plain": [
       "1209457"
      ]
     },
     "execution_count": 47,
     "metadata": {},
     "output_type": "execute_result"
    }
   ],
   "source": [
    "rho_de_polard(104083801614995471)"
   ]
  },
  {
   "cell_type": "code",
   "execution_count": 48,
   "metadata": {},
   "outputs": [
    {
     "data": {
      "text/plain": [
       "86058290303"
      ]
     },
     "execution_count": 48,
     "metadata": {},
     "output_type": "execute_result"
    }
   ],
   "source": [
    "104083801614995471//1209457"
   ]
  },
  {
   "cell_type": "markdown",
   "metadata": {},
   "source": [
    "$q-1=2^4·3·37·1209457·86058290303$. Veamos si $1209457$ es primo:"
   ]
  },
  {
   "cell_type": "code",
   "execution_count": 49,
   "metadata": {},
   "outputs": [
    {
     "name": "stdout",
     "output_type": "stream",
     "text": [
      "Probamos con la base 2\n",
      "1\n",
      "\n",
      "Probamos con la base 3\n",
      "1\n",
      "\n",
      "Probamos con la base 5\n",
      "1\n",
      "\n",
      "Probamos con la base 7\n",
      "1\n",
      "\n",
      "Probamos con la base 11\n",
      "1\n",
      "\n"
     ]
    }
   ],
   "source": [
    "for i in primos:\n",
    "    print(\"Probamos con la base\",i)\n",
    "    resultado=exponenciacion_rapida_izda_dcha(i,1209456,1209457) \n",
    "    print(resultado)\n",
    "    print(\"\")"
   ]
  },
  {
   "cell_type": "markdown",
   "metadata": {},
   "source": [
    "Como vemos pasa el TPF para todas las bases, luego vamos a comprobar Millner-Rabin:"
   ]
  },
  {
   "cell_type": "code",
   "execution_count": 50,
   "metadata": {
    "scrolled": true
   },
   "outputs": [
    {
     "name": "stdout",
     "output_type": "stream",
     "text": [
      "[1209456, 604728, 302364, 151182, 75591]\n"
     ]
    }
   ],
   "source": [
    "exp=obtener_exponentes_millner_rabin(1209457)\n",
    "print(exp)"
   ]
  },
  {
   "cell_type": "code",
   "execution_count": 51,
   "metadata": {
    "scrolled": true
   },
   "outputs": [
    {
     "name": "stdout",
     "output_type": "stream",
     "text": [
      "Probamos con la base 2\n",
      "1077162\n",
      "\n",
      "Probamos con la base 2\n",
      "1124235\n",
      "\n",
      "Probamos con la base 2\n",
      "1209456\n",
      "\n",
      "Probamos con la base 2\n",
      "1\n",
      "\n",
      "Probamos con la base 2\n",
      "1\n",
      "\n",
      "Probamos con la base 3\n",
      "132295\n",
      "\n",
      "Probamos con la base 3\n",
      "1124235\n",
      "\n",
      "Probamos con la base 3\n",
      "1209456\n",
      "\n",
      "Probamos con la base 3\n",
      "1\n",
      "\n",
      "Probamos con la base 3\n",
      "1\n",
      "\n",
      "Probamos con la base 5\n",
      "862158\n",
      "\n",
      "Probamos con la base 5\n",
      "1077162\n",
      "\n",
      "Probamos con la base 5\n",
      "1124235\n",
      "\n",
      "Probamos con la base 5\n",
      "1209456\n",
      "\n",
      "Probamos con la base 5\n",
      "1\n",
      "\n",
      "Probamos con la base 7\n",
      "1\n",
      "\n",
      "Probamos con la base 7\n",
      "1\n",
      "\n",
      "Probamos con la base 7\n",
      "1\n",
      "\n",
      "Probamos con la base 7\n",
      "1\n",
      "\n",
      "Probamos con la base 7\n",
      "1\n",
      "\n",
      "Probamos con la base 11\n",
      "73487\n",
      "\n",
      "Probamos con la base 11\n",
      "113664\n",
      "\n",
      "Probamos con la base 11\n",
      "85222\n",
      "\n",
      "Probamos con la base 11\n",
      "1209456\n",
      "\n",
      "Probamos con la base 11\n",
      "1\n",
      "\n"
     ]
    }
   ],
   "source": [
    "for j in primos:\n",
    "    for i in reversed(exp): \n",
    "        print(\"Probamos con la base\",j)\n",
    "        resultado=exponenciacion_rapida_izda_dcha(j,i,1209457) \n",
    "        print(resultado)\n",
    "        print(\"\")"
   ]
  },
  {
   "cell_type": "markdown",
   "metadata": {},
   "source": [
    "Como vemos pasa el test también, luego vamos a buscar un certificado de primalidad para $1209457$ con Lucas Lhemer. \n",
    "\n",
    "Para ello necesitamos los factores primos de $x-1=1209456$."
   ]
  },
  {
   "cell_type": "code",
   "execution_count": 52,
   "metadata": {},
   "outputs": [
    {
     "data": {
      "text/plain": [
       "3"
      ]
     },
     "execution_count": 52,
     "metadata": {},
     "output_type": "execute_result"
    }
   ],
   "source": [
    "rho_de_polard(1209456)"
   ]
  },
  {
   "cell_type": "code",
   "execution_count": 53,
   "metadata": {},
   "outputs": [
    {
     "data": {
      "text/plain": [
       "403152"
      ]
     },
     "execution_count": 53,
     "metadata": {},
     "output_type": "execute_result"
    }
   ],
   "source": [
    "1209456//3"
   ]
  },
  {
   "cell_type": "markdown",
   "metadata": {},
   "source": [
    "Obtenemos que $x-1=3·403152$, volvemos a aplicar Polard:"
   ]
  },
  {
   "cell_type": "code",
   "execution_count": 54,
   "metadata": {},
   "outputs": [
    {
     "data": {
      "text/plain": [
       "3"
      ]
     },
     "execution_count": 54,
     "metadata": {},
     "output_type": "execute_result"
    }
   ],
   "source": [
    "rho_de_polard(403152)"
   ]
  },
  {
   "cell_type": "code",
   "execution_count": 55,
   "metadata": {},
   "outputs": [
    {
     "data": {
      "text/plain": [
       "134384"
      ]
     },
     "execution_count": 55,
     "metadata": {},
     "output_type": "execute_result"
    }
   ],
   "source": [
    "403152//3"
   ]
  },
  {
   "cell_type": "markdown",
   "metadata": {},
   "source": [
    "Obtenemos que $x-1=3^2·134384$, volvemos a aplicar Polard:"
   ]
  },
  {
   "cell_type": "code",
   "execution_count": 56,
   "metadata": {},
   "outputs": [
    {
     "data": {
      "text/plain": [
       "16"
      ]
     },
     "execution_count": 56,
     "metadata": {},
     "output_type": "execute_result"
    }
   ],
   "source": [
    "rho_de_polard(134384)"
   ]
  },
  {
   "cell_type": "code",
   "execution_count": 57,
   "metadata": {},
   "outputs": [
    {
     "data": {
      "text/plain": [
       "8399"
      ]
     },
     "execution_count": 57,
     "metadata": {},
     "output_type": "execute_result"
    }
   ],
   "source": [
    "134384//16"
   ]
  },
  {
   "cell_type": "markdown",
   "metadata": {},
   "source": [
    "Obtenemos que $x-1=2^4·3^2·8399$. Veamos si $8399$ es primo:"
   ]
  },
  {
   "cell_type": "code",
   "execution_count": 58,
   "metadata": {},
   "outputs": [
    {
     "name": "stdout",
     "output_type": "stream",
     "text": [
      "Probamos con la base 2\n",
      "7129\n",
      "\n",
      "Probamos con la base 3\n",
      "3438\n",
      "\n",
      "Probamos con la base 5\n",
      "2028\n",
      "\n",
      "Probamos con la base 7\n",
      "6001\n",
      "\n",
      "Probamos con la base 11\n",
      "544\n",
      "\n"
     ]
    }
   ],
   "source": [
    "for i in primos:\n",
    "    print(\"Probamos con la base\",i)\n",
    "    resultado=exponenciacion_rapida_izda_dcha(i,8398,8399) \n",
    "    print(resultado)\n",
    "    print(\"\")"
   ]
  },
  {
   "cell_type": "markdown",
   "metadata": {},
   "source": [
    "Como vemos no pasa el test, luego podemos aplicar el método de Polard:"
   ]
  },
  {
   "cell_type": "code",
   "execution_count": 59,
   "metadata": {},
   "outputs": [
    {
     "data": {
      "text/plain": [
       "37"
      ]
     },
     "execution_count": 59,
     "metadata": {},
     "output_type": "execute_result"
    }
   ],
   "source": [
    "rho_de_polard(8399)"
   ]
  },
  {
   "cell_type": "code",
   "execution_count": 60,
   "metadata": {},
   "outputs": [
    {
     "data": {
      "text/plain": [
       "227"
      ]
     },
     "execution_count": 60,
     "metadata": {},
     "output_type": "execute_result"
    }
   ],
   "source": [
    "8399//37"
   ]
  },
  {
   "cell_type": "markdown",
   "metadata": {},
   "source": [
    "Obtenemos que $x-1=2^4·3^2·37·227$, que son todos primos. Por lo tanto aplicamos Lucas lhemer para ver la primalidad de $x=1209457$"
   ]
  },
  {
   "cell_type": "code",
   "execution_count": 61,
   "metadata": {},
   "outputs": [
    {
     "name": "stdout",
     "output_type": "stream",
     "text": [
      "El natural más pequeño cuya clase es primitiva:  15\n",
      "Es primo\n"
     ]
    }
   ],
   "source": [
    "divisores=[2,3,37,227]\n",
    "if Lucas_Lehmer(1209457,divisores):\n",
    "    print(\"Es primo\")"
   ]
  },
  {
   "cell_type": "markdown",
   "metadata": {},
   "source": [
    "Como vemos obtenemos un certificado de primalidad y por lo tanto $x=1209457$ es primo.\n",
    "\n",
    "Nos queda así que $q-1=2^4·3·37·1209457·86058290303$, y debemos comprobar si $86058290303$ es primo o no."
   ]
  },
  {
   "cell_type": "code",
   "execution_count": 62,
   "metadata": {},
   "outputs": [
    {
     "name": "stdout",
     "output_type": "stream",
     "text": [
      "Probamos con la base 2\n",
      "1\n",
      "\n",
      "Probamos con la base 3\n",
      "1\n",
      "\n",
      "Probamos con la base 5\n",
      "1\n",
      "\n",
      "Probamos con la base 7\n",
      "1\n",
      "\n",
      "Probamos con la base 11\n",
      "1\n",
      "\n"
     ]
    }
   ],
   "source": [
    "for i in primos:\n",
    "    print(\"Probamos con la base\",i)\n",
    "    resultado=exponenciacion_rapida_izda_dcha(i,86058290302,86058290303) \n",
    "    print(resultado)\n",
    "    print(\"\")"
   ]
  },
  {
   "cell_type": "markdown",
   "metadata": {},
   "source": [
    "Como vemos el número pasa el TPF, veamos si pasa el test de Millner-Rabin:"
   ]
  },
  {
   "cell_type": "code",
   "execution_count": 63,
   "metadata": {
    "scrolled": true
   },
   "outputs": [
    {
     "name": "stdout",
     "output_type": "stream",
     "text": [
      "[86058290302, 43029145151]\n"
     ]
    }
   ],
   "source": [
    "exp=obtener_exponentes_millner_rabin(86058290303)\n",
    "print(exp)"
   ]
  },
  {
   "cell_type": "code",
   "execution_count": 64,
   "metadata": {
    "scrolled": true
   },
   "outputs": [
    {
     "name": "stdout",
     "output_type": "stream",
     "text": [
      "Probamos con la base 2\n",
      "1\n",
      "\n",
      "Probamos con la base 2\n",
      "1\n",
      "\n",
      "Probamos con la base 3\n",
      "1\n",
      "\n",
      "Probamos con la base 3\n",
      "1\n",
      "\n",
      "Probamos con la base 5\n",
      "86058290302\n",
      "\n",
      "Probamos con la base 5\n",
      "1\n",
      "\n",
      "Probamos con la base 7\n",
      "1\n",
      "\n",
      "Probamos con la base 7\n",
      "1\n",
      "\n",
      "Probamos con la base 11\n",
      "1\n",
      "\n",
      "Probamos con la base 11\n",
      "1\n",
      "\n"
     ]
    }
   ],
   "source": [
    "for j in primos:\n",
    "    for i in reversed(exp): \n",
    "        print(\"Probamos con la base\",j)\n",
    "        resultado=exponenciacion_rapida_izda_dcha(j,i,86058290303) \n",
    "        print(resultado)\n",
    "        print(\"\")"
   ]
  },
  {
   "cell_type": "markdown",
   "metadata": {},
   "source": [
    "Como vemos pasa el test de Millner-Rabin, por lo que vamos a buscar un certificado de primalidad con Lucas-Lhemer, para ello necesitamos la factorización en primos de $y-1=86058290302$.\n",
    "\n",
    "Comenzamos aplicando el método de Polard:"
   ]
  },
  {
   "cell_type": "code",
   "execution_count": 65,
   "metadata": {},
   "outputs": [
    {
     "data": {
      "text/plain": [
       "2"
      ]
     },
     "execution_count": 65,
     "metadata": {},
     "output_type": "execute_result"
    }
   ],
   "source": [
    "rho_de_polard(86058290302)"
   ]
  },
  {
   "cell_type": "code",
   "execution_count": 66,
   "metadata": {},
   "outputs": [
    {
     "data": {
      "text/plain": [
       "43029145151"
      ]
     },
     "execution_count": 66,
     "metadata": {},
     "output_type": "execute_result"
    }
   ],
   "source": [
    "86058290302//2"
   ]
  },
  {
   "cell_type": "markdown",
   "metadata": {},
   "source": [
    "Obtenemos que $y-1=2·43029145151$, veamos si $43029145151$ es primo o no: "
   ]
  },
  {
   "cell_type": "code",
   "execution_count": 67,
   "metadata": {},
   "outputs": [
    {
     "name": "stdout",
     "output_type": "stream",
     "text": [
      "Probamos con la base 2\n",
      "31881959703\n",
      "\n",
      "Probamos con la base 3\n",
      "34844636732\n",
      "\n",
      "Probamos con la base 5\n",
      "7075685855\n",
      "\n",
      "Probamos con la base 7\n",
      "27866873175\n",
      "\n",
      "Probamos con la base 11\n",
      "14205523525\n",
      "\n"
     ]
    }
   ],
   "source": [
    "for i in primos:\n",
    "    print(\"Probamos con la base\",i)\n",
    "    resultado=exponenciacion_rapida_izda_dcha(i,43029145150,43029145151) \n",
    "    print(resultado)\n",
    "    print(\"\")"
   ]
  },
  {
   "cell_type": "markdown",
   "metadata": {},
   "source": [
    "Como vemos no pasa el TPF y podemos aplicar el método de Polard"
   ]
  },
  {
   "cell_type": "code",
   "execution_count": 68,
   "metadata": {},
   "outputs": [
    {
     "data": {
      "text/plain": [
       "11827"
      ]
     },
     "execution_count": 68,
     "metadata": {},
     "output_type": "execute_result"
    }
   ],
   "source": [
    "rho_de_polard(43029145151)"
   ]
  },
  {
   "cell_type": "code",
   "execution_count": 69,
   "metadata": {},
   "outputs": [
    {
     "data": {
      "text/plain": [
       "3638213"
      ]
     },
     "execution_count": 69,
     "metadata": {},
     "output_type": "execute_result"
    }
   ],
   "source": [
    "43029145151//11827"
   ]
  },
  {
   "cell_type": "markdown",
   "metadata": {},
   "source": [
    "Obtenemos que $y-1=2·11827·3638213$, veamos si $11827$ es primo o no: "
   ]
  },
  {
   "cell_type": "code",
   "execution_count": 70,
   "metadata": {
    "scrolled": true
   },
   "outputs": [
    {
     "name": "stdout",
     "output_type": "stream",
     "text": [
      "Probamos con la base 2\n",
      "1\n",
      "\n",
      "Probamos con la base 3\n",
      "1\n",
      "\n",
      "Probamos con la base 5\n",
      "1\n",
      "\n",
      "Probamos con la base 7\n",
      "1\n",
      "\n",
      "Probamos con la base 11\n",
      "1\n",
      "\n"
     ]
    }
   ],
   "source": [
    "for i in primos:\n",
    "    print(\"Probamos con la base\",i)\n",
    "    resultado=exponenciacion_rapida_izda_dcha(i,11826,11827) \n",
    "    print(resultado)\n",
    "    print(\"\")"
   ]
  },
  {
   "cell_type": "markdown",
   "metadata": {},
   "source": [
    "Como vemos pasa el TPF, veamos si pasa el Test de Millner-Rabin:"
   ]
  },
  {
   "cell_type": "code",
   "execution_count": 71,
   "metadata": {
    "scrolled": true
   },
   "outputs": [
    {
     "name": "stdout",
     "output_type": "stream",
     "text": [
      "[11826, 5913]\n"
     ]
    }
   ],
   "source": [
    "exp=obtener_exponentes_millner_rabin(11827)\n",
    "print(exp)"
   ]
  },
  {
   "cell_type": "code",
   "execution_count": 72,
   "metadata": {
    "scrolled": true
   },
   "outputs": [
    {
     "name": "stdout",
     "output_type": "stream",
     "text": [
      "Probamos con la base 2\n",
      "11826\n",
      "\n",
      "Probamos con la base 2\n",
      "1\n",
      "\n",
      "Probamos con la base 3\n",
      "11826\n",
      "\n",
      "Probamos con la base 3\n",
      "1\n",
      "\n",
      "Probamos con la base 5\n",
      "11826\n",
      "\n",
      "Probamos con la base 5\n",
      "1\n",
      "\n",
      "Probamos con la base 7\n",
      "11826\n",
      "\n",
      "Probamos con la base 7\n",
      "1\n",
      "\n",
      "Probamos con la base 11\n",
      "1\n",
      "\n",
      "Probamos con la base 11\n",
      "1\n",
      "\n"
     ]
    }
   ],
   "source": [
    "for j in primos:\n",
    "    for i in reversed(exp): \n",
    "        print(\"Probamos con la base\",j)\n",
    "        resultado=exponenciacion_rapida_izda_dcha(j,i,11827) \n",
    "        print(resultado)\n",
    "        print(\"\")"
   ]
  },
  {
   "cell_type": "markdown",
   "metadata": {},
   "source": [
    "Como vemos también pasa el test de Millner-Rabin, luego vamos a intentar buscar un certificado de primalidad con Lucas Lhemer. Para ello necesitamos la descomposición en primos de $z-1=11826$.\n",
    "\n",
    "Aplicamos el método de Polard"
   ]
  },
  {
   "cell_type": "code",
   "execution_count": 73,
   "metadata": {},
   "outputs": [
    {
     "data": {
      "text/plain": [
       "3"
      ]
     },
     "execution_count": 73,
     "metadata": {},
     "output_type": "execute_result"
    }
   ],
   "source": [
    "rho_de_polard(11826)"
   ]
  },
  {
   "cell_type": "code",
   "execution_count": 74,
   "metadata": {},
   "outputs": [
    {
     "data": {
      "text/plain": [
       "3942"
      ]
     },
     "execution_count": 74,
     "metadata": {},
     "output_type": "execute_result"
    }
   ],
   "source": [
    "11826//3"
   ]
  },
  {
   "cell_type": "markdown",
   "metadata": {},
   "source": [
    "$z-1=3·3942=2·3^4·73$, que es una descomposición en factores primos, luego podemos aplicar ya el test de Lucas-Lhemer:"
   ]
  },
  {
   "cell_type": "code",
   "execution_count": 75,
   "metadata": {},
   "outputs": [
    {
     "name": "stdout",
     "output_type": "stream",
     "text": [
      "El natural más pequeño cuya clase es primitiva:  2\n",
      "Es primo\n"
     ]
    }
   ],
   "source": [
    "divisores=[2,3,73]\n",
    "if Lucas_Lehmer(11827,divisores):\n",
    "    print(\"Es primo\")"
   ]
  },
  {
   "cell_type": "markdown",
   "metadata": {},
   "source": [
    "Obtenemos un certificado de primalidad y nos quedaría por ver si de $y-1=2·11827·3638213$ el factor $3638213$ es primo o no, para ello necesitamos una descomposición en factores primos de $a-1=3638212$."
   ]
  },
  {
   "cell_type": "code",
   "execution_count": 76,
   "metadata": {},
   "outputs": [
    {
     "data": {
      "text/plain": [
       "4"
      ]
     },
     "execution_count": 76,
     "metadata": {},
     "output_type": "execute_result"
    }
   ],
   "source": [
    "rho_de_polard(3638212)"
   ]
  },
  {
   "cell_type": "code",
   "execution_count": 77,
   "metadata": {},
   "outputs": [
    {
     "data": {
      "text/plain": [
       "909553"
      ]
     },
     "execution_count": 77,
     "metadata": {},
     "output_type": "execute_result"
    }
   ],
   "source": [
    "3638212//4"
   ]
  },
  {
   "cell_type": "markdown",
   "metadata": {},
   "source": [
    "Obtenemos así que $3638212=2^2·909553$, veamos si $909553$ es primo:"
   ]
  },
  {
   "cell_type": "code",
   "execution_count": 78,
   "metadata": {},
   "outputs": [
    {
     "name": "stdout",
     "output_type": "stream",
     "text": [
      "Probamos con la base 2\n",
      "381897\n",
      "\n",
      "Probamos con la base 3\n",
      "895142\n",
      "\n",
      "Probamos con la base 5\n",
      "813554\n",
      "\n",
      "Probamos con la base 7\n",
      "147676\n",
      "\n",
      "Probamos con la base 11\n",
      "55946\n",
      "\n"
     ]
    }
   ],
   "source": [
    "for i in primos:\n",
    "    print(\"Probamos con la base\",i)\n",
    "    resultado=exponenciacion_rapida_izda_dcha(i,909552,909553) \n",
    "    print(resultado)\n",
    "    print(\"\")"
   ]
  },
  {
   "cell_type": "markdown",
   "metadata": {},
   "source": [
    "Como vemos no pasa el TPF, luego podemos aplicar el método de Polard:"
   ]
  },
  {
   "cell_type": "code",
   "execution_count": 79,
   "metadata": {},
   "outputs": [
    {
     "data": {
      "text/plain": [
       "461"
      ]
     },
     "execution_count": 79,
     "metadata": {},
     "output_type": "execute_result"
    }
   ],
   "source": [
    "rho_de_polard(909553)"
   ]
  },
  {
   "cell_type": "code",
   "execution_count": 80,
   "metadata": {},
   "outputs": [
    {
     "data": {
      "text/plain": [
       "1973"
      ]
     },
     "execution_count": 80,
     "metadata": {},
     "output_type": "execute_result"
    }
   ],
   "source": [
    "909553//461"
   ]
  },
  {
   "cell_type": "markdown",
   "metadata": {},
   "source": [
    "Obtenemos así que $3638212=2^2·461·1973$, que es una descomposición en factores primos, luego podemos aplicar ya el test de Lucas-Lhemer para ver si $3638213$ es primo."
   ]
  },
  {
   "cell_type": "code",
   "execution_count": 81,
   "metadata": {},
   "outputs": [
    {
     "name": "stdout",
     "output_type": "stream",
     "text": [
      "El natural más pequeño cuya clase es primitiva:  2\n",
      "Es primo\n"
     ]
    }
   ],
   "source": [
    "divisores=[2,461,1973]\n",
    "if Lucas_Lehmer(3638213,divisores):\n",
    "    print(\"Es primo\")"
   ]
  },
  {
   "cell_type": "markdown",
   "metadata": {},
   "source": [
    "Obtenemos así un certificado de primalidad de $3638213$. Y por lo tanto $q-1=2^4·3·37·1209457·86058290303$ es una descomposición en factores primos de $184852831668231956496$, luego podemos aplicar Lucas-Lhemer para comprobar si $q=184852831668231956497$ es primo o no:"
   ]
  },
  {
   "cell_type": "code",
   "execution_count": 82,
   "metadata": {},
   "outputs": [
    {
     "name": "stdout",
     "output_type": "stream",
     "text": [
      "El natural más pequeño cuya clase es primitiva:  5\n",
      "Es primo\n"
     ]
    }
   ],
   "source": [
    "divisores=[2,3,37,1209457,86058290303]\n",
    "if Lucas_Lehmer(184852831668231956497,divisores):\n",
    "    print(\"Es primo\")"
   ]
  },
  {
   "cell_type": "markdown",
   "metadata": {},
   "source": [
    "Luego $q=184852831668231956497$ es primo, y así obtenemos una descomposición en factores primos de $r=2^2·3·5·1801·654856169969·184852831668231956497$."
   ]
  },
  {
   "cell_type": "markdown",
   "metadata": {},
   "source": [
    "**3. Con P = 1, encuentra el menor Q natural mayor o igual que 2, tal que definan una s.L. que certifique la primalidad de n.**"
   ]
  },
  {
   "cell_type": "markdown",
   "metadata": {},
   "source": [
    "En primer lugar definimos las funciones que nos van a hacer falta:"
   ]
  },
  {
   "cell_type": "code",
   "execution_count": 83,
   "metadata": {},
   "outputs": [],
   "source": [
    "def sLucas_modificado(P,Q,r,n):\n",
    "    U_0=0\n",
    "    U_1=1\n",
    "    V=0\n",
    "    k=0\n",
    "    aux1=0\n",
    "    aux2=0\n",
    "    num_binario= bin(r)[2:]\n",
    "    for i in num_binario:\n",
    "        if i=='0':\n",
    "            aux1=(2*U_0*U_1-P*U_0**2)%n\n",
    "            aux2=(U_1**2-Q*U_0**2)%n\n",
    "            U_0=aux1\n",
    "            U_1=aux2\n",
    "\n",
    "        if i=='1':\n",
    "            aux1=(U_1**2-Q*U_0**2)%n\n",
    "            aux2=(P*U_1**2-2*Q*U_0*U_1)%n\n",
    "            U_0=aux1\n",
    "            U_1=aux2\n",
    "            \n",
    "    V=(2*U_1-P*U_0)%n\n",
    "\n",
    "    \n",
    "    return U_0,U_1,V"
   ]
  },
  {
   "cell_type": "code",
   "execution_count": 84,
   "metadata": {},
   "outputs": [],
   "source": [
    "def comprueba_condicionsLucas(vector_un):\n",
    "    condicion=False\n",
    "    for cont,i in enumerate(vector_un,start=1):\n",
    "        if cont==1 and i==0:\n",
    "            condicion=True\n",
    "        else: \n",
    "            if i==0:\n",
    "                condicion=False\n",
    "    \n",
    "    return condicion\n",
    "\n",
    "\n",
    "def certificado_sLucas(P,n,factores_primos):\n",
    "    vector_un=[]\n",
    "    Q=1\n",
    "    r=n+1\n",
    "    while comprueba_condicionsLucas(vector_un)==False:\n",
    "        Q+=1\n",
    "        vector_un=[]\n",
    "        for i in factores_primos:\n",
    "            un,a,v=sLucas_modificado(P,Q,r//i,n)\n",
    "            vector_un.append(un)\n",
    "            \n",
    "    return P,Q,vector_un"
   ]
  },
  {
   "cell_type": "markdown",
   "metadata": {},
   "source": [
    "Ahora iniciamos el algoritmo con $P=1$ y $Q=2$, ponemos el 1 entre los factores primos para calcular el $U_r$:"
   ]
  },
  {
   "cell_type": "code",
   "execution_count": 85,
   "metadata": {
    "scrolled": false
   },
   "outputs": [
    {
     "name": "stdout",
     "output_type": "stream",
     "text": [
      "P:  1 Q: 17\n",
      "U_r/ 1 = 0\n",
      "U_r/ 2 = 10495833717669819848884200010312299943\n",
      "U_r/ 3 = 12411904197933058750280893208552100635\n",
      "U_r/ 5 = 1931227732273175775883114353496327256\n",
      "U_r/ 1801 = 2949168743207142262611885631504406593\n",
      "U_r/ 654856169969 = 2398565120431048908090345196961250514\n",
      "U_r/ 184852831668231956497 = 269542250112392588122960526931976296\n"
     ]
    }
   ],
   "source": [
    "factores_primos=[1,2,3,5,1801,654856169969,184852831668231956497]\n",
    "P=1\n",
    "P,Q,vector_un=certificado_sLucas(P,n,factores_primos)\n",
    "print(\"P: \",P,\"Q:\",Q)\n",
    "\n",
    "cont=0\n",
    "for i in factores_primos: \n",
    "    print(\"U_r/\",i,\"=\",vector_un[cont])\n",
    "    cont+=1"
   ]
  },
  {
   "cell_type": "markdown",
   "metadata": {},
   "source": [
    "Como podemos observar hemos encontrado un certificado de primalidad para $n$ con $P=1$ y $Q=17$."
   ]
  }
 ],
 "metadata": {
  "kernelspec": {
   "display_name": "Python 3",
   "language": "python",
   "name": "python3"
  },
  "language_info": {
   "codemirror_mode": {
    "name": "ipython",
    "version": 3
   },
   "file_extension": ".py",
   "mimetype": "text/x-python",
   "name": "python",
   "nbconvert_exporter": "python",
   "pygments_lexer": "ipython3",
   "version": "3.8.10"
  }
 },
 "nbformat": 4,
 "nbformat_minor": 4
}
