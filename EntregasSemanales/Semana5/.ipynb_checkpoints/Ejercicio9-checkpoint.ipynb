{
 "cells": [
  {
   "cell_type": "markdown",
   "metadata": {},
   "source": [
    "# Ejercicio 9\n",
    "\n",
    "Toma n tu número publicado para el ejer_ 2. Escribe $n$ en base 2, usa esas cifras para definir un polinomio, f(x), donde tu bit más significativo defina el grado del polinomio n, el siguiente bit va multiplicado por x n-1 y sucesivamente hasta que el bit menos significativo sea el término independiente. El polinomio que obtienes es universal en el sentido de que tiene coeficientes en cualquier anillo."
   ]
  },
  {
   "cell_type": "code",
   "execution_count": 1,
   "metadata": {},
   "outputs": [],
   "source": [
    "n=26505013\n",
    "\n",
    "from math import gcd\n",
    "import numpy as np\n",
    "import sys\n",
    "\n",
    "def f(x):\n",
    "    return x*x+1\n",
    "\n",
    "def rho_de_polard(n,imprime=False): \n",
    "    x=1\n",
    "    y=1\n",
    "    contador=0\n",
    "    resultado=1\n",
    "    \n",
    "    if imprime:\n",
    "        print(\"Iteracion \", contador)\n",
    "        print(\"x: \",x,\" y:\",y , \" mcd: \", resultado)\n",
    "\n",
    "    while resultado==1 or resultado == n:\n",
    "        x=f(x)%n\n",
    "        y=f(f(y))%n\n",
    "        resultado=gcd(x-y,n)\n",
    "        contador+=1\n",
    "        \n",
    "        if imprime:\n",
    "            print(\"Iteracion \", contador)\n",
    "            print(\"x: \",x,\" y:\",y , \" mcd: \", resultado)\n",
    "        if 1<resultado<n:\n",
    "            return resultado\n",
    "    \n",
    "    return \"No hay divisores\"\n",
    "\n",
    "def exponenciacion_rapida_izda_dcha (a,exp,m,imprime=False):\n",
    "    c=0\n",
    "    num_binario= bin(exp)[2:]\n",
    "    acu=1\n",
    "    for i in num_binario:\n",
    "        c=2*c\n",
    "        acu=(acu*acu)%m\n",
    "        \n",
    "        if i=='1':\n",
    "            c+=1\n",
    "            acu=(acu*a)%m\n",
    "    \n",
    "    return acu\n",
    "\n",
    "def simbolo_jacobi(a,n):\n",
    "    t=1\n",
    "    m=abs(n)\n",
    "    b=a%m\n",
    "    \n",
    "    while a != 0:\n",
    "        while a%2==0:\n",
    "            a=a/2\n",
    "            if m%8==3 or m%8==5:\n",
    "                t=-t\n",
    "            \n",
    "        \n",
    "        aux=a\n",
    "        a=m\n",
    "        m=aux\n",
    "        if a%4==m%4==3:\n",
    "            t=-t\n",
    "         \n",
    "        \n",
    "        a=a%m\n",
    "        \n",
    "    \n",
    "        \n",
    "    if m==1:\n",
    "        return t\n",
    "    else: \n",
    "        return 0\n",
    "    \n",
    "        \n",
    "\n",
    "def comprobacion_lucas_lehmer(a,divisores,n):\n",
    "    resultado=True\n",
    "    \n",
    "    for i in divisores: \n",
    "        if exponenciacion_rapida_izda_dcha(a,(n-1)//i,n) == 1:\n",
    "            resultado=False\n",
    "    \n",
    "    return resultado\n",
    "\n",
    "def Lucas_Lehmer(n,divisores):\n",
    "    i=1\n",
    "    test1=False\n",
    "    test2=False\n",
    "    res=0\n",
    "    \n",
    "    while i>0: \n",
    "        i+=1\n",
    "        res=exponenciacion_rapida_izda_dcha (i,n-1,n)\n",
    "        \n",
    "        if res==1:\n",
    "            test1=True\n",
    "        \n",
    "        if comprobacion_lucas_lehmer(i,divisores,n):\n",
    "            test2=True\n",
    "            \n",
    "        if test1 & test2:\n",
    "            print(\"El natural más pequeño cuya clase es primitiva: \", i)\n",
    "            return True\n",
    "        else:\n",
    "            test1=False\n",
    "            test2=False\n",
    "            \n",
    "def obtener_exponentes_millner_rabin(n):\n",
    "    valor=n-1\n",
    "    resultado=[valor]\n",
    "    while valor%2==0:\n",
    "        valor=valor//2\n",
    "        resultado.append(valor)\n",
    "    \n",
    "    return resultado"
   ]
  },
  {
   "cell_type": "code",
   "execution_count": 2,
   "metadata": {},
   "outputs": [
    {
     "name": "stdout",
     "output_type": "stream",
     "text": [
      "1100101000110111100110101\n"
     ]
    }
   ],
   "source": [
    "num_binario= bin(n)[2:]\n",
    "print(num_binario)"
   ]
  },
  {
   "cell_type": "code",
   "execution_count": 3,
   "metadata": {},
   "outputs": [],
   "source": [
    "def polinomio(coef):\n",
    "    exp=0\n",
    "    coeficientes=[]\n",
    "    polinomio=\"\"\n",
    "    for i in reversed(coef):\n",
    "        if (i==1): \n",
    "            coeficientes.append(exp)\n",
    "            if (len(coef)-1==exp):\n",
    "                polinomio+=\"x^\"+str(exp)\n",
    "            elif (exp==0):\n",
    "                polinomio+=str(1)+\"+\"\n",
    "            else : \n",
    "                polinomio+=\"x^\"+str(exp)+\"+\"    \n",
    "        exp=exp+1\n",
    "    print (\"f(x)= \", polinomio)\n",
    "    return coeficientes"
   ]
  },
  {
   "cell_type": "code",
   "execution_count": 5,
   "metadata": {
    "scrolled": true
   },
   "outputs": [
    {
     "name": "stdout",
     "output_type": "stream",
     "text": [
      "f(x)=  1+x^2+x^4+x^5+x^8+x^9+x^10+x^11+x^13+x^14+x^18+x^20+x^23+x^24\n"
     ]
    }
   ],
   "source": [
    "f=polinomio([1,1,0,0,1,0,1,0,0,0,1,1,0,1,1,1,1,0,0,1,1,0,1,0,1])"
   ]
  },
  {
   "cell_type": "markdown",
   "metadata": {},
   "source": [
    "**i) Toma $g(x) = f(x) \\; mod \\; 2$ y halla el menor cuerpo de característica 2 que contenga a todas las raíces de $g$. ¿ Qué deduces sobre la irreducibilidad de $g(x)$ en $\\mathbb{Z}_2[x]$?.**"
   ]
  },
  {
   "cell_type": "code",
   "execution_count": 6,
   "metadata": {},
   "outputs": [],
   "source": [
    "import sympy\n",
    "f=1+x**2+x**4+x**5+x**8+x**9+x**10+x**11+x**13+x**14+x**18+x**20+x**23+x**24"
   ]
  },
  {
   "cell_type": "code",
   "execution_count": null,
   "metadata": {},
   "outputs": [],
   "source": []
  },
  {
   "cell_type": "code",
   "execution_count": null,
   "metadata": {},
   "outputs": [],
   "source": []
  },
  {
   "cell_type": "code",
   "execution_count": null,
   "metadata": {},
   "outputs": [],
   "source": []
  },
  {
   "cell_type": "code",
   "execution_count": null,
   "metadata": {},
   "outputs": [],
   "source": []
  },
  {
   "cell_type": "code",
   "execution_count": null,
   "metadata": {},
   "outputs": [],
   "source": []
  },
  {
   "cell_type": "code",
   "execution_count": null,
   "metadata": {},
   "outputs": [],
   "source": []
  },
  {
   "cell_type": "code",
   "execution_count": null,
   "metadata": {},
   "outputs": [],
   "source": []
  },
  {
   "cell_type": "code",
   "execution_count": null,
   "metadata": {},
   "outputs": [],
   "source": []
  },
  {
   "cell_type": "code",
   "execution_count": null,
   "metadata": {},
   "outputs": [],
   "source": []
  },
  {
   "cell_type": "code",
   "execution_count": null,
   "metadata": {},
   "outputs": [],
   "source": []
  },
  {
   "cell_type": "code",
   "execution_count": null,
   "metadata": {},
   "outputs": [],
   "source": []
  },
  {
   "cell_type": "code",
   "execution_count": null,
   "metadata": {},
   "outputs": [],
   "source": []
  },
  {
   "cell_type": "code",
   "execution_count": null,
   "metadata": {},
   "outputs": [],
   "source": []
  },
  {
   "cell_type": "code",
   "execution_count": null,
   "metadata": {},
   "outputs": [],
   "source": []
  },
  {
   "cell_type": "code",
   "execution_count": null,
   "metadata": {},
   "outputs": [],
   "source": []
  },
  {
   "cell_type": "code",
   "execution_count": null,
   "metadata": {},
   "outputs": [],
   "source": []
  },
  {
   "cell_type": "code",
   "execution_count": null,
   "metadata": {},
   "outputs": [],
   "source": []
  },
  {
   "cell_type": "code",
   "execution_count": null,
   "metadata": {},
   "outputs": [],
   "source": []
  },
  {
   "cell_type": "code",
   "execution_count": null,
   "metadata": {},
   "outputs": [],
   "source": []
  },
  {
   "cell_type": "code",
   "execution_count": null,
   "metadata": {},
   "outputs": [],
   "source": []
  },
  {
   "cell_type": "code",
   "execution_count": null,
   "metadata": {},
   "outputs": [],
   "source": []
  },
  {
   "cell_type": "code",
   "execution_count": null,
   "metadata": {},
   "outputs": [],
   "source": []
  },
  {
   "cell_type": "code",
   "execution_count": null,
   "metadata": {},
   "outputs": [],
   "source": []
  },
  {
   "cell_type": "code",
   "execution_count": null,
   "metadata": {},
   "outputs": [],
   "source": []
  },
  {
   "cell_type": "code",
   "execution_count": null,
   "metadata": {},
   "outputs": [],
   "source": []
  },
  {
   "cell_type": "code",
   "execution_count": null,
   "metadata": {},
   "outputs": [],
   "source": []
  },
  {
   "cell_type": "code",
   "execution_count": null,
   "metadata": {},
   "outputs": [],
   "source": []
  },
  {
   "cell_type": "code",
   "execution_count": null,
   "metadata": {},
   "outputs": [],
   "source": []
  },
  {
   "cell_type": "code",
   "execution_count": null,
   "metadata": {},
   "outputs": [],
   "source": []
  },
  {
   "cell_type": "code",
   "execution_count": null,
   "metadata": {},
   "outputs": [],
   "source": []
  },
  {
   "cell_type": "code",
   "execution_count": null,
   "metadata": {},
   "outputs": [],
   "source": []
  },
  {
   "cell_type": "code",
   "execution_count": null,
   "metadata": {},
   "outputs": [],
   "source": []
  },
  {
   "cell_type": "code",
   "execution_count": null,
   "metadata": {},
   "outputs": [],
   "source": []
  },
  {
   "cell_type": "code",
   "execution_count": null,
   "metadata": {},
   "outputs": [],
   "source": []
  },
  {
   "cell_type": "code",
   "execution_count": null,
   "metadata": {},
   "outputs": [],
   "source": []
  },
  {
   "cell_type": "code",
   "execution_count": null,
   "metadata": {},
   "outputs": [],
   "source": []
  },
  {
   "cell_type": "code",
   "execution_count": null,
   "metadata": {},
   "outputs": [],
   "source": []
  },
  {
   "cell_type": "code",
   "execution_count": null,
   "metadata": {},
   "outputs": [],
   "source": []
  },
  {
   "cell_type": "code",
   "execution_count": null,
   "metadata": {},
   "outputs": [],
   "source": []
  },
  {
   "cell_type": "code",
   "execution_count": null,
   "metadata": {},
   "outputs": [],
   "source": []
  },
  {
   "cell_type": "code",
   "execution_count": null,
   "metadata": {},
   "outputs": [],
   "source": []
  },
  {
   "cell_type": "code",
   "execution_count": null,
   "metadata": {},
   "outputs": [],
   "source": []
  },
  {
   "cell_type": "code",
   "execution_count": null,
   "metadata": {},
   "outputs": [],
   "source": []
  },
  {
   "cell_type": "code",
   "execution_count": null,
   "metadata": {},
   "outputs": [],
   "source": []
  },
  {
   "cell_type": "code",
   "execution_count": null,
   "metadata": {},
   "outputs": [],
   "source": []
  },
  {
   "cell_type": "code",
   "execution_count": null,
   "metadata": {},
   "outputs": [],
   "source": []
  },
  {
   "cell_type": "code",
   "execution_count": null,
   "metadata": {},
   "outputs": [],
   "source": []
  }
 ],
 "metadata": {
  "kernelspec": {
   "display_name": "Python 3",
   "language": "python",
   "name": "python3"
  },
  "language_info": {
   "codemirror_mode": {
    "name": "ipython",
    "version": 3
   },
   "file_extension": ".py",
   "mimetype": "text/x-python",
   "name": "python",
   "nbconvert_exporter": "python",
   "pygments_lexer": "ipython3",
   "version": "3.8.10"
  }
 },
 "nbformat": 4,
 "nbformat_minor": 4
}
