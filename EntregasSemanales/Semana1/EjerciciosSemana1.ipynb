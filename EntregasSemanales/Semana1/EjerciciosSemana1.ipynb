{
 "cells": [
  {
   "cell_type": "markdown",
   "metadata": {},
   "source": [
    "# Ejercicios Semana 1 Teoría de Números y Criptografía"
   ]
  },
  {
   "cell_type": "markdown",
   "metadata": {},
   "source": [
    "## Ejercicio 1\n",
    "\n",
    "Dado tu número n=26504975.\n",
    "\n",
    "**1- Mientras sea múltiplo de 2,3,5,7 u 11 le sumas uno. De forma que tu nuevo n no tenga esos divisores primos.**\n"
   ]
  },
  {
   "cell_type": "code",
   "execution_count": 1,
   "metadata": {},
   "outputs": [
    {
     "data": {
      "text/plain": [
       "26504975"
      ]
     },
     "execution_count": 1,
     "metadata": {},
     "output_type": "execute_result"
    }
   ],
   "source": [
    "n=26504975"
   ]
  },
  {
   "cell_type": "code",
   "execution_count": 2,
   "metadata": {},
   "outputs": [
    {
     "name": "stdout",
     "output_type": "stream",
     "text": [
      "El valor del n que no es múltiplo de [2, 3, 5, 7, 11] es n = 26504977"
     ]
    }
   ],
   "source": [
    "primos = [2,3,5,7,11]\n",
    "no_es_multiplo = true\n",
    "\n",
    "while no_es_multiplo\n",
    "    no_es_multiplo = false\n",
    "        for p in primos\n",
    "            if mod(n,p) == 0\n",
    "                n += 1\n",
    "                no_es_multiplo = true\n",
    "            end\n",
    "        end\n",
    "end\n",
    "\n",
    "print(\"El valor del n que no es múltiplo de $primos es n = $n\")"
   ]
  },
  {
   "cell_type": "markdown",
   "metadata": {},
   "source": [
    "**2- Calcula $a^{n-1}$ mod n, para cada uno de esas 5 bases usando sucesivamente el algoritmo de izda-dcha y de dcha a izda.** \n",
    "\n",
    "En primer lugar usaremos el algoritmo de exponenciación rápida de derecha a izquierda para calcular $a^{n-1}$."
   ]
  },
  {
   "cell_type": "code",
   "execution_count": 3,
   "metadata": {},
   "outputs": [
    {
     "data": {
      "text/plain": [
       "exponenciacion_rapida_dcha_izda (generic function with 2 methods)"
      ]
     },
     "execution_count": 3,
     "metadata": {},
     "output_type": "execute_result"
    }
   ],
   "source": [
    "function exponenciacion_rapida_dcha_izda(a, exp,m, print=false)\n",
    "    base=a\n",
    "    acu=1\n",
    "    num=exp\n",
    "    num_binario= string(num; base=2)\n",
    "    contador=0\n",
    "    \n",
    "    println(\"Numero en binario=$num_binario\")\n",
    "    \n",
    "    if print==true\n",
    "        println(\"Iteración: $contador\")\n",
    "        println(\"acu: $acu\")\n",
    "        println(\"base: $base\")\n",
    "        println(\"\")\n",
    "    end\n",
    "    \n",
    "    for i in reverse(num_binario) \n",
    "        if i!='0'\n",
    "            acu=mod(acu*base,m)\n",
    "        end\n",
    "        \n",
    "        base=mod(base*base,m)\n",
    "\n",
    "        contador+=1\n",
    "        \n",
    "        if print==true\n",
    "            println(\"Iteración: $contador\")\n",
    "            println(\"acu: $acu\")\n",
    "            println(\"base: $base\")\n",
    "            println(\"\")\n",
    "        end\n",
    "    end\n",
    "    \n",
    "    println(\"El resultado es $acu\")\n",
    "end"
   ]
  },
  {
   "cell_type": "markdown",
   "metadata": {},
   "source": [
    "Vamos a probar con el ejemplo de la ayuda."
   ]
  },
  {
   "cell_type": "code",
   "execution_count": 4,
   "metadata": {
    "scrolled": true
   },
   "outputs": [
    {
     "name": "stdout",
     "output_type": "stream",
     "text": [
      "Numero en binario=1100111110011111101001110\n",
      "Iteración: 0\n",
      "acu: 1\n",
      "base: 2\n",
      "\n",
      "Iteración: 1\n",
      "acu: 1\n",
      "base: 4\n",
      "\n",
      "Iteración: 2\n",
      "acu: 4\n",
      "base: 16\n",
      "\n",
      "Iteración: 3\n",
      "acu: 64\n",
      "base: 256\n",
      "\n",
      "Iteración: 4\n",
      "acu: 16384\n",
      "base: 65536\n",
      "\n",
      "Iteración: 5\n",
      "acu: 16384\n",
      "base: 22424717\n",
      "\n",
      "Iteración: 6\n",
      "acu: 16384\n",
      "base: 12167649\n",
      "\n",
      "Iteración: 7\n",
      "acu: 14796941\n",
      "base: 26585339\n",
      "\n",
      "Iteración: 8\n",
      "acu: 14796941\n",
      "base: 9779482\n",
      "\n",
      "Iteración: 9\n",
      "acu: 120175\n",
      "base: 15067521\n",
      "\n",
      "Iteración: 10\n",
      "acu: 24905736\n",
      "base: 12424177\n",
      "\n",
      "Iteración: 11\n",
      "acu: 9320126\n",
      "base: 14159809\n",
      "\n",
      "Iteración: 12\n",
      "acu: 10785431\n",
      "base: 15283\n",
      "\n",
      "Iteración: 13\n",
      "acu: 682094\n",
      "base: 15860913\n",
      "\n",
      "Iteración: 14\n",
      "acu: 11508854\n",
      "base: 2314287\n",
      "\n",
      "Iteración: 15\n",
      "acu: 11508854\n",
      "base: 6452299\n",
      "\n",
      "Iteración: 16\n",
      "acu: 11508854\n",
      "base: 17649979\n",
      "\n",
      "Iteración: 17\n",
      "acu: 15616437\n",
      "base: 11515927\n",
      "\n",
      "Iteración: 18\n",
      "acu: 8921297\n",
      "base: 9800221\n",
      "\n",
      "Iteración: 19\n",
      "acu: 10593740\n",
      "base: 23701151\n",
      "\n",
      "Iteración: 20\n",
      "acu: 1995822\n",
      "base: 21932449\n",
      "\n",
      "Iteración: 21\n",
      "acu: 4173990\n",
      "base: 3214080\n",
      "\n",
      "Iteración: 22\n",
      "acu: 4173990\n",
      "base: 9845200\n",
      "\n",
      "Iteración: 23\n",
      "acu: 4173990\n",
      "base: 760573\n",
      "\n",
      "Iteración: 24\n",
      "acu: 16105485\n",
      "base: 18007697\n",
      "\n",
      "Iteración: 25\n",
      "acu: 1\n",
      "base: 13932984\n",
      "\n",
      "El resultado es 1\n"
     ]
    }
   ],
   "source": [
    "exponenciacion_rapida_dcha_izda(2,27213646,27213647,true)\n"
   ]
  },
  {
   "cell_type": "markdown",
   "metadata": {},
   "source": [
    "Como podemos ver da el mismo resultado del ejemplo en cada iteración. Vamos a realizar ahora el apartado 2."
   ]
  },
  {
   "cell_type": "code",
   "execution_count": 5,
   "metadata": {},
   "outputs": [
    {
     "name": "stdout",
     "output_type": "stream",
     "text": [
      "Probamos con la base 2\n",
      "\n",
      "Numero en binario=1100101000110111100010000\n",
      "El resultado es 19574020\n",
      "\n",
      "Probamos con la base 3\n",
      "\n",
      "Numero en binario=1100101000110111100010000\n",
      "El resultado es 12215788\n",
      "\n",
      "Probamos con la base 5\n",
      "\n",
      "Numero en binario=1100101000110111100010000\n",
      "El resultado es 5558275\n",
      "\n",
      "Probamos con la base 7\n",
      "\n",
      "Numero en binario=1100101000110111100010000\n",
      "El resultado es 14115151\n",
      "\n",
      "Probamos con la base 11\n",
      "\n",
      "Numero en binario=1100101000110111100010000\n",
      "El resultado es 4065986\n",
      "\n"
     ]
    }
   ],
   "source": [
    "for i in primos\n",
    "    println(\"Probamos con la base $i\")\n",
    "    println(\"\")\n",
    "    exponenciacion_rapida_dcha_izda(i,n-1,n,false) \n",
    "    println(\"\")\n",
    "end"
   ]
  },
  {
   "cell_type": "markdown",
   "metadata": {},
   "source": [
    "Ahora realizamos los mismos experimentos con la exponenciación rápida de izquierda a derecha."
   ]
  },
  {
   "cell_type": "code",
   "execution_count": 6,
   "metadata": {},
   "outputs": [
    {
     "data": {
      "text/plain": [
       "exponenciacion_rapida_izda_dcha (generic function with 2 methods)"
      ]
     },
     "execution_count": 6,
     "metadata": {},
     "output_type": "execute_result"
    }
   ],
   "source": [
    "function exponenciacion_rapida_izda_dcha(a,exp,m,print=false)\n",
    "    base=a\n",
    "    acu=1\n",
    "    num=exp\n",
    "    num_binario= string(num; base=2)\n",
    "    contador=0\n",
    "    \n",
    "    if print==true\n",
    "        println(\"Iteración: $contador\")\n",
    "        println(\"acu: $acu\")\n",
    "        println(\"\")\n",
    "    end\n",
    "    \n",
    "    println(num_binario)\n",
    "    for i in num_binario\n",
    "        if i!='0'\n",
    "            acu=mod(acu*acu*base,m)\n",
    "        else\n",
    "            acu=mod(acu*acu,m)\n",
    "        end\n",
    "        contador+=1\n",
    "        \n",
    "        if print==true\n",
    "            println(\"Iteración: $contador\")\n",
    "            println(\"acu: $acu\")\n",
    "            println(\"\")\n",
    "        end\n",
    "        \n",
    "    end\n",
    "    \n",
    "    println(\"El resultado es: $acu\")\n",
    "    \n",
    "end "
   ]
  },
  {
   "cell_type": "code",
   "execution_count": 7,
   "metadata": {
    "scrolled": true
   },
   "outputs": [
    {
     "name": "stdout",
     "output_type": "stream",
     "text": [
      "Iteración: 0\n",
      "acu: 1\n",
      "\n",
      "1100111110011111101001110\n",
      "Iteración: 1\n",
      "acu: 2\n",
      "\n",
      "Iteración: 2\n",
      "acu: 8\n",
      "\n",
      "Iteración: 3\n",
      "acu: 64\n",
      "\n",
      "Iteración: 4\n",
      "acu: 4096\n",
      "\n",
      "Iteración: 5\n",
      "acu: 6340785\n",
      "\n",
      "Iteración: 6\n",
      "acu: 6967674\n",
      "\n",
      "Iteración: 7\n",
      "acu: 2913255\n",
      "\n",
      "Iteración: 8\n",
      "acu: 5278505\n",
      "\n",
      "Iteración: 9\n",
      "acu: 8390032\n",
      "\n",
      "Iteración: 10\n",
      "acu: 21530122\n",
      "\n",
      "Iteración: 11\n",
      "acu: 20718507\n",
      "\n",
      "Iteración: 12\n",
      "acu: 6234754\n",
      "\n",
      "Iteración: 13\n",
      "acu: 14354021\n",
      "\n",
      "Iteración: 14\n",
      "acu: 18664779\n",
      "\n",
      "Iteración: 15\n",
      "acu: 21238793\n",
      "\n",
      "Iteración: 16\n",
      "acu: 9159785\n",
      "\n",
      "Iteración: 17\n",
      "acu: 1897988\n",
      "\n",
      "Iteración: 18\n",
      "acu: 6353813\n",
      "\n",
      "Iteración: 19\n",
      "acu: 22747524\n",
      "\n",
      "Iteración: 20\n",
      "acu: 12082479\n",
      "\n",
      "Iteración: 21\n",
      "acu: 22922644\n",
      "\n",
      "Iteración: 22\n",
      "acu: 15226206\n",
      "\n",
      "Iteración: 23\n",
      "acu: 8424067\n",
      "\n",
      "Iteración: 24\n",
      "acu: 1\n",
      "\n",
      "Iteración: 25\n",
      "acu: 1\n",
      "\n",
      "El resultado es: 1\n"
     ]
    }
   ],
   "source": [
    "exponenciacion_rapida_izda_dcha(2,27213646,27213647,true)"
   ]
  },
  {
   "cell_type": "code",
   "execution_count": 8,
   "metadata": {},
   "outputs": [
    {
     "name": "stdout",
     "output_type": "stream",
     "text": [
      "Probamos con la base 2\n",
      "\n",
      "1100101000110111100010000\n",
      "El resultado es: 19574020\n",
      "\n",
      "Probamos con la base 3\n",
      "\n",
      "1100101000110111100010000\n",
      "El resultado es: 12215788\n",
      "\n",
      "Probamos con la base 5\n",
      "\n",
      "1100101000110111100010000\n",
      "El resultado es: 5558275\n",
      "\n",
      "Probamos con la base 7\n",
      "\n",
      "1100101000110111100010000\n",
      "El resultado es: 14115151\n",
      "\n",
      "Probamos con la base 11\n",
      "\n",
      "1100101000110111100010000\n",
      "El resultado es: 4065986\n",
      "\n"
     ]
    }
   ],
   "source": [
    "for i in primos\n",
    "    println(\"Probamos con la base $i\")\n",
    "    println(\"\")\n",
    "    exponenciacion_rapida_izda_dcha(i,n-1,n)\n",
    "    println(\"\")\n",
    "end"
   ]
  },
  {
   "cell_type": "markdown",
   "metadata": {},
   "source": [
    "**3- ¿Es un Posible primo de Fermat para alguna de ellas? ¿Es n un pseudoprimo para alguna de ellas?**\n",
    "\n",
    "Como podemos ver el número n no es primo, pues para toda base probada $a^{n-1}$ mod n era distinto de 1. Por lo tanto no puede ser un posible primo de Fermat ni un pseudoprimo para ninguna base."
   ]
  },
  {
   "cell_type": "markdown",
   "metadata": {},
   "source": [
    "### Ejercicio 2\n",
    "\n",
    "Dado tu número n=26505013 de ocho cifras de la lista publicada. \n",
    "\n",
    "**1- Usa el algoritmo Manual para calcular el símbolo de Jacobi $(\\frac{p}{n})$, para $p$ cada uno de los 5 primeros primos.**"
   ]
  },
  {
   "cell_type": "markdown",
   "metadata": {},
   "source": [
    "En primer lugar vamos a programar el algoritmo para poder comprobar que son correctos los resultados obtenidos a mano: "
   ]
  },
  {
   "cell_type": "code",
   "execution_count": 9,
   "metadata": {},
   "outputs": [
    {
     "data": {
      "text/plain": [
       "simbolo_jacobi (generic function with 1 method)"
      ]
     },
     "execution_count": 9,
     "metadata": {},
     "output_type": "execute_result"
    }
   ],
   "source": [
    "function simbolo_jacobi(a,n)\n",
    "    t=1\n",
    "    m=abs(n)\n",
    "    b=mod(a,m)\n",
    "    \n",
    "    while a != 0\n",
    "        while mod(a,2)==0\n",
    "            a=a/2\n",
    "            if mod(m,8)==3 || mod(m,8)==5\n",
    "                t=-t\n",
    "            end\n",
    "        end\n",
    "        aux=a\n",
    "        a=m\n",
    "        m=aux\n",
    "        if mod(a,4)==mod(m,4)==3\n",
    "            t=-t\n",
    "        end \n",
    "        \n",
    "        a=mod(a,m)\n",
    "        \n",
    "    end\n",
    "        \n",
    "    if m==1\n",
    "        return t\n",
    "    else \n",
    "        return 0\n",
    "    end\n",
    "        \n",
    "    \n",
    "end"
   ]
  },
  {
   "cell_type": "markdown",
   "metadata": {},
   "source": [
    "Una vez programado el Algoritmo vamos a proceder a calcular a mano el símbolo de Jacobi para nuestro n con los cinco primeros primos: \n",
    "\n",
    "- Para $p=2$: \n",
    "\n",
    "    Como  $n \\equiv 5$ mod 8 tenemos que $(\\frac{2}{n})=-1$ aplicando la primera propiedad del símbolo de Jacobi.\n",
    "    \n",
    "- Para $p=3$: \n",
    "    \n",
    "    En este caso tanto $n$ como $p$ son impares, luego deben ser congruentes a 1 o a 3 módulo 4. \n",
    "    \n",
    "    Como $n \\equiv 1$ mod 4 $\\Rightarrow$ $(\\frac{3}{n})=(\\frac{n}{3})$\n",
    "    \n",
    "    Por otro lado como $n \\equiv 1$ mod 3 $\\Rightarrow$ $(\\frac{3}{n})=(\\frac{1}{3})=1$ ( ya que $2^2 \\equiv 1$ mod 3).\n",
    "    \n",
    "- Para $p=5$: \n",
    "\n",
    "    Como son ambos impares, al ser $5 \\equiv 1$ mod 4 se tiene que $(\\frac{5}{n})=(\\frac{n}{5})$.\n",
    "    \n",
    "    Del mismo modo como $n \\equiv 3$ mod 5 se tiene que $(\\frac{n}{5})=(\\frac{3}{5})$. \n",
    "    \n",
    "    Como  $5 \\equiv 1$ mod 4 $(\\frac{3}{5})=(\\frac{5}{3})$ y como $5 \\equiv 2$ mod 3 se tiene que $(\\frac{5}{3})=(\\frac{2}{3})$.\n",
    "    \n",
    "    Finalmente como $3\\equiv 3$ mod 8 se tiene que $(\\frac{2}{3})=-1$ por las primeras propiedades del símbolo de Jacobi. \n",
    "\n",
    "- Para $p=7$:\n",
    "\n",
    "    Ambos son impares y como $n \\equiv 1$ mod 4 $(\\frac{7}{n})=(\\frac{n}{7})$, por otro lado $n \\equiv 3$ mod 7, luego $(\\frac{n}{7})=(\\frac{3}{7})$. \n",
    "    \n",
    "    En este caso ambos números son congruentes con 3 módulo 4, luego las propiedades del símbolo de Jacobi nos dicen que $(\\frac{3}{7})=-(\\frac{7}{3})=-(\\frac{1}{3})=(-1)(1)=-1$. Pues ya habíamos calculado antes el símbolo de Jacobi de $\\frac{1}{3}$.\n",
    "    \n",
    "- Para $p=11$:\n",
    "    \n",
    "    Como $n \\equiv 1$ mod 4 $\\Rightarrow$ $(\\frac{11}{n})=(\\frac{n}{11})$, a su vez $(\\frac{n}{11})=(\\frac{7}{11})$ pues $n \\equiv 7$mod 11.\n",
    "    Como tanto 7 como 11 son congruentes con 3 módulo 4 se tiene que $(\\frac{7}{11})=-(\\frac{11}{7})=-(\\frac{4}{7})=-1$ pues $2^2 \\equiv 4$ mod 11."
   ]
  },
  {
   "cell_type": "markdown",
   "metadata": {},
   "source": [
    "Finalmente comprobemos que con el algoritmo implementado se obtienen los mismos resultados: "
   ]
  },
  {
   "cell_type": "code",
   "execution_count": 10,
   "metadata": {
    "scrolled": true
   },
   "outputs": [
    {
     "name": "stdout",
     "output_type": "stream",
     "text": [
      "simbolo de Jacobi obtenido para 2 / 26505013 = -1\n",
      "simbolo de Jacobi obtenido para 3 / 26505013 = 1\n",
      "simbolo de Jacobi obtenido para 5 / 26505013 = -1\n",
      "simbolo de Jacobi obtenido para 7 / 26505013 = -1\n",
      "simbolo de Jacobi obtenido para 11 / 26505013 = -1\n"
     ]
    }
   ],
   "source": [
    "for i in primos \n",
    "    s=simbolo_jacobi(i,26505013)\n",
    "    println(\"simbolo de Jacobi obtenido para $i / 26505013 = $s\")\n",
    "end "
   ]
  },
  {
   "cell_type": "markdown",
   "metadata": {},
   "source": [
    "Como podemos apreciar los resultados coinciden."
   ]
  },
  {
   "cell_type": "markdown",
   "metadata": {},
   "source": [
    "**2- Si para alguna de esas bases tu número sale posible primo de Fermat, comprueba si además es posible primo de Euler.**\n",
    "\n",
    "Vamos a utilizar el algoritmo de exponenciación rápida de izquierda a derecha implementado en el ejercicio anterior:"
   ]
  },
  {
   "cell_type": "code",
   "execution_count": 11,
   "metadata": {
    "scrolled": true
   },
   "outputs": [
    {
     "name": "stdout",
     "output_type": "stream",
     "text": [
      "Probamos con la base 2\n",
      "\n",
      "1100101000110111100110100\n",
      "El resultado es: 1\n",
      "\n",
      "Probamos con la base 3\n",
      "\n",
      "1100101000110111100110100\n",
      "El resultado es: 1\n",
      "\n",
      "Probamos con la base 5\n",
      "\n",
      "1100101000110111100110100\n",
      "El resultado es: 1\n",
      "\n",
      "Probamos con la base 7\n",
      "\n",
      "1100101000110111100110100\n",
      "El resultado es: 1\n",
      "\n",
      "Probamos con la base 11\n",
      "\n",
      "1100101000110111100110100\n",
      "El resultado es: 1\n",
      "\n"
     ]
    }
   ],
   "source": [
    "for i in primos\n",
    "    println(\"Probamos con la base $i\")\n",
    "    println(\"\")\n",
    "    exponenciacion_rapida_izda_dcha(i,26505012,26505013) \n",
    "    println(\"\")\n",
    "end"
   ]
  },
  {
   "cell_type": "markdown",
   "metadata": {},
   "source": [
    "Como podemos ver, tras las 25 iteraciones nuestro número sale posible primo de Fermat para cada base escogida, veamos ahora si es posible primo de Euler. \n",
    "\n",
    "Para ver si es posible primo de Euler debemos comprobar el test de  SOLOVAY-STRASSEN de manera que si se cumple lo siguiente: \n",
    "\n",
    "$$(\\frac{a}{n}) \\equiv a^{(n-1)/2} \\; mod \\; n$$\n",
    "\n",
    "Se dirá que n es un posible primo de Euler para a, y en caso contrario se tendrá que n es compuesto.\n",
    "\n",
    "Por un lado la parte izquierda de la equivalencia la hemos calculado ya, veamos la parte derecha.\n",
    "\n",
    "De nuevo nos ayudaremos del algoritmo de exponenciación rápida.\n",
    "\n"
   ]
  },
  {
   "cell_type": "markdown",
   "metadata": {},
   "source": [
    "A continuación probamos el algoritmo con los valores del ejercicio"
   ]
  },
  {
   "cell_type": "code",
   "execution_count": 12,
   "metadata": {
    "scrolled": true
   },
   "outputs": [
    {
     "name": "stdout",
     "output_type": "stream",
     "text": [
      "El exponente es: 13252506\n",
      "Probamos con la base 2\n",
      "\n",
      "110010100011011110011010\n",
      "El resultado es: 26505012\n",
      "\n",
      "Probamos con la base 3\n",
      "\n",
      "110010100011011110011010\n",
      "El resultado es: 1\n",
      "\n",
      "Probamos con la base 5\n",
      "\n",
      "110010100011011110011010\n",
      "El resultado es: 26505012\n",
      "\n",
      "Probamos con la base 7\n",
      "\n",
      "110010100011011110011010\n",
      "El resultado es: 26505012\n",
      "\n",
      "Probamos con la base 11\n",
      "\n",
      "110010100011011110011010\n",
      "El resultado es: 26505012\n",
      "\n"
     ]
    }
   ],
   "source": [
    "m=13252506\n",
    "n=26505013\n",
    "println(\"El exponente es: $m\")\n",
    "\n",
    "for i in primos\n",
    "    println(\"Probamos con la base $i\")\n",
    "    println(\"\")\n",
    "    exponenciacion_rapida_izda_dcha(i,m,n) \n",
    "    println(\"\")\n",
    "end"
   ]
  },
  {
   "cell_type": "markdown",
   "metadata": {},
   "source": [
    "Como podemos observar coinciden con el valor del símbolo de Jacobi para cada primo, luego podemos decir que el número n es un posible primo de Euler para 2,3,5,7 y 11."
   ]
  },
  {
   "cell_type": "markdown",
   "metadata": {},
   "source": [
    "Como curiosidad, he estado investigando y existe una forma más eficiente de realizar la exponenciación rápida ayudándose de las operaciones lógicas de Julia que operan bit a bit y nos podemos evitar convertir el número a binario de forma explícita pues Julia trabajaría con el exponente en binario con estas operaciones, de esta forma usaremos el and a nivel de bits \"&\" con 1 para identificar si el valor actual del exponente es par (devuelve 0) o impar (devuelve 1) y en cada iteración desplazaremos a la derecha el valor del exponente a nivel de bits, esto es, por ejemplo en la iteración i-ésima el valor en binario del exponente es 1101, en la iteración siguiente será 110.\n",
    "\n",
    "De esta forma el algoritmo quedaría de la siguiente manera:\n"
   ]
  },
  {
   "cell_type": "code",
   "execution_count": 13,
   "metadata": {},
   "outputs": [
    {
     "data": {
      "text/plain": [
       "exponenciacion_rapida_modificado (generic function with 1 method)"
      ]
     },
     "execution_count": 13,
     "metadata": {},
     "output_type": "execute_result"
    }
   ],
   "source": [
    "function exponenciacion_rapida_modificado(base,exp,m)\n",
    "    acu=1\n",
    "    \n",
    "    while exp>0 \n",
    "        if (exp&1)>0 \n",
    "            acu=mod(acu*base,m)\n",
    "        end\n",
    "        \n",
    "        exp>>=1\n",
    "        base=mod(base*base,m)\n",
    "        \n",
    "    end\n",
    "    \n",
    "    println(\"El resultado es: $acu\")\n",
    "end"
   ]
  },
  {
   "cell_type": "markdown",
   "metadata": {},
   "source": [
    "Como podemos observar se producen los mismos resultados para el ejercicio: \n"
   ]
  },
  {
   "cell_type": "code",
   "execution_count": 14,
   "metadata": {},
   "outputs": [
    {
     "name": "stdout",
     "output_type": "stream",
     "text": [
      "El exponente es: 13252506\n",
      "Probamos con la base 2\n",
      "El resultado es: 26505012\n",
      "\n",
      "Probamos con la base 3\n",
      "El resultado es: 1\n",
      "\n",
      "Probamos con la base 5\n",
      "El resultado es: 26505012\n",
      "\n",
      "Probamos con la base 7\n",
      "El resultado es: 26505012\n",
      "\n",
      "Probamos con la base 11\n",
      "El resultado es: 26505012\n",
      "\n"
     ]
    }
   ],
   "source": [
    "m=13252506\n",
    "n=26505013\n",
    "println(\"El exponente es: $m\")\n",
    "\n",
    "for i in primos\n",
    "    println(\"Probamos con la base $i\")\n",
    "    exponenciacion_rapida_modificado(i,m,n) \n",
    "    println(\"\")\n",
    "end"
   ]
  },
  {
   "cell_type": "markdown",
   "metadata": {},
   "source": [
    "**3- ¿Es tu número n pseudoprimo de Fermat o de Euler para alguna de las bases?**\n",
    "\n",
    "En nuestro caso sería un pseudoprimo de Euler y de Fermat para todas las bases probadas, lo que nos permite concluir que nuestro n sería primo con cierta probabilidad."
   ]
  }
 ],
 "metadata": {
  "kernelspec": {
   "display_name": "Julia 1.7.2",
   "language": "julia",
   "name": "julia-1.7"
  },
  "language_info": {
   "file_extension": ".jl",
   "mimetype": "application/julia",
   "name": "julia",
   "version": "1.7.2"
  }
 },
 "nbformat": 4,
 "nbformat_minor": 4
}
