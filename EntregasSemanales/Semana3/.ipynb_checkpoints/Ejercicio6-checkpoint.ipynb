{
 "cells": [
  {
   "cell_type": "code",
   "execution_count": 1,
   "metadata": {},
   "outputs": [],
   "source": [
    "from math import gcd\n",
    "\n",
    "n=13250459\n",
    "\n",
    "def f(x):\n",
    "    return x*x+1\n",
    "\n",
    "def rho_de_polard(n,imprime=False): \n",
    "    x=1\n",
    "    y=1\n",
    "    contador=0\n",
    "    resultado=1\n",
    "    \n",
    "    if imprime:\n",
    "        print(\"Iteracion \", contador)\n",
    "        print(\"x: \",x,\" y:\",y , \" mcd: \", resultado)\n",
    "\n",
    "    while resultado==1 or resultado == n:\n",
    "        x=f(x)%n\n",
    "        y=f(f(y))%n\n",
    "        resultado=gcd(x-y,n)\n",
    "        contador+=1\n",
    "        \n",
    "        if imprime:\n",
    "            print(\"Iteracion \", contador)\n",
    "            print(\"x: \",x,\" y:\",y , \" mcd: \", resultado)\n",
    "        if 1<resultado<n:\n",
    "            return resultado\n",
    "    \n",
    "    return \"No hay divisores\"\n",
    "        \n",
    "        "
   ]
  },
  {
   "cell_type": "code",
   "execution_count": 2,
   "metadata": {},
   "outputs": [],
   "source": [
    "def ParteEntera(n):\n",
    "    if n%2==0:\n",
    "        a=n//2\n",
    "    else:\n",
    "        a=(n+1)//2\n",
    "    \n",
    "    contador=1\n",
    "    b=0\n",
    "    c=0\n",
    "    encontrado=False \n",
    "    \n",
    "    while encontrado==False: \n",
    "        b=a*a+n\n",
    "        contador+=1\n",
    "        c=b//(2*a)\n",
    "        \n",
    "        if c>=a:\n",
    "            encontrado=True\n",
    "        else:\n",
    "            a=c\n",
    "    \n",
    "    return a\n",
    "\n",
    "        "
   ]
  },
  {
   "cell_type": "markdown",
   "metadata": {},
   "source": [
    "# Ejercicio 6\n",
    "  \n",
    "  **Dado p=4987, el primo de mayor periodo del ejercicio anterior** \n",
    "  \n",
    "  **1. Calcula los convergentes de $\\sqrt{p}$**.\n",
    "  \n",
    "  **2. Calcula las soluciones de las ecuaciones de Pell, $x^2 - py^2 = ±1$**"
   ]
  },
  {
   "cell_type": "markdown",
   "metadata": {},
   "source": [
    "En primer lugar vamos a añadir unas mejoras a la función para que calcule los convergentes y las soluciones de las ecuaciones de Pell."
   ]
  },
  {
   "cell_type": "code",
   "execution_count": 3,
   "metadata": {},
   "outputs": [],
   "source": [
    "def FCS_convergentes_(n):\n",
    "    alpha=n\n",
    "    q_fijo=ParteEntera(alpha)\n",
    "    fcs=[]\n",
    "    convergentes=[]\n",
    "    soluciones=[]\n",
    "    A=[1,q_fijo]\n",
    "    B=[0,1]\n",
    "    i=1 #Contador de posición para A y B\n",
    "    q=q_fijo\n",
    "    P_sig=0\n",
    "    P_act=0\n",
    "    Q_act=1\n",
    "    Q_sig=1\n",
    "    \n",
    "    entra=False\n",
    "    \n",
    "    fcs.append(q)\n",
    "    convergentes.append(A[i]/B[i])\n",
    "    while 2*q_fijo!=q:\n",
    "        if Q_act==4:\n",
    "            soluciones.append((A_act,B_act))\n",
    "            entra=True\n",
    "            \n",
    "        P_sig=q*Q_act-P_act\n",
    "        Q_sig=(n-P_sig*P_sig)//Q_act\n",
    "        q=(P_sig+q_fijo)//Q_sig\n",
    "\n",
    "        fcs.append(q)\n",
    "        P_act=P_sig\n",
    "        Q_act=Q_sig\n",
    "        A.append(q*A[i]+A[i-1])\n",
    "        B.append(q*B[i]+B[i-1])\n",
    "        i+=1\n",
    "        convergentes.append(A[i]/B[i])\n",
    "    \n",
    "    if entra==False:\n",
    "        soluciones.append((A[len(fcs)],B[len(fcs)]))\n",
    "        \n",
    "    \n",
    "    return fcs,convergentes,soluciones"
   ]
  },
  {
   "cell_type": "code",
   "execution_count": 7,
   "metadata": {},
   "outputs": [
    {
     "name": "stdout",
     "output_type": "stream",
     "text": [
      "FCS: [70, 1, 1, 1, 1, 1, 1, 1, 5, 1, 4, 46, 1, 6, 1, 6, 1, 1, 3, 1, 2, 1, 14, 1, 22, 1, 1, 1, 1, 12, 4, 4, 1, 69, 1, 4, 4, 12, 1, 1, 1, 1, 22, 1, 14, 1, 2, 1, 3, 1, 1, 6, 1, 6, 1, 46, 4, 1, 5, 1, 1, 1, 1, 1, 1, 1, 140]\n",
      "\n",
      "Convergentes: [70.0, 71.0, 70.5, 70.66666666666667, 70.6, 70.625, 70.61538461538461, 70.61904761904762, 70.61864406779661, 70.61870503597122, 70.6186943620178, 70.61869440965867, 70.61869440864946, 70.61869440879101, 70.61869440877327, 70.61869440877553, 70.61869440877524, 70.61869440877537, 70.61869440877535, 70.61869440877535, 70.61869440877535, 70.61869440877535, 70.61869440877535, 70.61869440877535, 70.61869440877535, 70.61869440877535, 70.61869440877535, 70.61869440877535, 70.61869440877535, 70.61869440877535, 70.61869440877535, 70.61869440877535, 70.61869440877535, 70.61869440877535, 70.61869440877535, 70.61869440877535, 70.61869440877535, 70.61869440877535, 70.61869440877535, 70.61869440877535, 70.61869440877535, 70.61869440877535, 70.61869440877535, 70.61869440877535, 70.61869440877535, 70.61869440877535, 70.61869440877535, 70.61869440877535, 70.61869440877535, 70.61869440877535, 70.61869440877535, 70.61869440877535, 70.61869440877535, 70.61869440877535, 70.61869440877535, 70.61869440877535, 70.61869440877535, 70.61869440877535, 70.61869440877535, 70.61869440877535, 70.61869440877535, 70.61869440877535, 70.61869440877535, 70.61869440877535, 70.61869440877535, 70.61869440877535, 70.61869440877535]\n",
      "\n",
      "Soluciones:  [(719704422302267113395432178632101, 10191415011671948990992687640732)]\n"
     ]
    }
   ],
   "source": [
    "a,b,c=FCS_convergentes_(4987)\n",
    "print(\"FCS:\",a)\n",
    "print()\n",
    "print(\"Convergentes:\",b)\n",
    "print()\n",
    "print(\"Soluciones: \", c)"
   ]
  },
  {
   "cell_type": "markdown",
   "metadata": {},
   "source": [
    "Como vemos las convergentes se calculan correctamente y convergen al irracional $sqrt{p}$. Por otro lado, como sabemos que las soluciones de las ecuaciones de Pell se encuentran entre los convergentes obtenemos que los valores de $A=719704422302267113395432178632101$ y $B=10191415011671948990992687640732$ se corresponden con la solución fundamental del la ecuación $x^2 - py^2 = 1$"
   ]
  },
  {
   "cell_type": "code",
   "execution_count": 9,
   "metadata": {},
   "outputs": [
    {
     "data": {
      "text/plain": [
       "1"
      ]
     },
     "execution_count": 9,
     "metadata": {},
     "output_type": "execute_result"
    }
   ],
   "source": [
    "(719704422302267113395432178632101^2-4987*10191415011671948990992687640732^2)%4"
   ]
  },
  {
   "cell_type": "code",
   "execution_count": null,
   "metadata": {},
   "outputs": [],
   "source": []
  }
 ],
 "metadata": {
  "kernelspec": {
   "display_name": "Python 3",
   "language": "python",
   "name": "python3"
  },
  "language_info": {
   "codemirror_mode": {
    "name": "ipython",
    "version": 3
   },
   "file_extension": ".py",
   "mimetype": "text/x-python",
   "name": "python",
   "nbconvert_exporter": "python",
   "pygments_lexer": "ipython3",
   "version": "3.8.10"
  }
 },
 "nbformat": 4,
 "nbformat_minor": 4
}
